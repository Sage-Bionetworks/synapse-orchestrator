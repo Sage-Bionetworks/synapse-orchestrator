{
 "cells": [
  {
   "cell_type": "markdown",
   "metadata": {},
   "source": [
    "# GA4GH Workflow Portability Testbed App\n",
    "\n",
    "## Summary\n",
    "\n",
    "The overall testbed goal is to demonstrate interoperability between multiple workflows running in multiple Workflow Execution Service (WES)-compatible environments. For Toronto, we intend to demonstrate the following: one **workflow** running in one WES-compatible **environment**; the demonstration workflow should nominally be registered in one **workflow library — i.e., tool registry service (TRS)**, and operations will be controlled by one **orchestrator** (represented by the `synorchestrator` library used below).\n",
    "\n",
    "For the testbed app, the orchestrator performs three primary functions:\n",
    "1. makes TRS call to identify and fetch the *checker* workflow for a selected workflow\n",
    "2. makes WES call to run checker workflow\n",
    "3. monitors and reports results\n",
    "\n",
    "For more information on checker workflows, refer to the [tutorial](https://docs.dockstore.org/docs/publisher-tutorials/checker-workflows/) in Dockstore.\n"
   ]
  },
  {
   "cell_type": "markdown",
   "metadata": {},
   "source": [
    "## Setup\n",
    "\n",
    "Start by loading the `orchestrator` and `config` modules from **`synorchestrator`**. **Note:** this notebook assumes that the `synorchestrator` module and its dependencies are already installed; documentation for installing the orchestrator app and registering workflows, TRS endpoints, and WES endponts will be available soon."
   ]
  },
  {
   "cell_type": "code",
   "execution_count": 1,
   "metadata": {},
   "outputs": [],
   "source": [
    "from synorchestrator import orchestrator\n",
    "from synorchestrator import config"
   ]
  },
  {
   "cell_type": "markdown",
   "metadata": {},
   "source": [
    "### View available workflows, tool registries, and workflow services\n",
    "\n",
    "The `config.show()` function will display a slightly abbreviated/redacted version of the stored configurations for workflow evaluation queues, tool registries, and workflow execution services registered with the orchestrator app.\n",
    "\n",
    "This is intended to give the user a sense for which workflow/WES combinations to check."
   ]
  },
  {
   "cell_type": "code",
   "execution_count": 2,
   "metadata": {},
   "outputs": [
    {
     "name": "stdout",
     "output_type": "stream",
     "text": [
      "\n",
      "Orchestrator options:\n",
      "\n",
      "Workflow Evaluation Queues\n",
      "(queue ID: workflow ID [workflow type])\n",
      "---------------------------------------------------------------------------\n",
      "wflow0: github.com/dockstore-testing/md5sum-checker [CWL]\n",
      "wflow1: github.com/dockstore-testing/md5sum-checker/wdl [WDL]\n",
      "wflow2: github.com/DataBiosphere/topmed-workflows/TopMed_Variant_Caller [WDL]\n",
      "wflow3: github.com/DataBiosphere/topmed-workflows/u_of_Michigan_alignment_pipeline [WDL]\n",
      "\n",
      "Tool Registries\n",
      "(TRS ID: host address)\n",
      "---------------------------------------------------------------------------\n",
      "dockstore: dockstore.org:8443\n",
      "\n",
      "Workflow Services\n",
      "(WES ID: host address)\n",
      "---------------------------------------------------------------------------\n",
      "hca-cromwell: g0n2qjnu94.execute-api.us-east-1.amazonaws.com/test\n",
      "broad-cromwell: 35.226.102.121:9090\n",
      "arvados-wes: wes.qr1hi.arvadosapi.com\n",
      "local: 0.0.0.0:8080\n"
     ]
    }
   ],
   "source": [
    "config.show()"
   ]
  },
  {
   "cell_type": "markdown",
   "metadata": {},
   "source": [
    "#### Some comments on `config.show()`\n",
    "\n",
    "Based on experiences with workflow orchestration thus far, we plan to provide the following additional details in order to inform testbed administration:\n",
    "\n",
    "- workflow evaluation queues:\n",
    "    - workflow *version* — currently specified in the evaluation queue config, but not presented — this is a required piece of information for retrieving workflow data from TRS\n",
    "    - TRS ID — the workflow ID is meaningless without the context of the TRS implementation in which it is registered\n",
    "    - workflow *type version* — both CWL and WDL (and other languages that might be supported in the future) are under active developtment; the language version used to produce the workflow of interest will dictate which WES endpoints are compatible for execution\n",
    "- workflow services:\n",
    "    - workflow types & version — a complete list of the workflow types (e.g., CWL, WDL) and respective language versions supported by the WES endpoint will allow the user to select realistic combinations for testing\n",
    "    - filesystem protocol — protocols such as 'http', 'https', 'sftp', 's3', 'gs', 'file', 'synapse', or others as supported by the service; this is **as important** as workflow type and version for ensuring successful execution of workflow-parameter-WES combinations"
   ]
  },
  {
   "cell_type": "markdown",
   "metadata": {},
   "source": [
    "## Testbed execution\n",
    "\n",
    "### Specify workflows and execution service endpoints\n",
    "\n",
    "`orchestrator.run_all()` is the central function for the testbed app. By supplying a map of workflow evaluation queues to registered WES endpoints, a user can automatically deploy multiple workflows in multiple environments. The `checker` argument instructs the orchestrator to identify and submit the registered checker workflow and test parameters for each workflow.\n",
    "\n",
    "The logging output from the orchestrator provides a glimpse of what's happening within the application and with API calls to external TRS and WES endpoints."
   ]
  },
  {
   "cell_type": "code",
   "execution_count": 3,
   "metadata": {},
   "outputs": [
    {
     "name": "stderr",
     "output_type": "stream",
     "text": [
      "INFO:synorchestrator.orchestrator:Preparing checker workflow run request for 'github.com/DataBiosphere/topmed-workflows/u_of_Michigan_alignment_pipeline' from  'dockstore''\n",
      "INFO:root:retrieving workflow entry from tools/%23workflow%2Fgithub.com%2FDataBiosphere%2Ftopmed-workflows%2Fu_of_Michigan_alignment_pipeline\n",
      "INFO:synorchestrator.trs.client:found checker workflow: github.com/DataBiosphere/topmed-workflows/u_of_Michigan_alignment_pipeline_wdl_checker\n",
      "INFO:root:retrieving workflow entry from tools/%23workflow%2Fgithub.com%2FDataBiosphere%2Ftopmed-workflows%2Fu_of_Michigan_alignment_pipeline_wdl_checker\n",
      "INFO:synorchestrator.trs.client:getting descriptor from tools/%23workflow%2Fgithub.com%2FDataBiosphere%2Ftopmed-workflows%2Fu_of_Michigan_alignment_pipeline_wdl_checker/versions/1.13.0/WDL/descriptor\n",
      "INFO:synorchestrator.trs.client:getting descriptor from tools/%23workflow%2Fgithub.com%2FDataBiosphere%2Ftopmed-workflows%2Fu_of_Michigan_alignment_pipeline_wdl_checker/versions/1.13.0/WDL/descriptor\n",
      "INFO:synorchestrator.eval:Created new job submission:\n",
      " - submission ID: 300530130554604938\n",
      "INFO:synorchestrator.orchestrator:Preparing checker workflow run request for 'github.com/DataBiosphere/topmed-workflows/u_of_Michigan_alignment_pipeline' from  'dockstore''\n",
      "INFO:root:retrieving workflow entry from tools/%23workflow%2Fgithub.com%2FDataBiosphere%2Ftopmed-workflows%2Fu_of_Michigan_alignment_pipeline\n",
      "INFO:synorchestrator.trs.client:found checker workflow: github.com/DataBiosphere/topmed-workflows/u_of_Michigan_alignment_pipeline_wdl_checker\n",
      "INFO:root:retrieving workflow entry from tools/%23workflow%2Fgithub.com%2FDataBiosphere%2Ftopmed-workflows%2Fu_of_Michigan_alignment_pipeline_wdl_checker\n",
      "INFO:synorchestrator.trs.client:getting descriptor from tools/%23workflow%2Fgithub.com%2FDataBiosphere%2Ftopmed-workflows%2Fu_of_Michigan_alignment_pipeline_wdl_checker/versions/1.13.0/WDL/descriptor\n",
      "INFO:synorchestrator.trs.client:getting descriptor from tools/%23workflow%2Fgithub.com%2FDataBiosphere%2Ftopmed-workflows%2Fu_of_Michigan_alignment_pipeline_wdl_checker/versions/1.13.0/WDL/descriptor\n",
      "INFO:synorchestrator.eval:Created new job submission:\n",
      " - submission ID: 300530130556466035\n",
      "INFO:synorchestrator.orchestrator:Preparing checker workflow run request for 'github.com/DataBiosphere/topmed-workflows/TopMed_Variant_Caller' from  'dockstore''\n",
      "INFO:root:retrieving workflow entry from tools/%23workflow%2Fgithub.com%2FDataBiosphere%2Ftopmed-workflows%2FTopMed_Variant_Caller\n",
      "INFO:synorchestrator.trs.client:found checker workflow: github.com/DataBiosphere/topmed-workflows/TopMed_Variant_Caller_wdl_checker\n",
      "INFO:root:retrieving workflow entry from tools/%23workflow%2Fgithub.com%2FDataBiosphere%2Ftopmed-workflows%2FTopMed_Variant_Caller_wdl_checker\n",
      "INFO:synorchestrator.trs.client:getting descriptor from tools/%23workflow%2Fgithub.com%2FDataBiosphere%2Ftopmed-workflows%2FTopMed_Variant_Caller_wdl_checker/versions/1.11.0/WDL/descriptor\n",
      "INFO:synorchestrator.trs.client:getting descriptor from tools/%23workflow%2Fgithub.com%2FDataBiosphere%2Ftopmed-workflows%2FTopMed_Variant_Caller_wdl_checker/versions/1.11.0/WDL/descriptor\n",
      "INFO:synorchestrator.eval:Created new job submission:\n",
      " - submission ID: 300530130558555810\n",
      "INFO:synorchestrator.orchestrator:Preparing checker workflow run request for 'github.com/DataBiosphere/topmed-workflows/TopMed_Variant_Caller' from  'dockstore''\n",
      "INFO:root:retrieving workflow entry from tools/%23workflow%2Fgithub.com%2FDataBiosphere%2Ftopmed-workflows%2FTopMed_Variant_Caller\n",
      "INFO:synorchestrator.trs.client:found checker workflow: github.com/DataBiosphere/topmed-workflows/TopMed_Variant_Caller_wdl_checker\n",
      "INFO:root:retrieving workflow entry from tools/%23workflow%2Fgithub.com%2FDataBiosphere%2Ftopmed-workflows%2FTopMed_Variant_Caller_wdl_checker\n",
      "INFO:synorchestrator.trs.client:getting descriptor from tools/%23workflow%2Fgithub.com%2FDataBiosphere%2Ftopmed-workflows%2FTopMed_Variant_Caller_wdl_checker/versions/1.11.0/WDL/descriptor\n",
      "INFO:synorchestrator.trs.client:getting descriptor from tools/%23workflow%2Fgithub.com%2FDataBiosphere%2Ftopmed-workflows%2FTopMed_Variant_Caller_wdl_checker/versions/1.11.0/WDL/descriptor\n",
      "INFO:synorchestrator.eval:Created new job submission:\n",
      " - submission ID: 300530130600448081\n",
      "INFO:synorchestrator.orchestrator:Preparing checker workflow run request for 'github.com/dockstore-testing/md5sum-checker' from  'dockstore''\n",
      "INFO:root:retrieving workflow entry from tools/%23workflow%2Fgithub.com%2Fdockstore-testing%2Fmd5sum-checker\n",
      "INFO:synorchestrator.trs.client:found checker workflow: github.com/dockstore-testing/md5sum-checker/_cwl_checker\n",
      "INFO:root:retrieving workflow entry from tools/%23workflow%2Fgithub.com%2Fdockstore-testing%2Fmd5sum-checker%2F_cwl_checker\n",
      "INFO:synorchestrator.trs.client:getting descriptor from tools/%23workflow%2Fgithub.com%2Fdockstore-testing%2Fmd5sum-checker%2F_cwl_checker/versions/develop/CWL/descriptor\n",
      "INFO:synorchestrator.trs.client:getting descriptor from tools/%23workflow%2Fgithub.com%2Fdockstore-testing%2Fmd5sum-checker%2F_cwl_checker/versions/develop/CWL/descriptor\n",
      "INFO:synorchestrator.eval:Created new job submission:\n",
      " - submission ID: 300530130604559294\n",
      "INFO:synorchestrator.orchestrator:Preparing checker workflow run request for 'github.com/dockstore-testing/md5sum-checker' from  'dockstore''\n",
      "INFO:root:retrieving workflow entry from tools/%23workflow%2Fgithub.com%2Fdockstore-testing%2Fmd5sum-checker\n",
      "INFO:synorchestrator.trs.client:found checker workflow: github.com/dockstore-testing/md5sum-checker/_cwl_checker\n",
      "INFO:root:retrieving workflow entry from tools/%23workflow%2Fgithub.com%2Fdockstore-testing%2Fmd5sum-checker%2F_cwl_checker\n",
      "INFO:synorchestrator.trs.client:getting descriptor from tools/%23workflow%2Fgithub.com%2Fdockstore-testing%2Fmd5sum-checker%2F_cwl_checker/versions/develop/CWL/descriptor\n",
      "INFO:synorchestrator.trs.client:getting descriptor from tools/%23workflow%2Fgithub.com%2Fdockstore-testing%2Fmd5sum-checker%2F_cwl_checker/versions/develop/CWL/descriptor\n",
      "INFO:synorchestrator.eval:Created new job submission:\n",
      " - submission ID: 300530130607804340\n",
      "INFO:synorchestrator.orchestrator:Submitting job '300530130556466035' for eval 'wflow3' to WES endpoint 'broad-cromwell'\n",
      "INFO:synorchestrator.orchestrator:Submitting job '300530130554604938' for eval 'wflow3' to WES endpoint 'hca-cromwell'\n",
      "INFO:synorchestrator.orchestrator:Submitting job '300530130600448081' for eval 'wflow2' to WES endpoint 'broad-cromwell'\n",
      "INFO:synorchestrator.orchestrator:Submitting job '300530130558555810' for eval 'wflow2' to WES endpoint 'hca-cromwell'\n",
      "INFO:synorchestrator.orchestrator:Submitting job '300530130604559294' for eval 'wflow0' to WES endpoint 'arvados-wes'\n",
      "INFO:synorchestrator.orchestrator:Submitting job '300530130607804340' for eval 'wflow0' to WES endpoint 'broad-cromwell'\n"
     ]
    }
   ],
   "source": [
    "submissions = orchestrator.run_all(\n",
    "    {\n",
    "        'wflow0': ['arvados-wes', 'broad-cromwell'],\n",
    "        'wflow2': ['hca-cromwell', 'broad-cromwell'],\n",
    "        'wflow3': ['hca-cromwell', 'broad-cromwell']\n",
    "    },\n",
    "    checker=True\n",
    ")"
   ]
  },
  {
   "cell_type": "markdown",
   "metadata": {},
   "source": [
    "### Monitor workflow runs\n",
    "\n",
    "The `orchestrator.monitor()` function currently updates and outputs a **pandas** dataframe every ~1s, displaying the current status of all workflow runs for the specified testbed submissions. The `submission_status` for each checker workflow job should nominally be updated after the corresponding WES run completes (but this hasn't been fully implemented)."
   ]
  },
  {
   "cell_type": "code",
   "execution_count": 4,
   "metadata": {},
   "outputs": [
    {
     "data": {
      "text/html": [
       "<div>\n",
       "<style scoped>\n",
       "    .dataframe tbody tr th:only-of-type {\n",
       "        vertical-align: middle;\n",
       "    }\n",
       "\n",
       "    .dataframe tbody tr th {\n",
       "        vertical-align: top;\n",
       "    }\n",
       "\n",
       "    .dataframe thead th {\n",
       "        text-align: right;\n",
       "    }\n",
       "</style>\n",
       "<table border=\"1\" class=\"dataframe\">\n",
       "  <thead>\n",
       "    <tr style=\"text-align: right;\">\n",
       "      <th></th>\n",
       "      <th></th>\n",
       "      <th>submission_status</th>\n",
       "      <th>elapsed_time</th>\n",
       "      <th>job</th>\n",
       "      <th>wes_id</th>\n",
       "      <th>queue_id</th>\n",
       "      <th>run_status</th>\n",
       "      <th>run_id</th>\n",
       "      <th>start_time</th>\n",
       "    </tr>\n",
       "  </thead>\n",
       "  <tbody>\n",
       "    <tr>\n",
       "      <th rowspan=\"2\" valign=\"top\">TopMed_Variant_Caller</th>\n",
       "      <th>300530130558555810</th>\n",
       "      <td>SUBMITTED</td>\n",
       "      <td>0h:1m:12s</td>\n",
       "      <td>checker</td>\n",
       "      <td>hca-cromwell</td>\n",
       "      <td>TopMed_Variant_Caller</td>\n",
       "      <td>COMPLETE</td>\n",
       "      <td>d4b2928f-c0a4-417d-9325-5a0e04f154f0</td>\n",
       "      <td>Wed May 30 13:06:09 2018</td>\n",
       "    </tr>\n",
       "    <tr>\n",
       "      <th>300530130600448081</th>\n",
       "      <td>SUBMITTED</td>\n",
       "      <td>0h:22m:34s</td>\n",
       "      <td>checker</td>\n",
       "      <td>broad-cromwell</td>\n",
       "      <td>TopMed_Variant_Caller</td>\n",
       "      <td>COMPLETE</td>\n",
       "      <td>a114e235-9d91-46df-9bea-ec6bea7a960c</td>\n",
       "      <td>Wed May 30 13:06:09 2018</td>\n",
       "    </tr>\n",
       "    <tr>\n",
       "      <th rowspan=\"2\" valign=\"top\">md5sum-checker</th>\n",
       "      <th>300530130604559294</th>\n",
       "      <td>SUBMITTED</td>\n",
       "      <td>0</td>\n",
       "      <td>checker</td>\n",
       "      <td>arvados-wes</td>\n",
       "      <td>md5sum-checker</td>\n",
       "      <td>COMPLETE</td>\n",
       "      <td>qr1hi-xvhdp-wx5tzs1p4cbrfe4</td>\n",
       "      <td>Wed May 30 13:06:10 2018</td>\n",
       "    </tr>\n",
       "    <tr>\n",
       "      <th>300530130607804340</th>\n",
       "      <td>SUBMITTED</td>\n",
       "      <td>0h:0m:16s</td>\n",
       "      <td>checker</td>\n",
       "      <td>broad-cromwell</td>\n",
       "      <td>md5sum-checker</td>\n",
       "      <td>EXECUTOR_ERROR</td>\n",
       "      <td>eaf4267d-c928-470e-b53c-74d0cf1b1ca0</td>\n",
       "      <td>Wed May 30 13:06:10 2018</td>\n",
       "    </tr>\n",
       "    <tr>\n",
       "      <th rowspan=\"2\" valign=\"top\">u_of_Michigan_alignment_pipeline</th>\n",
       "      <th>300530130554604938</th>\n",
       "      <td>SUBMITTED</td>\n",
       "      <td>0h:1m:8s</td>\n",
       "      <td>checker</td>\n",
       "      <td>hca-cromwell</td>\n",
       "      <td>u_of_Michigan_alignment_pipeline</td>\n",
       "      <td>COMPLETE</td>\n",
       "      <td>dfa545e9-b84c-460d-b1f6-2f7af4bcb1c6</td>\n",
       "      <td>Wed May 30 13:06:09 2018</td>\n",
       "    </tr>\n",
       "    <tr>\n",
       "      <th>300530130556466035</th>\n",
       "      <td>SUBMITTED</td>\n",
       "      <td>0h:25m:55s</td>\n",
       "      <td>checker</td>\n",
       "      <td>broad-cromwell</td>\n",
       "      <td>u_of_Michigan_alignment_pipeline</td>\n",
       "      <td>COMPLETE</td>\n",
       "      <td>ec44c275-cac1-4583-8137-7025dc2c7daf</td>\n",
       "      <td>Wed May 30 13:06:07 2018</td>\n",
       "    </tr>\n",
       "  </tbody>\n",
       "</table>\n",
       "</div>"
      ],
      "text/plain": [
       "                                                    submission_status elapsed_time      job  \\\n",
       "TopMed_Variant_Caller            300530130558555810         SUBMITTED    0h:1m:12s  checker   \n",
       "                                 300530130600448081         SUBMITTED   0h:22m:34s  checker   \n",
       "md5sum-checker                   300530130604559294         SUBMITTED            0  checker   \n",
       "                                 300530130607804340         SUBMITTED    0h:0m:16s  checker   \n",
       "u_of_Michigan_alignment_pipeline 300530130554604938         SUBMITTED     0h:1m:8s  checker   \n",
       "                                 300530130556466035         SUBMITTED   0h:25m:55s  checker   \n",
       "\n",
       "                                                             wes_id  \\\n",
       "TopMed_Variant_Caller            300530130558555810    hca-cromwell   \n",
       "                                 300530130600448081  broad-cromwell   \n",
       "md5sum-checker                   300530130604559294     arvados-wes   \n",
       "                                 300530130607804340  broad-cromwell   \n",
       "u_of_Michigan_alignment_pipeline 300530130554604938    hca-cromwell   \n",
       "                                 300530130556466035  broad-cromwell   \n",
       "\n",
       "                                                                             queue_id  \\\n",
       "TopMed_Variant_Caller            300530130558555810             TopMed_Variant_Caller   \n",
       "                                 300530130600448081             TopMed_Variant_Caller   \n",
       "md5sum-checker                   300530130604559294                    md5sum-checker   \n",
       "                                 300530130607804340                    md5sum-checker   \n",
       "u_of_Michigan_alignment_pipeline 300530130554604938  u_of_Michigan_alignment_pipeline   \n",
       "                                 300530130556466035  u_of_Michigan_alignment_pipeline   \n",
       "\n",
       "                                                         run_status  \\\n",
       "TopMed_Variant_Caller            300530130558555810        COMPLETE   \n",
       "                                 300530130600448081        COMPLETE   \n",
       "md5sum-checker                   300530130604559294        COMPLETE   \n",
       "                                 300530130607804340  EXECUTOR_ERROR   \n",
       "u_of_Michigan_alignment_pipeline 300530130554604938        COMPLETE   \n",
       "                                 300530130556466035        COMPLETE   \n",
       "\n",
       "                                                                                   run_id  \\\n",
       "TopMed_Variant_Caller            300530130558555810  d4b2928f-c0a4-417d-9325-5a0e04f154f0   \n",
       "                                 300530130600448081  a114e235-9d91-46df-9bea-ec6bea7a960c   \n",
       "md5sum-checker                   300530130604559294           qr1hi-xvhdp-wx5tzs1p4cbrfe4   \n",
       "                                 300530130607804340  eaf4267d-c928-470e-b53c-74d0cf1b1ca0   \n",
       "u_of_Michigan_alignment_pipeline 300530130554604938  dfa545e9-b84c-460d-b1f6-2f7af4bcb1c6   \n",
       "                                 300530130556466035  ec44c275-cac1-4583-8137-7025dc2c7daf   \n",
       "\n",
       "                                                                   start_time  \n",
       "TopMed_Variant_Caller            300530130558555810  Wed May 30 13:06:09 2018  \n",
       "                                 300530130600448081  Wed May 30 13:06:09 2018  \n",
       "md5sum-checker                   300530130604559294  Wed May 30 13:06:10 2018  \n",
       "                                 300530130607804340  Wed May 30 13:06:10 2018  \n",
       "u_of_Michigan_alignment_pipeline 300530130554604938  Wed May 30 13:06:09 2018  \n",
       "                                 300530130556466035  Wed May 30 13:06:07 2018  "
      ]
     },
     "metadata": {},
     "output_type": "display_data"
    },
    {
     "name": "stdout",
     "output_type": "stream",
     "text": [
      "Done\n"
     ]
    }
   ],
   "source": [
    "orchestrator.monitor(submissions)"
   ]
  },
  {
   "cell_type": "markdown",
   "metadata": {},
   "source": [
    "## Reporting\n",
    "\n",
    "WDL-based workflows (TopMed) successfully ran in both Cromwell WES environments. The CWL-based `md5sum` workflow ran in Arvados — and currently the only barrier to running on the Broad Cromwell is the lack of HTTP filesystem support for inputs (i.e., both Cromwell environments can only ingest files stored in Google buckets, due to use of the downstream compute engine).\n",
    "\n",
    "We're working on adding additional features for summarizing and reporting testbed results — including documents and dashboards."
   ]
  },
  {
   "cell_type": "code",
   "execution_count": null,
   "metadata": {},
   "outputs": [],
   "source": []
  }
 ],
 "metadata": {
  "kernelspec": {
   "display_name": "Python 2",
   "language": "python",
   "name": "python2"
  },
  "language_info": {
   "codemirror_mode": {
    "name": "ipython",
    "version": 2
   },
   "file_extension": ".py",
   "mimetype": "text/x-python",
   "name": "python",
   "nbconvert_exporter": "python",
   "pygments_lexer": "ipython2",
   "version": "2.7.15"
  }
 },
 "nbformat": 4,
 "nbformat_minor": 2
}
