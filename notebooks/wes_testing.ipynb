{
 "cells": [
  {
   "cell_type": "code",
   "execution_count": 89,
   "metadata": {},
   "outputs": [],
   "source": [
    "import urlparse\n",
    "import requests\n",
    "import os\n",
    "import sys\n",
    "import json"
   ]
  },
  {
   "cell_type": "markdown",
   "metadata": {},
   "source": [
    "*New example and endpoint from Abraham*\n",
    "```\n",
    ">>> import requests\n",
    ">>> endpoint = \"http://wes.ucsc-cgp-dev.org:8080/ga4gh/wes/v1\"\n",
    ">>> post_run_workflow = \"/workflows\"\n",
    ">>> descriptor = \"/home/ubuntu/mock_wes/workflow-service/testdata/md5sum.cwl\"\n",
    ">>> workflow_type =\"CWL\"\n",
    ">>> workflow_type_version=\"v1.0\"  \n",
    ">>> params = {'output_file': {'path': '/outdir/md5sum.txt', 'class': 'File'}, 'input_file': {'path': '../../mock_wes/workflow-service/testdata/md5sum.input', 'class': 'File'}}\n",
    ">>> body = {\"workflow_url\":descriptor, \"workflow_params\" : params, \"workflow_type\": workflow_type, \"workflow_type_version\": workflow_type_version}\n",
    ">>> print requests.post(endpoint+post_run_workflow, json=body).json()\n",
    "```"
   ]
  },
  {
   "cell_type": "code",
   "execution_count": 74,
   "metadata": {},
   "outputs": [
    {
     "name": "stdout",
     "output_type": "stream",
     "text": [
      "{u'workflow_id': u'3c691565636c4d10b25431e873bec837'}\n"
     ]
    }
   ],
   "source": [
    "endpoint = 'http://wes.ucsc-cgp-dev.org:8080/ga4gh/wes/v1'\n",
    "host = 'wes.ucsc-cgp-dev.org:8080'\n",
    "proto = 'http'\n",
    "post_run_workflow = \"/workflows\"\n",
    "\n",
    "descriptor = '/home/ubuntu/mock_wes/workflow-service/testdata/md5sum.cwl'\n",
    "workflow_type = 'CWL'\n",
    "workflow_type_version = 'v1.0'  \n",
    "params = {'output_file': {'path': '/outdir/md5sum.txt', 'class': 'File'}, 'input_file': {'path': '../../mock_wes/workflow-service/testdata/md5sum.input', 'class': 'File'}}\n",
    "body = {\"workflow_url\": descriptor, \"workflow_params\" : params, \"workflow_type\": workflow_type, \"workflow_type_version\": workflow_type_version}\n",
    "print(requests.post(endpoint+post_run_workflow, json=body).json())"
   ]
  },
  {
   "cell_type": "code",
   "execution_count": 77,
   "metadata": {},
   "outputs": [
    {
     "data": {
      "text/plain": [
       "{u'outputs': {u'output_file': {u'basename': u'md5sum.txt',\n",
       "   u'checksum': u'sha1$5cd16de143136d95a0307bc1db27d88b57b033e9',\n",
       "   u'class': u'File',\n",
       "   u'format': u'http://edamontology.org/data_3671',\n",
       "   u'location': u'file:///home/ubuntu/workflows/3c691565636c4d10b25431e873bec837/outdir/md5sum.txt',\n",
       "   u'path': u'/home/ubuntu/workflows/3c691565636c4d10b25431e873bec837/outdir/md5sum.txt',\n",
       "   u'size': 33}},\n",
       " u'request': {u'workflow_params': {u'input_file': {u'class': u'File',\n",
       "    u'path': u'../../mock_wes/workflow-service/testdata/md5sum.input'},\n",
       "   u'output_file': {u'class': u'File', u'path': u'/outdir/md5sum.txt'}},\n",
       "  u'workflow_type': u'CWL',\n",
       "  u'workflow_type_version': u'v1.0',\n",
       "  u'workflow_url': u'/home/ubuntu/mock_wes/workflow-service/testdata/md5sum.cwl'},\n",
       " u'state': u'Complete',\n",
       " u'task_logs': [],\n",
       " u'workflow_id': u'3c691565636c4d10b25431e873bec837',\n",
       " u'workflow_log': {u'cmd': [u''],\n",
       "  u'endTime': u'',\n",
       "  u'exitCode': 0,\n",
       "  u'startTime': u'',\n",
       "  u'stderr': u\"/home/ubuntu/wes_env/bin/cwl-runner 1.0.20180501200546\\nResolved '/home/ubuntu/mock_wes/workflow-service/testdata/md5sum.cwl' to 'file:///home/ubuntu/mock_wes/workflow-service/testdata/md5sum.cwl'\\n[workflow md5sum.cwl] start\\n[step md5sum] start\\n[job md5sum] /tmp/tmpw6VI3Q$ docker \\\\\\n    run \\\\\\n    -i \\\\\\n    --volume=/tmp/tmpw6VI3Q:/var/spool/cwl:rw \\\\\\n    --volume=/tmp/tmp_famzV:/tmp:rw \\\\\\n    --volume=/home/ubuntu/mock_wes/workflow-service/testdata/md5sum.input:/var/lib/cwl/stgf271b590-1344-4462-bd7e-c20787cbc233/md5sum.input:ro \\\\\\n    --workdir=/var/spool/cwl \\\\\\n    --read-only=true \\\\\\n    --user=1000:1000 \\\\\\n    --rm \\\\\\n    --env=TMPDIR=/tmp \\\\\\n    --env=HOME=/var/spool/cwl \\\\\\n    quay.io/briandoconnor/dockstore-tool-md5sum:1.0.4 \\\\\\n    /bin/my_md5sum \\\\\\n    /var/lib/cwl/stgf271b590-1344-4462-bd7e-c20787cbc233/md5sum.input\\n[job md5sum] completed success\\n[step md5sum] completed success\\n[workflow md5sum.cwl] completed success\\nFinal process status is success\\n\",\n",
       "  u'stdout': u''}}"
      ]
     },
     "execution_count": 77,
     "metadata": {},
     "output_type": "execute_result"
    }
   ],
   "source": [
    "get_workflow_run(wes, '3c691565636c4d10b25431e873bec837')"
   ]
  },
  {
   "cell_type": "code",
   "execution_count": 80,
   "metadata": {},
   "outputs": [],
   "source": [
    "from bravado.client import SwaggerClient\n",
    "from bravado.requests_client import RequestsClient"
   ]
  },
  {
   "cell_type": "code",
   "execution_count": 84,
   "metadata": {},
   "outputs": [],
   "source": [
    "http_client = RequestsClient()\n",
    "split = urlparse.urlsplit(\"%s://%s/\" % (proto, host))\n",
    "\n",
    "# http_client.set_api_key(\n",
    "#     split.hostname, args.auth,\n",
    "#     param_name='Authorization', param_in='header')\n",
    "client = SwaggerClient.from_url(\n",
    "    \"%s://%s/swagger.json\" % (proto, host),\n",
    "    http_client=http_client, config={'use_models': False})"
   ]
  },
  {
   "cell_type": "code",
   "execution_count": 90,
   "metadata": {},
   "outputs": [
    {
     "name": "stdout",
     "output_type": "stream",
     "text": [
      "{\n",
      "    \"next_page_token\": \"\", \n",
      "    \"workflows\": [\n",
      "        {\n",
      "            \"state\": \"Complete\", \n",
      "            \"workflow_id\": \"6ab6a9e2728b4068bca19855071a2155\"\n",
      "        }, \n",
      "        {\n",
      "            \"state\": \"Error\", \n",
      "            \"workflow_id\": \"8e398fb0b4d043a2a3b534c1b063fd57\"\n",
      "        }, \n",
      "        {\n",
      "            \"state\": \"Running\", \n",
      "            \"workflow_id\": \"7efd9cde924345768423225faf934d58\"\n",
      "        }, \n",
      "        {\n",
      "            \"state\": \"Complete\", \n",
      "            \"workflow_id\": \"3c691565636c4d10b25431e873bec837\"\n",
      "        }, \n",
      "        {\n",
      "            \"state\": \"Error\", \n",
      "            \"workflow_id\": \"8db78ed7cd324912a8af65d83f1716b6\"\n",
      "        }, \n",
      "        {\n",
      "            \"state\": \"Complete\", \n",
      "            \"workflow_id\": \"9002c8e40f67404c9ffbeab5f6428992\"\n",
      "        }, \n",
      "        {\n",
      "            \"state\": \"Error\", \n",
      "            \"workflow_id\": \"cc9e9abf668342658b893ebea793576d\"\n",
      "        }\n",
      "    ]\n",
      "}"
     ]
    }
   ],
   "source": [
    "l = client.WorkflowExecutionService.ListWorkflows()\n",
    "json.dump(l.result(), sys.stdout, indent=4)"
   ]
  },
  {
   "cell_type": "code",
   "execution_count": 104,
   "metadata": {},
   "outputs": [
    {
     "data": {
      "text/plain": [
       "<bound method HttpFuture.result of <bravado.http_future.HttpFuture object at 0x104f2b4d0>>"
      ]
     },
     "execution_count": 104,
     "metadata": {},
     "output_type": "execute_result"
    }
   ],
   "source": [
    "l = client.WorkflowExecutionService.GetServiceInfo()\n",
    "l.result"
   ]
  },
  {
   "cell_type": "markdown",
   "metadata": {},
   "source": [
    "## Configuration"
   ]
  },
  {
   "cell_type": "markdown",
   "metadata": {},
   "source": [
    "Get endpoint and authentication info from environment variables (**note:** provided by Abraham via email)."
   ]
  },
  {
   "cell_type": "code",
   "execution_count": 23,
   "metadata": {},
   "outputs": [],
   "source": [
    "# proto = os.environ.get('WES_API_PROTO')\n",
    "# host = os.environ.get('WES_API_HOST')\n",
    "# auth = os.environ.get('WES_API_AUTH')\n",
    "\n",
    "# new public WES endpoint using the `wes-service` repo\n",
    "host = 'wes.ucsc-cgp-dev.org:8080'\n",
    "proto = 'http'"
   ]
  },
  {
   "cell_type": "markdown",
   "metadata": {},
   "source": [
    "Create a simple object to store session/connection info."
   ]
  },
  {
   "cell_type": "code",
   "execution_count": 24,
   "metadata": {},
   "outputs": [],
   "source": [
    "class WorkflowServiceSession(object):\n",
    "    \"\"\"\n",
    "    API session with workflow execution service endpoint.\n",
    "    \"\"\"\n",
    "    def __init__(self, host, auth=None, proto='http'):\n",
    "        self.endpoint = '{}://{}/ga4gh/wes/v1'.format(proto, host)\n",
    "        self.headers = headers = {'Authorization': auth}\n"
   ]
  },
  {
   "cell_type": "code",
   "execution_count": 25,
   "metadata": {},
   "outputs": [],
   "source": [
    "wes = WorkflowServiceSession(host=host, proto=proto)"
   ]
  },
  {
   "cell_type": "markdown",
   "metadata": {},
   "source": [
    "## Getting info from WES"
   ]
  },
  {
   "cell_type": "markdown",
   "metadata": {},
   "source": [
    "Create a generic `GET` request function (to minimize repeated code)."
   ]
  },
  {
   "cell_type": "code",
   "execution_count": 26,
   "metadata": {},
   "outputs": [],
   "source": [
    "def wes_get_request(wes, target):\n",
    "    \"\"\"\n",
    "    Generic workflow execution service API 'GET' request.\n",
    "    \"\"\"\n",
    "    res = requests.get(\n",
    "        '{}{}'.format(wes.endpoint, target),\n",
    "        headers=wes.headers\n",
    "    )\n",
    "    # TODO: add some exception handling for different responses\n",
    "    return res.json()"
   ]
  },
  {
   "cell_type": "markdown",
   "metadata": {},
   "source": [
    "Use `get_info` to retrieve summary information about the WES endpoint."
   ]
  },
  {
   "cell_type": "code",
   "execution_count": 27,
   "metadata": {},
   "outputs": [],
   "source": [
    "def get_info(wes):\n",
    "    \"\"\"\n",
    "    Collect properties of a workflow execution service server endpoint.\n",
    "    \"\"\"\n",
    "    target = '/service-info'\n",
    "    return wes_get_request(wes, target)"
   ]
  },
  {
   "cell_type": "code",
   "execution_count": 28,
   "metadata": {},
   "outputs": [
    {
     "data": {
      "text/plain": [
       "{u'engine_versions': u'cwl-runner',\n",
       " u'key_values': {},\n",
       " u'supported_filesystem_protocols': [u'file'],\n",
       " u'supported_wes_versions': u'0.1.0',\n",
       " u'system_state_counts': {},\n",
       " u'workflow_type_versions': {u'CWL': [u'v1.0']}}"
      ]
     },
     "execution_count": 28,
     "metadata": {},
     "output_type": "execute_result"
    }
   ],
   "source": [
    "get_info(wes)"
   ]
  },
  {
   "cell_type": "markdown",
   "metadata": {},
   "source": [
    "Use `list_workflow_runs` to list all workflow instances/runs/jobs (completed, initialized, or running) that have been recorded in the history of the WES endpoint."
   ]
  },
  {
   "cell_type": "code",
   "execution_count": 29,
   "metadata": {},
   "outputs": [],
   "source": [
    "def list_workflow_runs(wes, page_size=100, page_token=0):\n",
    "    \"\"\"\n",
    "    List all workflow runs in workflow execution service server endpoint.\n",
    "    \"\"\"\n",
    "    target = '/workflows'\n",
    "    return wes_get_request(wes, target)"
   ]
  },
  {
   "cell_type": "code",
   "execution_count": 30,
   "metadata": {},
   "outputs": [
    {
     "data": {
      "text/plain": [
       "{u'next_page_token': u'',\n",
       " u'workflows': [{u'state': u'Complete',\n",
       "   u'workflow_id': u'6ab6a9e2728b4068bca19855071a2155'},\n",
       "  {u'state': u'Error', u'workflow_id': u'8e398fb0b4d043a2a3b534c1b063fd57'},\n",
       "  {u'state': u'Running', u'workflow_id': u'7efd9cde924345768423225faf934d58'},\n",
       "  {u'state': u'Error', u'workflow_id': u'8db78ed7cd324912a8af65d83f1716b6'},\n",
       "  {u'state': u'Complete', u'workflow_id': u'9002c8e40f67404c9ffbeab5f6428992'},\n",
       "  {u'state': u'Error', u'workflow_id': u'cc9e9abf668342658b893ebea793576d'}]}"
      ]
     },
     "execution_count": 30,
     "metadata": {},
     "output_type": "execute_result"
    }
   ],
   "source": [
    "list_workflow_runs(wes)"
   ]
  },
  {
   "cell_type": "markdown",
   "metadata": {},
   "source": [
    "> **Note:** `workflow_id`s are now UUIDs, not just integers; shouldn't be a problem, but can't assume that workflow runs are ordered"
   ]
  },
  {
   "cell_type": "markdown",
   "metadata": {},
   "source": [
    "Use `get_workflow_run` to retrieve details about a specific workflow run by its ID."
   ]
  },
  {
   "cell_type": "code",
   "execution_count": 19,
   "metadata": {},
   "outputs": [],
   "source": [
    "def get_workflow_run(wes, workflow_run_id):\n",
    "    target = '/workflows/{}'.format(workflow_run_id)\n",
    "    return wes_get_request(wes, target)"
   ]
  },
  {
   "cell_type": "code",
   "execution_count": 20,
   "metadata": {},
   "outputs": [
    {
     "data": {
      "text/plain": [
       "{u'outputs': {},\n",
       " u'request': {u'workflow_params': {u'input_file': {u'class': u'File',\n",
       "    u'path': u'../../workflow-service/testdata/md5sum.input'},\n",
       "   u'output_file': {u'class': u'File', u'path': u'/outdir/md5sum.txt'}},\n",
       "  u'workflow_type': u'CWL',\n",
       "  u'workflow_type_version': u'v1.0',\n",
       "  u'workflow_url': u'/home/ubuntu/mock_wes/workflow-service/testdata/md5sum.cwl'},\n",
       " u'state': u'Error',\n",
       " u'task_logs': [],\n",
       " u'workflow_id': u'cc9e9abf668342658b893ebea793576d',\n",
       " u'workflow_log': {u'cmd': [u''],\n",
       "  u'endTime': u'',\n",
       "  u'exitCode': 1,\n",
       "  u'startTime': u'',\n",
       "  u'stderr': u'/home/ubuntu/wes_env/bin/cwl-runner 1.0.20180501200546\\nResolved \\'/home/ubuntu/mock_wes/workflow-service/testdata/md5sum.cwl\\' to \\'file:///home/ubuntu/mock_wes/workflow-service/testdata/md5sum.cwl\\'\\n[workflow md5sum.cwl] start\\n[step md5sum] start\\nUnexpected exception\\nTraceback (most recent call last):\\n  File \"/home/ubuntu/wes_env/local/lib/python2.7/site-packages/cwltool/workflow.py\", line 646, in job\\n    **kwargs):\\n  File \"/home/ubuntu/wes_env/local/lib/python2.7/site-packages/cwltool/command_line_tool.py\", line 374, in job\\n    builder.pathmapper = self.makePathMapper(reffiles, builder.stagedir, **make_path_mapper_kwargs)\\n  File \"/home/ubuntu/wes_env/local/lib/python2.7/site-packages/cwltool/command_line_tool.py\", line 233, in makePathMapper\\n    separateDirs=kwargs.get(\"separateDirs\", True))\\n  File \"/home/ubuntu/wes_env/local/lib/python2.7/site-packages/cwltool/pathmapper.py\", line 229, in __init__\\n    self.setup(dedup(referenced_files), basedir)\\n  File \"/home/ubuntu/wes_env/local/lib/python2.7/site-packages/cwltool/pathmapper.py\", line 282, in setup\\n    self.visit(fob, stagedir, basedir, copy=fob.get(\"writable\"), staged=True)\\n  File \"/home/ubuntu/wes_env/local/lib/python2.7/site-packages/cwltool/pathmapper.py\", line 271, in visit\\n    self.visitlisting(obj.get(\"secondaryFiles\", []), stagedir, basedir, copy=copy, staged=staged)\\n  File \"/home/ubuntu/wes_env/local/lib/python2.7/site-packages/schema_salad/sourceline.py\", line 157, in __exit__\\n    raise self.makeError(six.text_type(exc_value))\\nValidationException: ../cwl.input.json:1:80: [Errno 2] No such file or directory: \\'/home/ubuntu/workflow-service/testdata/md5sum.input\\'\\n[step md5sum] Cannot make job: ../cwl.input.json:1:80: [Errno 2] No such file or directory: \\'/home/ubuntu/workflow-service/testdata/md5sum.input\\'\\n[workflow md5sum.cwl] completed permanentFail\\nFinal process status is permanentFail\\n',\n",
       "  u'stdout': u''}}"
      ]
     },
     "execution_count": 20,
     "metadata": {},
     "output_type": "execute_result"
    }
   ],
   "source": [
    "# get details of the most recent workflow run\n",
    "get_workflow_run(wes, list_workflow_runs(wes)['workflows'][-1]['workflow_id'])"
   ]
  },
  {
   "cell_type": "markdown",
   "metadata": {},
   "source": [
    "Use `get_workflow_run_status` to retrieve the status of a workflow run (this is the same as the `state` property of a workflow run object). "
   ]
  },
  {
   "cell_type": "code",
   "execution_count": 21,
   "metadata": {},
   "outputs": [],
   "source": [
    "def get_workflow_run_status(wes, workflow_run_id):\n",
    "    target = '/workflows/{}/status'.format(workflow_run_id)\n",
    "    return wes_get_request(wes, target)"
   ]
  },
  {
   "cell_type": "code",
   "execution_count": 22,
   "metadata": {},
   "outputs": [
    {
     "data": {
      "text/plain": [
       "{u'state': u'Error', u'workflow_id': u'cc9e9abf668342658b893ebea793576d'}"
      ]
     },
     "execution_count": 22,
     "metadata": {},
     "output_type": "execute_result"
    }
   ],
   "source": [
    "get_workflow_run_status(wes, list_workflow_runs(wes)['workflows'][-1]['workflow_id'])"
   ]
  },
  {
   "cell_type": "markdown",
   "metadata": {},
   "source": [
    "## Submitting workflows"
   ]
  },
  {
   "cell_type": "markdown",
   "metadata": {},
   "source": [
    "Use `build_workflow_run_packet` to collect and format parameters/instructions for a new workflow run."
   ]
  },
  {
   "cell_type": "code",
   "execution_count": 31,
   "metadata": {},
   "outputs": [],
   "source": [
    "def build_workflow_run_packet(\n",
    "    workflow_params, workflow_type, workflow_type_version, workflow_descriptor=None, \n",
    "    tags=None, workflow_engine_parameters=None, workflow_url=None, key_values=None\n",
    "):\n",
    "    \"\"\"\n",
    "    Build JSON request packet for submitting a workflow run.\n",
    "    \n",
    "    Fields from http://ga4gh.github.io/workflow-execution-service-schemas/definitions/ga4gh_wes_WorkflowRequest\n",
    "    \"\"\"\n",
    "    packet = {\n",
    "        'workflow_descriptor': workflow_descriptor, \n",
    "        'workflow_params' : workflow_params, \n",
    "        'workflow_type': workflow_type,\n",
    "        'workflow_type_version': workflow_type_version,\n",
    "        'tags': tags,\n",
    "        'workflow_engine_parameters': workflow_engine_parameters,\n",
    "        'workflow_url': workflow_url,\n",
    "        'key_values' : key_values\n",
    "    }\n",
    "    return {k: v for k, v in packet.items()\n",
    "            if v is not None}\n",
    "    "
   ]
  },
  {
   "cell_type": "markdown",
   "metadata": {},
   "source": [
    "`read_file` is a small helper function from Abraham (used here to read in JSON parameters file)."
   ]
  },
  {
   "cell_type": "code",
   "execution_count": 32,
   "metadata": {},
   "outputs": [],
   "source": [
    "def read_file(file_name):\n",
    "    file_r = open(file_name,'r')\n",
    "    return file_r.read()"
   ]
  },
  {
   "cell_type": "markdown",
   "metadata": {},
   "source": [
    "### 1. Testing with `dockstore-tool-bamstats`"
   ]
  },
  {
   "cell_type": "markdown",
   "metadata": {},
   "source": [
    "Example workflow from Abraham's gist/notebook. Check out his notebook for the contents of `bams.json` (I just copied and pasted into a local file)."
   ]
  },
  {
   "cell_type": "code",
   "execution_count": 61,
   "metadata": {},
   "outputs": [],
   "source": [
    "# File in local path\n",
    "params = json.dumps(json.loads(read_file('bams.json')))\n",
    "\n",
    "workflow_type = 'cwl'\n",
    "workflow_type_version = '1.0'\n",
    "key_values = {'flavour' : 'c4.xlarge'} # Consonance specific key value"
   ]
  },
  {
   "cell_type": "markdown",
   "metadata": {},
   "source": [
    "Create a generic `POST` request function (to minimize repeated code). Returns the response of the request."
   ]
  },
  {
   "cell_type": "code",
   "execution_count": 66,
   "metadata": {},
   "outputs": [],
   "source": [
    "def wes_post_request(wes, target, json):\n",
    "    \"\"\"\n",
    "    Generic workflow execution service API 'POST' request.\n",
    "    \"\"\"\n",
    "    res = requests.post(\n",
    "        '{}{}'.format(wes.endpoint, target),\n",
    "        headers=wes.headers,\n",
    "        json=json\n",
    "    )\n",
    "    # TODO: add some exception handling for different responses\n",
    "    return res.json()"
   ]
  },
  {
   "cell_type": "markdown",
   "metadata": {},
   "source": [
    "Use `submit_workflow_run` to initiate a new workflow run with the specified parameters. The response for this request will give the ID of the submitted workflow run."
   ]
  },
  {
   "cell_type": "code",
   "execution_count": 67,
   "metadata": {},
   "outputs": [],
   "source": [
    "def submit_workflow_run(wes, workflow_run_packet, tags=None):\n",
    "    target = '/workflows'\n",
    "    params = json.loads(workflow_run_packet['workflow_params'])\n",
    "#     params.update(tags)\n",
    "    workflow_run_packet['workflow_params'] = params\n",
    "    # print request data for testing\n",
    "    print(workflow_run_packet)\n",
    "    return wes_post_request(wes, target, json=workflow_run_packet)"
   ]
  },
  {
   "cell_type": "markdown",
   "metadata": {},
   "source": [
    "#### 1.1. Using Dockstore ID"
   ]
  },
  {
   "cell_type": "markdown",
   "metadata": {},
   "source": [
    "This test follows Abraham's example, using a Dockstore tool ID for the `workflow_descriptor` field. "
   ]
  },
  {
   "cell_type": "markdown",
   "metadata": {},
   "source": [
    "> I don't think this technically conforms with the WES spec (?) — my understanding is that `_descriptor` should be the actual descriptor object, and `_url` should be a URL path to the descriptor."
   ]
  },
  {
   "cell_type": "code",
   "execution_count": 36,
   "metadata": {},
   "outputs": [],
   "source": [
    "# Dockstore tool id.\n",
    "descriptor = \"quay.io/collaboratory/dockstore-tool-bamstats:1.25-6_1.0\" "
   ]
  },
  {
   "cell_type": "code",
   "execution_count": 69,
   "metadata": {},
   "outputs": [
    {
     "name": "stdout",
     "output_type": "stream",
     "text": [
      "{'key_values': {'flavour': 'c4.xlarge'}, 'workflow_type_version': '1.0', 'workflow_params': {u'bam_input': {u'path': u'https://s3-us-west-2.amazonaws.com/achave11-redwood-storage/consonance-outputs/rna.SRR948778.bam', u'class': u'File', u'format': u'http://edamontology.org/format_2572'}, u'bamstats_report': {u'path': u'/tmp/bamstats_report.zip', u'class': u'File'}}, 'workflow_descriptor': 'quay.io/collaboratory/dockstore-tool-bamstats:1.25-6_1.0', 'workflow_type': 'cwl'}\n"
     ]
    },
    {
     "ename": "ValueError",
     "evalue": "No JSON object could be decoded",
     "output_type": "error",
     "traceback": [
      "\u001b[0;31m---------------------------------------------------------------------------\u001b[0m",
      "\u001b[0;31mValueError\u001b[0m                                Traceback (most recent call last)",
      "\u001b[0;32m<ipython-input-69-dc58de7efe16>\u001b[0m in \u001b[0;36m<module>\u001b[0;34m()\u001b[0m\n\u001b[1;32m      6\u001b[0m         \u001b[0mworkflow_type\u001b[0m\u001b[0;34m=\u001b[0m\u001b[0mworkflow_type\u001b[0m\u001b[0;34m,\u001b[0m\u001b[0;34m\u001b[0m\u001b[0m\n\u001b[1;32m      7\u001b[0m         \u001b[0mworkflow_type_version\u001b[0m\u001b[0;34m=\u001b[0m\u001b[0mworkflow_type_version\u001b[0m\u001b[0;34m,\u001b[0m\u001b[0;34m\u001b[0m\u001b[0m\n\u001b[0;32m----> 8\u001b[0;31m         \u001b[0mkey_values\u001b[0m\u001b[0;34m=\u001b[0m\u001b[0mkey_values\u001b[0m\u001b[0;34m\u001b[0m\u001b[0m\n\u001b[0m\u001b[1;32m      9\u001b[0m     )\n\u001b[1;32m     10\u001b[0m )\n",
      "\u001b[0;32m<ipython-input-67-d3059573de3e>\u001b[0m in \u001b[0;36msubmit_workflow_run\u001b[0;34m(wes, workflow_run_packet, tags)\u001b[0m\n\u001b[1;32m      6\u001b[0m     \u001b[0;31m# print request data for testing\u001b[0m\u001b[0;34m\u001b[0m\u001b[0;34m\u001b[0m\u001b[0m\n\u001b[1;32m      7\u001b[0m     \u001b[0;32mprint\u001b[0m\u001b[0;34m(\u001b[0m\u001b[0mworkflow_run_packet\u001b[0m\u001b[0;34m)\u001b[0m\u001b[0;34m\u001b[0m\u001b[0m\n\u001b[0;32m----> 8\u001b[0;31m     \u001b[0;32mreturn\u001b[0m \u001b[0mwes_post_request\u001b[0m\u001b[0;34m(\u001b[0m\u001b[0mwes\u001b[0m\u001b[0;34m,\u001b[0m \u001b[0mtarget\u001b[0m\u001b[0;34m,\u001b[0m \u001b[0mjson\u001b[0m\u001b[0;34m=\u001b[0m\u001b[0mworkflow_run_packet\u001b[0m\u001b[0;34m)\u001b[0m\u001b[0;34m\u001b[0m\u001b[0m\n\u001b[0m",
      "\u001b[0;32m<ipython-input-66-47d5c3b1c2ef>\u001b[0m in \u001b[0;36mwes_post_request\u001b[0;34m(wes, target, json)\u001b[0m\n\u001b[1;32m      9\u001b[0m     )\n\u001b[1;32m     10\u001b[0m     \u001b[0;31m# TODO: add some exception handling for different responses\u001b[0m\u001b[0;34m\u001b[0m\u001b[0;34m\u001b[0m\u001b[0m\n\u001b[0;32m---> 11\u001b[0;31m     \u001b[0;32mreturn\u001b[0m \u001b[0mres\u001b[0m\u001b[0;34m.\u001b[0m\u001b[0mjson\u001b[0m\u001b[0;34m(\u001b[0m\u001b[0;34m)\u001b[0m\u001b[0;34m\u001b[0m\u001b[0m\n\u001b[0m",
      "\u001b[0;32m/anaconda2/lib/python2.7/site-packages/requests/models.pyc\u001b[0m in \u001b[0;36mjson\u001b[0;34m(self, **kwargs)\u001b[0m\n\u001b[1;32m    890\u001b[0m                     \u001b[0;31m# used.\u001b[0m\u001b[0;34m\u001b[0m\u001b[0;34m\u001b[0m\u001b[0m\n\u001b[1;32m    891\u001b[0m                     \u001b[0;32mpass\u001b[0m\u001b[0;34m\u001b[0m\u001b[0m\n\u001b[0;32m--> 892\u001b[0;31m         \u001b[0;32mreturn\u001b[0m \u001b[0mcomplexjson\u001b[0m\u001b[0;34m.\u001b[0m\u001b[0mloads\u001b[0m\u001b[0;34m(\u001b[0m\u001b[0mself\u001b[0m\u001b[0;34m.\u001b[0m\u001b[0mtext\u001b[0m\u001b[0;34m,\u001b[0m \u001b[0;34m**\u001b[0m\u001b[0mkwargs\u001b[0m\u001b[0;34m)\u001b[0m\u001b[0;34m\u001b[0m\u001b[0m\n\u001b[0m\u001b[1;32m    893\u001b[0m \u001b[0;34m\u001b[0m\u001b[0m\n\u001b[1;32m    894\u001b[0m     \u001b[0;34m@\u001b[0m\u001b[0mproperty\u001b[0m\u001b[0;34m\u001b[0m\u001b[0m\n",
      "\u001b[0;32m/anaconda2/lib/python2.7/json/__init__.pyc\u001b[0m in \u001b[0;36mloads\u001b[0;34m(s, encoding, cls, object_hook, parse_float, parse_int, parse_constant, object_pairs_hook, **kw)\u001b[0m\n\u001b[1;32m    337\u001b[0m             \u001b[0mparse_int\u001b[0m \u001b[0;32mis\u001b[0m \u001b[0mNone\u001b[0m \u001b[0;32mand\u001b[0m \u001b[0mparse_float\u001b[0m \u001b[0;32mis\u001b[0m \u001b[0mNone\u001b[0m \u001b[0;32mand\u001b[0m\u001b[0;34m\u001b[0m\u001b[0m\n\u001b[1;32m    338\u001b[0m             parse_constant is None and object_pairs_hook is None and not kw):\n\u001b[0;32m--> 339\u001b[0;31m         \u001b[0;32mreturn\u001b[0m \u001b[0m_default_decoder\u001b[0m\u001b[0;34m.\u001b[0m\u001b[0mdecode\u001b[0m\u001b[0;34m(\u001b[0m\u001b[0ms\u001b[0m\u001b[0;34m)\u001b[0m\u001b[0;34m\u001b[0m\u001b[0m\n\u001b[0m\u001b[1;32m    340\u001b[0m     \u001b[0;32mif\u001b[0m \u001b[0mcls\u001b[0m \u001b[0;32mis\u001b[0m \u001b[0mNone\u001b[0m\u001b[0;34m:\u001b[0m\u001b[0;34m\u001b[0m\u001b[0m\n\u001b[1;32m    341\u001b[0m         \u001b[0mcls\u001b[0m \u001b[0;34m=\u001b[0m \u001b[0mJSONDecoder\u001b[0m\u001b[0;34m\u001b[0m\u001b[0m\n",
      "\u001b[0;32m/anaconda2/lib/python2.7/json/decoder.pyc\u001b[0m in \u001b[0;36mdecode\u001b[0;34m(self, s, _w)\u001b[0m\n\u001b[1;32m    362\u001b[0m \u001b[0;34m\u001b[0m\u001b[0m\n\u001b[1;32m    363\u001b[0m         \"\"\"\n\u001b[0;32m--> 364\u001b[0;31m         \u001b[0mobj\u001b[0m\u001b[0;34m,\u001b[0m \u001b[0mend\u001b[0m \u001b[0;34m=\u001b[0m \u001b[0mself\u001b[0m\u001b[0;34m.\u001b[0m\u001b[0mraw_decode\u001b[0m\u001b[0;34m(\u001b[0m\u001b[0ms\u001b[0m\u001b[0;34m,\u001b[0m \u001b[0midx\u001b[0m\u001b[0;34m=\u001b[0m\u001b[0m_w\u001b[0m\u001b[0;34m(\u001b[0m\u001b[0ms\u001b[0m\u001b[0;34m,\u001b[0m \u001b[0;36m0\u001b[0m\u001b[0;34m)\u001b[0m\u001b[0;34m.\u001b[0m\u001b[0mend\u001b[0m\u001b[0;34m(\u001b[0m\u001b[0;34m)\u001b[0m\u001b[0;34m)\u001b[0m\u001b[0;34m\u001b[0m\u001b[0m\n\u001b[0m\u001b[1;32m    365\u001b[0m         \u001b[0mend\u001b[0m \u001b[0;34m=\u001b[0m \u001b[0m_w\u001b[0m\u001b[0;34m(\u001b[0m\u001b[0ms\u001b[0m\u001b[0;34m,\u001b[0m \u001b[0mend\u001b[0m\u001b[0;34m)\u001b[0m\u001b[0;34m.\u001b[0m\u001b[0mend\u001b[0m\u001b[0;34m(\u001b[0m\u001b[0;34m)\u001b[0m\u001b[0;34m\u001b[0m\u001b[0m\n\u001b[1;32m    366\u001b[0m         \u001b[0;32mif\u001b[0m \u001b[0mend\u001b[0m \u001b[0;34m!=\u001b[0m \u001b[0mlen\u001b[0m\u001b[0;34m(\u001b[0m\u001b[0ms\u001b[0m\u001b[0;34m)\u001b[0m\u001b[0;34m:\u001b[0m\u001b[0;34m\u001b[0m\u001b[0m\n",
      "\u001b[0;32m/anaconda2/lib/python2.7/json/decoder.pyc\u001b[0m in \u001b[0;36mraw_decode\u001b[0;34m(self, s, idx)\u001b[0m\n\u001b[1;32m    380\u001b[0m             \u001b[0mobj\u001b[0m\u001b[0;34m,\u001b[0m \u001b[0mend\u001b[0m \u001b[0;34m=\u001b[0m \u001b[0mself\u001b[0m\u001b[0;34m.\u001b[0m\u001b[0mscan_once\u001b[0m\u001b[0;34m(\u001b[0m\u001b[0ms\u001b[0m\u001b[0;34m,\u001b[0m \u001b[0midx\u001b[0m\u001b[0;34m)\u001b[0m\u001b[0;34m\u001b[0m\u001b[0m\n\u001b[1;32m    381\u001b[0m         \u001b[0;32mexcept\u001b[0m \u001b[0mStopIteration\u001b[0m\u001b[0;34m:\u001b[0m\u001b[0;34m\u001b[0m\u001b[0m\n\u001b[0;32m--> 382\u001b[0;31m             \u001b[0;32mraise\u001b[0m \u001b[0mValueError\u001b[0m\u001b[0;34m(\u001b[0m\u001b[0;34m\"No JSON object could be decoded\"\u001b[0m\u001b[0;34m)\u001b[0m\u001b[0;34m\u001b[0m\u001b[0m\n\u001b[0m\u001b[1;32m    383\u001b[0m         \u001b[0;32mreturn\u001b[0m \u001b[0mobj\u001b[0m\u001b[0;34m,\u001b[0m \u001b[0mend\u001b[0m\u001b[0;34m\u001b[0m\u001b[0m\n",
      "\u001b[0;31mValueError\u001b[0m: No JSON object could be decoded"
     ]
    }
   ],
   "source": [
    "test1_1 = submit_workflow_run(\n",
    "    wes, \n",
    "    workflow_run_packet = build_workflow_run_packet(\n",
    "        workflow_descriptor=descriptor,\n",
    "        workflow_params=params,\n",
    "        workflow_type=workflow_type,\n",
    "        workflow_type_version=workflow_type_version,\n",
    "        key_values=key_values\n",
    "    )\n",
    ")\n",
    "test1_1"
   ]
  },
  {
   "cell_type": "markdown",
   "metadata": {},
   "source": [
    "> So, that didn't seem to work... "
   ]
  },
  {
   "cell_type": "code",
   "execution_count": 38,
   "metadata": {},
   "outputs": [
    {
     "data": {
      "text/plain": [
       "{u'next_page_token': u'',\n",
       " u'workflows': [{u'state': u'Complete',\n",
       "   u'workflow_id': u'6ab6a9e2728b4068bca19855071a2155'},\n",
       "  {u'state': u'Error', u'workflow_id': u'8e398fb0b4d043a2a3b534c1b063fd57'},\n",
       "  {u'state': u'Running', u'workflow_id': u'7efd9cde924345768423225faf934d58'},\n",
       "  {u'state': u'Error', u'workflow_id': u'8db78ed7cd324912a8af65d83f1716b6'},\n",
       "  {u'state': u'Complete', u'workflow_id': u'9002c8e40f67404c9ffbeab5f6428992'},\n",
       "  {u'state': u'Error', u'workflow_id': u'cc9e9abf668342658b893ebea793576d'}]}"
      ]
     },
     "execution_count": 38,
     "metadata": {},
     "output_type": "execute_result"
    }
   ],
   "source": [
    "list_workflow_runs(wes)"
   ]
  },
  {
   "cell_type": "markdown",
   "metadata": {},
   "source": [
    "Add a little function to find the actual ID of the workflow run."
   ]
  },
  {
   "cell_type": "code",
   "execution_count": 23,
   "metadata": {},
   "outputs": [],
   "source": [
    "def find_workflow_run(wes, tag_key, tag_val, n=5):\n",
    "    wr_list = []\n",
    "    for wr in list_workflow_runs(wes)['workflows'][-n:]:\n",
    "        params = json.loads(\n",
    "            get_workflow_run(wes, wr['workflow_id'])['request']['workflow_params']\n",
    "        )\n",
    "        wr_tag_val = params.get(tag_key, None)\n",
    "        if wr_tag_val == tag_val:\n",
    "            wr_list.append(wr['workflow_id'])\n",
    "    return wr_list[-1]"
   ]
  },
  {
   "cell_type": "code",
   "execution_count": 24,
   "metadata": {},
   "outputs": [
    {
     "data": {
      "text/plain": [
       "u'47'"
      ]
     },
     "execution_count": 24,
     "metadata": {},
     "output_type": "execute_result"
    }
   ],
   "source": [
    "test1_1_id = find_workflow_run(wes, 'track_id', 'test1_1')\n",
    "test1_1_id"
   ]
  },
  {
   "cell_type": "markdown",
   "metadata": {},
   "source": [
    "OK, so the now that I have the actual workflow run ID, I can check status and details using the same functions as above."
   ]
  },
  {
   "cell_type": "code",
   "execution_count": 27,
   "metadata": {},
   "outputs": [
    {
     "data": {
      "text/plain": [
       "{u'state': u'Complete', u'workflow_id': u'47'}"
      ]
     },
     "execution_count": 27,
     "metadata": {},
     "output_type": "execute_result"
    }
   ],
   "source": [
    "get_workflow_run_status(wes, test1_1_id)"
   ]
  },
  {
   "cell_type": "markdown",
   "metadata": {},
   "source": [
    "> Assume I re-ran the above cell until the `state` was `Complete`."
   ]
  },
  {
   "cell_type": "code",
   "execution_count": 28,
   "metadata": {},
   "outputs": [
    {
     "data": {
      "text/plain": [
       "{u'outputs': [{u'location': None,\n",
       "   u'name': None,\n",
       "   u'type': None,\n",
       "   u'value': None}],\n",
       " u'request': {u'key_values': None,\n",
       "  u'workflow_descriptor': u'#!/usr/bin/env cwl-runner\\n\\nclass: CommandLineTool\\nid: \"BAMStats\"\\nlabel: \"BAMStats tool\"\\ncwlVersion: v1.0 \\ndescription: |\\n    ![build_status](https://quay.io/repository/collaboratory/dockstore-tool-bamstats/status)\\n    A Docker container for the BAMStats command. See the [BAMStats](http://bamstats.sourceforge.net/) website for more information.\\n\\ndct:creator:\\n  \"@id\": \"http://orcid.org/0000-0002-7681-6415\"\\n  foaf:name: Brian O\\'Connor\\n  foaf:mbox: \"mailto:briandoconnor@gmail.com\"\\n\\nrequirements:\\n  - class: DockerRequirement\\n    dockerPull: \"quay.io/collaboratory/dockstore-tool-bamstats:1.25-6_1.0\"\\n\\nhints:\\n  - class: ResourceRequirement\\n    coresMin: 1\\n    ramMin: 4092\\n    outdirMin: 512000\\n    doc: \"the process requires at least 4G of RAM\"\\n\\ninputs:\\n  mem_gb:\\n    type: int\\n    default: 4\\n    doc: \"The memory, in GB, for the reporting tool\"\\n    inputBinding:\\n      position: 1\\n\\n  bam_input:\\n    type: File\\n    doc: \"The BAM file used as input, it must be sorted.\"\\n    format: \"http://edamontology.org/format_2572\" \\n    inputBinding:\\n      position: 2\\n\\noutputs:\\n  bamstats_report:\\n    type: File\\n    format: \"http://edamontology.org/format_3615\"\\n    outputBinding:\\n      glob: bamstats_report.zip\\n    doc: \"A zip file that contains the HTML report and various graphics.\"\\n\\nbaseCommand: [\"bash\", \"/usr/local/bin/bamstats\"]\\n',\n",
       "  u'workflow_params': u'{\"bam_input\": {\"path\": \"https://s3-us-west-2.amazonaws.com/achave11-redwood-storage/consonance-outputs/rna.SRR948778.bam\", \"class\": \"File\", \"format\": \"http://edamontology.org/format_2572\"}, \"bamstats_report\": {\"path\": \"/tmp/bamstats_report.zip\", \"class\": \"File\"}, \"track_id\": \"test1_1\"}',\n",
       "  u'workflow_type': u'cwl',\n",
       "  u'workflow_type_version': u'1.0'},\n",
       " u'state': u'Complete',\n",
       " u'task_logs': [{u'cmd': None,\n",
       "   u'endTime': u'2018-05-03 03:43:24.720232',\n",
       "   u'exitCode': None,\n",
       "   u'name': u'cwl',\n",
       "   u'startTime': u'2018-05-03 04:18:24.607',\n",
       "   u'stderr': u\"/usr/local/bin/cwltool 1.0.20160712154127\\n['docker', 'pull', 'quay.io/collaboratory/dockstore-tool-bamstats:1.25-6_1.0']\\n1.25-6_1.0: Pulling from collaboratory/dockstore-tool-bamstats\\n3f992ab3df53: Pulling fs layer\\n0aa0bd28396f: Pulling fs layer\\ndb7bb15088de: Pulling fs layer\\n1b6d2bb5ddaa: Pulling fs layer\\na2bc8c956e6b: Pulling fs layer\\na3ed95caeb02: Pulling fs layer\\n8490c37475e2: Pulling fs layer\\n1cb104d5dc15: Pulling fs layer\\n145feb45c0fa: Pulling fs layer\\n0b48f67a56f8: Pulling fs layer\\n0afaeb20bbb7: Pulling fs layer\\n7da63344ae10: Pulling fs layer\\na2bc8c956e6b: Waiting\\na3ed95caeb02: Waiting\\n8490c37475e2: Waiting\\n1cb104d5dc15: Waiting\\n145feb45c0fa: Waiting\\n0b48f67a56f8: Waiting\\n0afaeb20bbb7: Waiting\\n7da63344ae10: Waiting\\n1b6d2bb5ddaa: Waiting\\n0aa0bd28396f: Verifying Checksum\\n0aa0bd28396f: Download complete\\ndb7bb15088de: Verifying Checksum\\ndb7bb15088de: Download complete\\n1b6d2bb5ddaa: Verifying Checksum\\n1b6d2bb5ddaa: Download complete\\na2bc8c956e6b: Download complete\\na3ed95caeb02: Verifying Checksum\\na3ed95caeb02: Download complete\\n1cb104d5dc15: Download complete\\n145feb45c0fa: Verifying Checksum\\n145feb45c0fa: Download complete\\n0b48f67a56f8: Verifying Checksum\\n0b48f67a56f8: Download complete\\n0afaeb20bbb7: Verifying Checksum\\n0afaeb20bbb7: Download complete\\n7da63344ae10: Verifying Checksum\\n7da63344ae10: Download complete\\n3f992ab3df53: Verifying Checksum\\n3f992ab3df53: Download complete\\n3f992ab3df53: Pull complete\\n0aa0bd28396f: Pull complete\\ndb7bb15088de: Pull complete\\n1b6d2bb5ddaa: Pull complete\\na2bc8c956e6b: Pull complete\\na3ed95caeb02: Pull complete\\n8490c37475e2: Verifying Checksum\\n8490c37475e2: Download complete\\n8490c37475e2: Pull complete\\n1cb104d5dc15: Pull complete\\n145feb45c0fa: Pull complete\\n0b48f67a56f8: Pull complete\\n0afaeb20bbb7: Pull complete\\n7da63344ae10: Pull complete\\nDigest: sha256:8472101666cda2a29be9abe8184ec2c7cae4360b75e712706921476b6b537679\\nStatus: Downloaded newer image for quay.io/collaboratory/dockstore-tool-bamstats:1.25-6_1.0\\n[job image-descriptor.cwl] /datastore$ docker \\\\\\n    run \\\\\\n    -i \\\\\\n    --volume=/var/run/docker.sock:/var/run/docker.sock:rw \\\\\\n    --volume=/datastore:/datastore:rw \\\\\\n    --volume=/datastore/./datastore/launcher-70566a2b-53a5-4536-9c73-51bb145abf34/inputs/633bd5c0-e5ad-443c-8654-0842c6895fef/rna.SRR948778.bam:/var/lib/cwl/stga690dbb7-b70d-4cc2-9612-10151b3206e7/rna.SRR948778.bam:ro \\\\\\n    --volume=/datastore/datastore/launcher-70566a2b-53a5-4536-9c73-51bb145abf34:/tmp:rw \\\\\\n    --workdir=/datastore \\\\\\n    --read-only=true \\\\\\n    --user=0 \\\\\\n    --rm \\\\\\n    --env=TMPDIR=/datastore/datastore/launcher-70566a2b-53a5-4536-9c73-51bb145abf34 \\\\\\n    --env=HOME=/datastore \\\\\\n    quay.io/collaboratory/dockstore-tool-bamstats:1.25-6_1.0 \\\\\\n    bash \\\\\\n    /usr/local/bin/bamstats \\\\\\n    4 \\\\\\n    /var/lib/cwl/stga690dbb7-b70d-4cc2-9612-10151b3206e7/rna.SRR948778.bam\\nTotal time: 1 minute 20 seconds\\n  adding: bamstats_report.html (deflated 83%)\\n  adding: bamstats_report.html.data/ (stored 0%)\\n  adding: bamstats_report.html.data/chr9_Coverage_histogram.png (deflated 22%)\\n  adding: bamstats_report.html.data/chr5_Coverage_histogram.png (deflated 22%)\\n  adding: bamstats_report.html.data/chr16_Coverage_boxAndWhisker.png (deflated 18%)\\n  adding: bamstats_report.html.data/chr2_Coverage.html (deflated 61%)\\n  adding: bamstats_report.html.data/chr17_Coverage.html (deflated 61%)\\n  adding: bamstats_report.html.data/chr10_Coverage.html (deflated 61%)\\n  adding: bamstats_report.html.data/chr2_Coverage_histogram.png (deflated 21%)\\n  adding: bamstats_report.html.data/chr2_Coverage_boxAndWhisker.png (deflated 18%)\\n  adding: bamstats_report.html.data/chr12_Coverage_histogram.png (deflated 21%)\\n  adding: bamstats_report.html.data/chr1_Coverage_boxAndWhisker.png (deflated 18%)\\n  adding: bamstats_report.html.data/chr14_Coverage_cumulativeHistogram.png (deflated 24%)\\n  adding: bamstats_report.html.data/chr18_Coverage.html (deflated 61%)\\n  adding: bamstats_report.html.data/chr13_Coverage.html (deflated 61%)\\n  adding: bamstats_report.html.data/chr6_Coverage_histogram.png (deflated 22%)\\n  adding: bamstats_report.html.data/chr16_Coverage.html (deflated 61%)\\n  adding: bamstats_report.html.data/chr5_Coverage_cumulativeHistogram.png (deflated 24%)\\n  adding: bamstats_report.html.data/chr4_Coverage_boxAndWhisker.png (deflated 18%)\\n  adding: bamstats_report.html.data/chr15_Coverage_boxAndWhisker.png (deflated 18%)\\n  adding: bamstats_report.html.data/chr1_Coverage_histogram.png (deflated 20%)\\n  adding: bamstats_report.html.data/chrM_Coverage_boxAndWhisker.png (deflated 14%)\\n  adding: bamstats_report.html.data/chrX_Coverage.html (deflated 59%)\\n  adding: bamstats_report.html.data/chr4_Coverage_histogram.png (deflated 21%)\\n  adding: bamstats_report.html.data/chr11_Coverage_boxAndWhisker.png (deflated 17%)\\n  adding: bamstats_report.html.data/chr13_Coverage_histogram.png (deflated 22%)\\n  adding: bamstats_report.html.data/chr7_Coverage_histogram.png (deflated 21%)\\n  adding: bamstats_report.html.data/chr3_Coverage.html (deflated 59%)\\n  adding: bamstats_report.html.data/chr13_Coverage_cumulativeHistogram.png (deflated 25%)\\n  adding: bamstats_report.html.data/chr7_Coverage_cumulativeHistogram.png (deflated 23%)\\n  adding: bamstats_report.html.data/chr11_Coverage.html (deflated 61%)\\n  adding: bamstats_report.html.data/chr1_Coverage_cumulativeHistogram.png (deflated 24%)\\n  adding: bamstats_report.html.data/chr11_Coverage_histogram.png (deflated 21%)\\n  adding: bamstats_report.html.data/chr11_Coverage_cumulativeHistogram.png (deflated 24%)\\n  adding: bamstats_report.html.data/chr13_Coverage_boxAndWhisker.png (deflated 19%)\\n  adding: bamstats_report.html.data/chr1_Coverage.html (deflated 61%)\\n  adding: bamstats_report.html.data/chr7_Coverage_boxAndWhisker.png (deflated 18%)\\n  adding: bamstats_report.html.data/chrM_Coverage_cumulativeHistogram.png (deflated 15%)\\n  adding: bamstats_report.html.data/Coverage_boxAndWhisker.png (deflated 39%)\\n  adding: bamstats_report.html.data/chr19_Coverage_histogram.png (deflated 21%)\\n  adding: bamstats_report.html.data/chrM_Coverage_histogram.png (deflated 16%)\\n  adding: bamstats_report.html.data/chr12_Coverage_boxAndWhisker.png (deflated 18%)\\n  adding: bamstats_report.html.data/chr9_Coverage_boxAndWhisker.png (deflated 17%)\\n  adding: bamstats_report.html.data/chr8_Coverage.html (deflated 61%)\\n  adding: bamstats_report.html.data/chr12_Coverage_cumulativeHistogram.png (deflated 24%)\\n  adding: bamstats_report.html.data/chr16_Coverage_cumulativeHistogram.png (deflated 24%)\\n  adding: bamstats_report.html.data/chr18_Coverage_cumulativeHistogram.png (deflated 24%)\\n  adding: bamstats_report.html.data/chr18_Coverage_boxAndWhisker.png (deflated 17%)\\n  adding: bamstats_report.html.data/chr5_Coverage_boxAndWhisker.png (deflated 17%)\\n  adding: bamstats_report.html.data/chr8_Coverage_boxAndWhisker.png (deflated 18%)\\n  adding: bamstats_report.html.data/chr10_Coverage_histogram.png (deflated 21%)\\n  adding: bamstats_report.html.data/chrY_Coverage.html (deflated 60%)\\n  adding: bamstats_report.html.data/chr14_Coverage.html (deflated 61%)\\n  adding: bamstats_report.html.data/chr14_Coverage_histogram.png (deflated 22%)\\n  adding: bamstats_report.html.data/chr8_Coverage_cumulativeHistogram.png (deflated 24%)\\n  adding: bamstats_report.html.data/chr19_Coverage_cumulativeHistogram.png (deflated 25%)\\n  adding: bamstats_report.html.data/chr17_Coverage_cumulativeHistogram.png (deflated 23%)\\n  adding: bamstats_report.html.data/chr17_Coverage_boxAndWhisker.png (deflated 17%)\\n  adding: bamstats_report.html.data/chr9_Coverage_cumulativeHistogram.png (deflated 23%)\\n  adding: bamstats_report.html.data/chr10_Coverage_boxAndWhisker.png (deflated 17%)\\n  adding: bamstats_report.html.data/chr17_Coverage_histogram.png (deflated 20%)\\n  adding: bamstats_report.html.data/chr19_Coverage_boxAndWhisker.png (deflated 18%)\\n  adding: bamstats_report.html.data/chr4_Coverage.html (deflated 61%)\\n  adding: bamstats_report.html.data/chr16_Coverage_histogram.png (deflated 22%)\\n  adding: bamstats_report.html.data/chr6_Coverage_boxAndWhisker.png (deflated 18%)\\n  adding: bamstats_report.html.data/chr15_Coverage_cumulativeHistogram.png (deflated 24%)\\n  adding: bamstats_report.html.data/chr8_Coverage_histogram.png (deflated 22%)\\n  adding: bamstats_report.html.data/chr9_Coverage.html (deflated 61%)\\n  adding: bamstats_report.html.data/chr15_Coverage.html (deflated 61%)\\n  adding: bamstats_report.html.data/chr14_Coverage_boxAndWhisker.png (deflated 18%)\\n  adding: bamstats_report.html.data/chr6_Coverage_cumulativeHistogram.png (deflated 24%)\\n  adding: bamstats_report.html.data/chr19_Coverage.html (deflated 61%)\\n  adding: bamstats_report.html.data/chr12_Coverage.html (deflated 61%)\\n  adding: bamstats_report.html.data/chr10_Coverage_cumulativeHistogram.png (deflated 24%)\\n  adding: bamstats_report.html.data/chr2_Coverage_cumulativeHistogram.png (deflated 24%)\\n  adding: bamstats_report.html.data/chrM_Coverage.html (deflated 59%)\\n  adding: bamstats_report.html.data/chr7_Coverage.html (deflated 61%)\\n  adding: bamstats_report.html.data/chr15_Coverage_histogram.png (deflated 22%)\\n  adding: bamstats_report.html.data/chr4_Coverage_cumulativeHistogram.png (deflated 24%)\\n  adding: bamstats_report.html.data/chr6_Coverage.html (deflated 61%)\\n  adding: bamstats_report.html.data/chr5_Coverage.html (deflated 61%)\\n  adding: bamstats_report.html.data/chr18_Coverage_histogram.png (deflated 22%)\\nFinal process status is success\",\n",
       "   u'stdout': None}],\n",
       " u'workflow_id': u'47',\n",
       " u'workflow_log': None}"
      ]
     },
     "execution_count": 28,
     "metadata": {},
     "output_type": "execute_result"
    }
   ],
   "source": [
    "get_workflow_run(wes, test1_1_id)"
   ]
  },
  {
   "cell_type": "markdown",
   "metadata": {},
   "source": [
    "#### Test 1.1 Results\n",
    "\n",
    "> Aside from the fact that my `key_values` don't appear to have been correctly parsed/set from the request, everything else seems to have worked fine."
   ]
  },
  {
   "cell_type": "markdown",
   "metadata": {},
   "source": [
    "#### Using CWL content"
   ]
  },
  {
   "cell_type": "markdown",
   "metadata": {},
   "source": [
    "Next attempt is to use the actual CWL content/document for the `workflow_descriptor` field. First, I'll grab the content from the descriptor URL."
   ]
  },
  {
   "cell_type": "code",
   "execution_count": 70,
   "metadata": {},
   "outputs": [],
   "source": [
    "# Dockstore tool URL\n",
    "descriptor_url = 'https://dockstore.org:8443/api/ga4gh/v2/tools/quay.io%2Fcollaboratory%2Fdockstore-tool-bamstats/versions/1.25-6_1.0/plain-CWL/descriptor/%2FDockstore.cwl'\n",
    "\n",
    "# Get descriptor from URL\n",
    "descriptor_content = requests.get(descriptor_url).content"
   ]
  },
  {
   "cell_type": "markdown",
   "metadata": {},
   "source": [
    "Descriptor content looks like:"
   ]
  },
  {
   "cell_type": "code",
   "execution_count": 71,
   "metadata": {},
   "outputs": [
    {
     "data": {
      "text/plain": [
       "'#!/usr/bin/env cwl-runner\\n\\nclass: CommandLineTool\\nid: \"BAMStats\"\\nlabel: \"BAMStats tool\"\\ncwlVersion: v1.0 \\ndescription: |\\n    ![build_status](https://quay.io/repository/collaboratory/dockstore-tool-bamstats/status)\\n    A Docker container for the BAMStats command. See the [BAMStats](http://bamstats.sourceforge.net/) website for more information.\\n\\ndct:creator:\\n  \"@id\": \"http://orcid.org/0000-0002-7681-6415\"\\n  foaf:name: Brian O\\'Connor\\n  foaf:mbox: \"mailto:briandoconnor@gmail.com\"\\n\\nrequirements:\\n  - class: DockerRequirement\\n    dockerPull: \"quay.io/collaboratory/dockstore-tool-bamstats:1.25-6_1.0\"\\n\\nhints:\\n  - class: ResourceRequirement\\n    coresMin: 1\\n    ramMin: 4092\\n    outdirMin: 512000\\n    doc: \"the process requires at least 4G of RAM\"\\n\\ninputs:\\n  mem_gb:\\n    type: int\\n    default: 4\\n    doc: \"The memory, in GB, for the reporting tool\"\\n    inputBinding:\\n      position: 1\\n\\n  bam_input:\\n    type: File\\n    doc: \"The BAM file used as input, it must be sorted.\"\\n    format: \"http://edamontology.org/format_2572\" \\n    inputBinding:\\n      position: 2\\n\\noutputs:\\n  bamstats_report:\\n    type: File\\n    format: \"http://edamontology.org/format_3615\"\\n    outputBinding:\\n      glob: bamstats_report.zip\\n    doc: \"A zip file that contains the HTML report and various graphics.\"\\n\\nbaseCommand: [\"bash\", \"/usr/local/bin/bamstats\"]\\n'"
      ]
     },
     "execution_count": 71,
     "metadata": {},
     "output_type": "execute_result"
    }
   ],
   "source": [
    "descriptor_content"
   ]
  },
  {
   "cell_type": "code",
   "execution_count": 72,
   "metadata": {},
   "outputs": [
    {
     "name": "stdout",
     "output_type": "stream",
     "text": [
      "{'key_values': {'flavour': 'c4.xlarge'}, 'workflow_type_version': '1.0', 'workflow_params': {u'bam_input': {u'path': u'https://s3-us-west-2.amazonaws.com/achave11-redwood-storage/consonance-outputs/rna.SRR948778.bam', u'class': u'File', u'format': u'http://edamontology.org/format_2572'}, u'bamstats_report': {u'path': u'/tmp/bamstats_report.zip', u'class': u'File'}}, 'workflow_descriptor': '#!/usr/bin/env cwl-runner\\n\\nclass: CommandLineTool\\nid: \"BAMStats\"\\nlabel: \"BAMStats tool\"\\ncwlVersion: v1.0 \\ndescription: |\\n    ![build_status](https://quay.io/repository/collaboratory/dockstore-tool-bamstats/status)\\n    A Docker container for the BAMStats command. See the [BAMStats](http://bamstats.sourceforge.net/) website for more information.\\n\\ndct:creator:\\n  \"@id\": \"http://orcid.org/0000-0002-7681-6415\"\\n  foaf:name: Brian O\\'Connor\\n  foaf:mbox: \"mailto:briandoconnor@gmail.com\"\\n\\nrequirements:\\n  - class: DockerRequirement\\n    dockerPull: \"quay.io/collaboratory/dockstore-tool-bamstats:1.25-6_1.0\"\\n\\nhints:\\n  - class: ResourceRequirement\\n    coresMin: 1\\n    ramMin: 4092\\n    outdirMin: 512000\\n    doc: \"the process requires at least 4G of RAM\"\\n\\ninputs:\\n  mem_gb:\\n    type: int\\n    default: 4\\n    doc: \"The memory, in GB, for the reporting tool\"\\n    inputBinding:\\n      position: 1\\n\\n  bam_input:\\n    type: File\\n    doc: \"The BAM file used as input, it must be sorted.\"\\n    format: \"http://edamontology.org/format_2572\" \\n    inputBinding:\\n      position: 2\\n\\noutputs:\\n  bamstats_report:\\n    type: File\\n    format: \"http://edamontology.org/format_3615\"\\n    outputBinding:\\n      glob: bamstats_report.zip\\n    doc: \"A zip file that contains the HTML report and various graphics.\"\\n\\nbaseCommand: [\"bash\", \"/usr/local/bin/bamstats\"]\\n', 'workflow_type': 'cwl'}\n"
     ]
    },
    {
     "ename": "ValueError",
     "evalue": "No JSON object could be decoded",
     "output_type": "error",
     "traceback": [
      "\u001b[0;31m---------------------------------------------------------------------------\u001b[0m",
      "\u001b[0;31mValueError\u001b[0m                                Traceback (most recent call last)",
      "\u001b[0;32m<ipython-input-72-c04a71c0bac8>\u001b[0m in \u001b[0;36m<module>\u001b[0;34m()\u001b[0m\n\u001b[1;32m      6\u001b[0m         \u001b[0mworkflow_type\u001b[0m\u001b[0;34m=\u001b[0m\u001b[0mworkflow_type\u001b[0m\u001b[0;34m,\u001b[0m\u001b[0;34m\u001b[0m\u001b[0m\n\u001b[1;32m      7\u001b[0m         \u001b[0mworkflow_type_version\u001b[0m\u001b[0;34m=\u001b[0m\u001b[0mworkflow_type_version\u001b[0m\u001b[0;34m,\u001b[0m\u001b[0;34m\u001b[0m\u001b[0m\n\u001b[0;32m----> 8\u001b[0;31m         \u001b[0mkey_values\u001b[0m\u001b[0;34m=\u001b[0m\u001b[0mkey_values\u001b[0m\u001b[0;34m\u001b[0m\u001b[0m\n\u001b[0m\u001b[1;32m      9\u001b[0m     )\n\u001b[1;32m     10\u001b[0m )\n",
      "\u001b[0;32m<ipython-input-67-d3059573de3e>\u001b[0m in \u001b[0;36msubmit_workflow_run\u001b[0;34m(wes, workflow_run_packet, tags)\u001b[0m\n\u001b[1;32m      6\u001b[0m     \u001b[0;31m# print request data for testing\u001b[0m\u001b[0;34m\u001b[0m\u001b[0;34m\u001b[0m\u001b[0m\n\u001b[1;32m      7\u001b[0m     \u001b[0;32mprint\u001b[0m\u001b[0;34m(\u001b[0m\u001b[0mworkflow_run_packet\u001b[0m\u001b[0;34m)\u001b[0m\u001b[0;34m\u001b[0m\u001b[0m\n\u001b[0;32m----> 8\u001b[0;31m     \u001b[0;32mreturn\u001b[0m \u001b[0mwes_post_request\u001b[0m\u001b[0;34m(\u001b[0m\u001b[0mwes\u001b[0m\u001b[0;34m,\u001b[0m \u001b[0mtarget\u001b[0m\u001b[0;34m,\u001b[0m \u001b[0mjson\u001b[0m\u001b[0;34m=\u001b[0m\u001b[0mworkflow_run_packet\u001b[0m\u001b[0;34m)\u001b[0m\u001b[0;34m\u001b[0m\u001b[0m\n\u001b[0m",
      "\u001b[0;32m<ipython-input-66-47d5c3b1c2ef>\u001b[0m in \u001b[0;36mwes_post_request\u001b[0;34m(wes, target, json)\u001b[0m\n\u001b[1;32m      9\u001b[0m     )\n\u001b[1;32m     10\u001b[0m     \u001b[0;31m# TODO: add some exception handling for different responses\u001b[0m\u001b[0;34m\u001b[0m\u001b[0;34m\u001b[0m\u001b[0m\n\u001b[0;32m---> 11\u001b[0;31m     \u001b[0;32mreturn\u001b[0m \u001b[0mres\u001b[0m\u001b[0;34m.\u001b[0m\u001b[0mjson\u001b[0m\u001b[0;34m(\u001b[0m\u001b[0;34m)\u001b[0m\u001b[0;34m\u001b[0m\u001b[0m\n\u001b[0m",
      "\u001b[0;32m/anaconda2/lib/python2.7/site-packages/requests/models.pyc\u001b[0m in \u001b[0;36mjson\u001b[0;34m(self, **kwargs)\u001b[0m\n\u001b[1;32m    890\u001b[0m                     \u001b[0;31m# used.\u001b[0m\u001b[0;34m\u001b[0m\u001b[0;34m\u001b[0m\u001b[0m\n\u001b[1;32m    891\u001b[0m                     \u001b[0;32mpass\u001b[0m\u001b[0;34m\u001b[0m\u001b[0m\n\u001b[0;32m--> 892\u001b[0;31m         \u001b[0;32mreturn\u001b[0m \u001b[0mcomplexjson\u001b[0m\u001b[0;34m.\u001b[0m\u001b[0mloads\u001b[0m\u001b[0;34m(\u001b[0m\u001b[0mself\u001b[0m\u001b[0;34m.\u001b[0m\u001b[0mtext\u001b[0m\u001b[0;34m,\u001b[0m \u001b[0;34m**\u001b[0m\u001b[0mkwargs\u001b[0m\u001b[0;34m)\u001b[0m\u001b[0;34m\u001b[0m\u001b[0m\n\u001b[0m\u001b[1;32m    893\u001b[0m \u001b[0;34m\u001b[0m\u001b[0m\n\u001b[1;32m    894\u001b[0m     \u001b[0;34m@\u001b[0m\u001b[0mproperty\u001b[0m\u001b[0;34m\u001b[0m\u001b[0m\n",
      "\u001b[0;32m/anaconda2/lib/python2.7/json/__init__.pyc\u001b[0m in \u001b[0;36mloads\u001b[0;34m(s, encoding, cls, object_hook, parse_float, parse_int, parse_constant, object_pairs_hook, **kw)\u001b[0m\n\u001b[1;32m    337\u001b[0m             \u001b[0mparse_int\u001b[0m \u001b[0;32mis\u001b[0m \u001b[0mNone\u001b[0m \u001b[0;32mand\u001b[0m \u001b[0mparse_float\u001b[0m \u001b[0;32mis\u001b[0m \u001b[0mNone\u001b[0m \u001b[0;32mand\u001b[0m\u001b[0;34m\u001b[0m\u001b[0m\n\u001b[1;32m    338\u001b[0m             parse_constant is None and object_pairs_hook is None and not kw):\n\u001b[0;32m--> 339\u001b[0;31m         \u001b[0;32mreturn\u001b[0m \u001b[0m_default_decoder\u001b[0m\u001b[0;34m.\u001b[0m\u001b[0mdecode\u001b[0m\u001b[0;34m(\u001b[0m\u001b[0ms\u001b[0m\u001b[0;34m)\u001b[0m\u001b[0;34m\u001b[0m\u001b[0m\n\u001b[0m\u001b[1;32m    340\u001b[0m     \u001b[0;32mif\u001b[0m \u001b[0mcls\u001b[0m \u001b[0;32mis\u001b[0m \u001b[0mNone\u001b[0m\u001b[0;34m:\u001b[0m\u001b[0;34m\u001b[0m\u001b[0m\n\u001b[1;32m    341\u001b[0m         \u001b[0mcls\u001b[0m \u001b[0;34m=\u001b[0m \u001b[0mJSONDecoder\u001b[0m\u001b[0;34m\u001b[0m\u001b[0m\n",
      "\u001b[0;32m/anaconda2/lib/python2.7/json/decoder.pyc\u001b[0m in \u001b[0;36mdecode\u001b[0;34m(self, s, _w)\u001b[0m\n\u001b[1;32m    362\u001b[0m \u001b[0;34m\u001b[0m\u001b[0m\n\u001b[1;32m    363\u001b[0m         \"\"\"\n\u001b[0;32m--> 364\u001b[0;31m         \u001b[0mobj\u001b[0m\u001b[0;34m,\u001b[0m \u001b[0mend\u001b[0m \u001b[0;34m=\u001b[0m \u001b[0mself\u001b[0m\u001b[0;34m.\u001b[0m\u001b[0mraw_decode\u001b[0m\u001b[0;34m(\u001b[0m\u001b[0ms\u001b[0m\u001b[0;34m,\u001b[0m \u001b[0midx\u001b[0m\u001b[0;34m=\u001b[0m\u001b[0m_w\u001b[0m\u001b[0;34m(\u001b[0m\u001b[0ms\u001b[0m\u001b[0;34m,\u001b[0m \u001b[0;36m0\u001b[0m\u001b[0;34m)\u001b[0m\u001b[0;34m.\u001b[0m\u001b[0mend\u001b[0m\u001b[0;34m(\u001b[0m\u001b[0;34m)\u001b[0m\u001b[0;34m)\u001b[0m\u001b[0;34m\u001b[0m\u001b[0m\n\u001b[0m\u001b[1;32m    365\u001b[0m         \u001b[0mend\u001b[0m \u001b[0;34m=\u001b[0m \u001b[0m_w\u001b[0m\u001b[0;34m(\u001b[0m\u001b[0ms\u001b[0m\u001b[0;34m,\u001b[0m \u001b[0mend\u001b[0m\u001b[0;34m)\u001b[0m\u001b[0;34m.\u001b[0m\u001b[0mend\u001b[0m\u001b[0;34m(\u001b[0m\u001b[0;34m)\u001b[0m\u001b[0;34m\u001b[0m\u001b[0m\n\u001b[1;32m    366\u001b[0m         \u001b[0;32mif\u001b[0m \u001b[0mend\u001b[0m \u001b[0;34m!=\u001b[0m \u001b[0mlen\u001b[0m\u001b[0;34m(\u001b[0m\u001b[0ms\u001b[0m\u001b[0;34m)\u001b[0m\u001b[0;34m:\u001b[0m\u001b[0;34m\u001b[0m\u001b[0m\n",
      "\u001b[0;32m/anaconda2/lib/python2.7/json/decoder.pyc\u001b[0m in \u001b[0;36mraw_decode\u001b[0;34m(self, s, idx)\u001b[0m\n\u001b[1;32m    380\u001b[0m             \u001b[0mobj\u001b[0m\u001b[0;34m,\u001b[0m \u001b[0mend\u001b[0m \u001b[0;34m=\u001b[0m \u001b[0mself\u001b[0m\u001b[0;34m.\u001b[0m\u001b[0mscan_once\u001b[0m\u001b[0;34m(\u001b[0m\u001b[0ms\u001b[0m\u001b[0;34m,\u001b[0m \u001b[0midx\u001b[0m\u001b[0;34m)\u001b[0m\u001b[0;34m\u001b[0m\u001b[0m\n\u001b[1;32m    381\u001b[0m         \u001b[0;32mexcept\u001b[0m \u001b[0mStopIteration\u001b[0m\u001b[0;34m:\u001b[0m\u001b[0;34m\u001b[0m\u001b[0m\n\u001b[0;32m--> 382\u001b[0;31m             \u001b[0;32mraise\u001b[0m \u001b[0mValueError\u001b[0m\u001b[0;34m(\u001b[0m\u001b[0;34m\"No JSON object could be decoded\"\u001b[0m\u001b[0;34m)\u001b[0m\u001b[0;34m\u001b[0m\u001b[0m\n\u001b[0m\u001b[1;32m    383\u001b[0m         \u001b[0;32mreturn\u001b[0m \u001b[0mobj\u001b[0m\u001b[0;34m,\u001b[0m \u001b[0mend\u001b[0m\u001b[0;34m\u001b[0m\u001b[0m\n",
      "\u001b[0;31mValueError\u001b[0m: No JSON object could be decoded"
     ]
    }
   ],
   "source": [
    "test1_2 = submit_workflow_run(\n",
    "    wes, \n",
    "    build_workflow_run_packet(\n",
    "        workflow_descriptor=descriptor_content,\n",
    "        workflow_params=params,\n",
    "        workflow_type=workflow_type,\n",
    "        workflow_type_version=workflow_type_version,\n",
    "        key_values=key_values\n",
    "    )\n",
    ")\n",
    "test1_2"
   ]
  },
  {
   "cell_type": "code",
   "execution_count": 32,
   "metadata": {},
   "outputs": [
    {
     "data": {
      "text/plain": [
       "u'48'"
      ]
     },
     "execution_count": 32,
     "metadata": {},
     "output_type": "execute_result"
    }
   ],
   "source": [
    "test1_2_id = find_workflow_run(wes, 'track_id', 'test1_2')\n",
    "test1_2_id"
   ]
  },
  {
   "cell_type": "code",
   "execution_count": 41,
   "metadata": {},
   "outputs": [
    {
     "data": {
      "text/plain": [
       "{u'state': u'Complete', u'workflow_id': u'48'}"
      ]
     },
     "execution_count": 41,
     "metadata": {},
     "output_type": "execute_result"
    }
   ],
   "source": [
    "get_workflow_run_status(wes, test1_2_id)"
   ]
  },
  {
   "cell_type": "code",
   "execution_count": 42,
   "metadata": {},
   "outputs": [
    {
     "data": {
      "text/plain": [
       "{u'outputs': [{u'location': None,\n",
       "   u'name': None,\n",
       "   u'type': None,\n",
       "   u'value': None}],\n",
       " u'request': {u'key_values': None,\n",
       "  u'workflow_descriptor': None,\n",
       "  u'workflow_params': u'{\"bam_input\": {\"path\": \"https://s3-us-west-2.amazonaws.com/achave11-redwood-storage/consonance-outputs/rna.SRR948778.bam\", \"class\": \"File\", \"format\": \"http://edamontology.org/format_2572\"}, \"bamstats_report\": {\"path\": \"/tmp/bamstats_report.zip\", \"class\": \"File\"}, \"track_id\": \"test1_2\"}',\n",
       "  u'workflow_type': u'cwl',\n",
       "  u'workflow_type_version': u'1.0'},\n",
       " u'state': u'Complete',\n",
       " u'task_logs': [{u'cmd': None,\n",
       "   u'endTime': u'2018-05-03 04:22:01.895187',\n",
       "   u'exitCode': None,\n",
       "   u'name': u'cwl',\n",
       "   u'startTime': u'2018-05-03 04:20:07.436',\n",
       "   u'stderr': u\"/usr/local/bin/cwltool 1.0.20160712154127\\n['docker', 'pull', 'quay.io/collaboratory/dockstore-tool-bamstats:1.25-6_1.0']\\n1.25-6_1.0: Pulling from collaboratory/dockstore-tool-bamstats\\n3f992ab3df53: Pulling fs layer\\n0aa0bd28396f: Pulling fs layer\\ndb7bb15088de: Pulling fs layer\\n1b6d2bb5ddaa: Pulling fs layer\\na2bc8c956e6b: Pulling fs layer\\na3ed95caeb02: Pulling fs layer\\n8490c37475e2: Pulling fs layer\\n1cb104d5dc15: Pulling fs layer\\n145feb45c0fa: Pulling fs layer\\n0b48f67a56f8: Pulling fs layer\\n0afaeb20bbb7: Pulling fs layer\\n7da63344ae10: Pulling fs layer\\na2bc8c956e6b: Waiting\\na3ed95caeb02: Waiting\\n8490c37475e2: Waiting\\n1cb104d5dc15: Waiting\\n145feb45c0fa: Waiting\\n0b48f67a56f8: Waiting\\n0afaeb20bbb7: Waiting\\n7da63344ae10: Waiting\\n1b6d2bb5ddaa: Waiting\\n0aa0bd28396f: Verifying Checksum\\n0aa0bd28396f: Download complete\\ndb7bb15088de: Verifying Checksum\\ndb7bb15088de: Download complete\\n1b6d2bb5ddaa: Verifying Checksum\\n1b6d2bb5ddaa: Download complete\\na2bc8c956e6b: Download complete\\na3ed95caeb02: Verifying Checksum\\na3ed95caeb02: Download complete\\n1cb104d5dc15: Download complete\\n145feb45c0fa: Verifying Checksum\\n145feb45c0fa: Download complete\\n0b48f67a56f8: Verifying Checksum\\n0b48f67a56f8: Download complete\\n0afaeb20bbb7: Verifying Checksum\\n0afaeb20bbb7: Download complete\\n7da63344ae10: Verifying Checksum\\n7da63344ae10: Download complete\\n3f992ab3df53: Verifying Checksum\\n3f992ab3df53: Download complete\\n3f992ab3df53: Pull complete\\n0aa0bd28396f: Pull complete\\ndb7bb15088de: Pull complete\\n1b6d2bb5ddaa: Pull complete\\na2bc8c956e6b: Pull complete\\na3ed95caeb02: Pull complete\\n8490c37475e2: Verifying Checksum\\n8490c37475e2: Download complete\\n8490c37475e2: Pull complete\\n1cb104d5dc15: Pull complete\\n145feb45c0fa: Pull complete\\n0b48f67a56f8: Pull complete\\n0afaeb20bbb7: Pull complete\\n7da63344ae10: Pull complete\\nDigest: sha256:8472101666cda2a29be9abe8184ec2c7cae4360b75e712706921476b6b537679\\nStatus: Downloaded newer image for quay.io/collaboratory/dockstore-tool-bamstats:1.25-6_1.0\\n[job image-descriptor.cwl] /datastore$ docker \\\\\\n    run \\\\\\n    -i \\\\\\n    --volume=/var/run/docker.sock:/var/run/docker.sock:rw \\\\\\n    --volume=/datastore:/datastore:rw \\\\\\n    --volume=/datastore/./datastore/launcher-70566a2b-53a5-4536-9c73-51bb145abf34/inputs/633bd5c0-e5ad-443c-8654-0842c6895fef/rna.SRR948778.bam:/var/lib/cwl/stga690dbb7-b70d-4cc2-9612-10151b3206e7/rna.SRR948778.bam:ro \\\\\\n    --volume=/datastore/datastore/launcher-70566a2b-53a5-4536-9c73-51bb145abf34:/tmp:rw \\\\\\n    --workdir=/datastore \\\\\\n    --read-only=true \\\\\\n    --user=0 \\\\\\n    --rm \\\\\\n    --env=TMPDIR=/datastore/datastore/launcher-70566a2b-53a5-4536-9c73-51bb145abf34 \\\\\\n    --env=HOME=/datastore \\\\\\n    quay.io/collaboratory/dockstore-tool-bamstats:1.25-6_1.0 \\\\\\n    bash \\\\\\n    /usr/local/bin/bamstats \\\\\\n    4 \\\\\\n    /var/lib/cwl/stga690dbb7-b70d-4cc2-9612-10151b3206e7/rna.SRR948778.bam\\nTotal time: 1 minute 20 seconds\\n  adding: bamstats_report.html (deflated 83%)\\n  adding: bamstats_report.html.data/ (stored 0%)\\n  adding: bamstats_report.html.data/chr9_Coverage_histogram.png (deflated 22%)\\n  adding: bamstats_report.html.data/chr5_Coverage_histogram.png (deflated 22%)\\n  adding: bamstats_report.html.data/chr16_Coverage_boxAndWhisker.png (deflated 18%)\\n  adding: bamstats_report.html.data/chr2_Coverage.html (deflated 61%)\\n  adding: bamstats_report.html.data/chr17_Coverage.html (deflated 61%)\\n  adding: bamstats_report.html.data/chr10_Coverage.html (deflated 61%)\\n  adding: bamstats_report.html.data/chr2_Coverage_histogram.png (deflated 21%)\\n  adding: bamstats_report.html.data/chr2_Coverage_boxAndWhisker.png (deflated 18%)\\n  adding: bamstats_report.html.data/chr12_Coverage_histogram.png (deflated 21%)\\n  adding: bamstats_report.html.data/chr1_Coverage_boxAndWhisker.png (deflated 18%)\\n  adding: bamstats_report.html.data/chr14_Coverage_cumulativeHistogram.png (deflated 24%)\\n  adding: bamstats_report.html.data/chr18_Coverage.html (deflated 61%)\\n  adding: bamstats_report.html.data/chr13_Coverage.html (deflated 61%)\\n  adding: bamstats_report.html.data/chr6_Coverage_histogram.png (deflated 22%)\\n  adding: bamstats_report.html.data/chr16_Coverage.html (deflated 61%)\\n  adding: bamstats_report.html.data/chr5_Coverage_cumulativeHistogram.png (deflated 24%)\\n  adding: bamstats_report.html.data/chr4_Coverage_boxAndWhisker.png (deflated 18%)\\n  adding: bamstats_report.html.data/chr15_Coverage_boxAndWhisker.png (deflated 18%)\\n  adding: bamstats_report.html.data/chr1_Coverage_histogram.png (deflated 20%)\\n  adding: bamstats_report.html.data/chrM_Coverage_boxAndWhisker.png (deflated 14%)\\n  adding: bamstats_report.html.data/chrX_Coverage.html (deflated 59%)\\n  adding: bamstats_report.html.data/chr4_Coverage_histogram.png (deflated 21%)\\n  adding: bamstats_report.html.data/chr11_Coverage_boxAndWhisker.png (deflated 17%)\\n  adding: bamstats_report.html.data/chr13_Coverage_histogram.png (deflated 22%)\\n  adding: bamstats_report.html.data/chr7_Coverage_histogram.png (deflated 21%)\\n  adding: bamstats_report.html.data/chr3_Coverage.html (deflated 59%)\\n  adding: bamstats_report.html.data/chr13_Coverage_cumulativeHistogram.png (deflated 25%)\\n  adding: bamstats_report.html.data/chr7_Coverage_cumulativeHistogram.png (deflated 23%)\\n  adding: bamstats_report.html.data/chr11_Coverage.html (deflated 61%)\\n  adding: bamstats_report.html.data/chr1_Coverage_cumulativeHistogram.png (deflated 24%)\\n  adding: bamstats_report.html.data/chr11_Coverage_histogram.png (deflated 21%)\\n  adding: bamstats_report.html.data/chr11_Coverage_cumulativeHistogram.png (deflated 24%)\\n  adding: bamstats_report.html.data/chr13_Coverage_boxAndWhisker.png (deflated 19%)\\n  adding: bamstats_report.html.data/chr1_Coverage.html (deflated 61%)\\n  adding: bamstats_report.html.data/chr7_Coverage_boxAndWhisker.png (deflated 18%)\\n  adding: bamstats_report.html.data/chrM_Coverage_cumulativeHistogram.png (deflated 15%)\\n  adding: bamstats_report.html.data/Coverage_boxAndWhisker.png (deflated 39%)\\n  adding: bamstats_report.html.data/chr19_Coverage_histogram.png (deflated 21%)\\n  adding: bamstats_report.html.data/chrM_Coverage_histogram.png (deflated 16%)\\n  adding: bamstats_report.html.data/chr12_Coverage_boxAndWhisker.png (deflated 18%)\\n  adding: bamstats_report.html.data/chr9_Coverage_boxAndWhisker.png (deflated 17%)\\n  adding: bamstats_report.html.data/chr8_Coverage.html (deflated 61%)\\n  adding: bamstats_report.html.data/chr12_Coverage_cumulativeHistogram.png (deflated 24%)\\n  adding: bamstats_report.html.data/chr16_Coverage_cumulativeHistogram.png (deflated 24%)\\n  adding: bamstats_report.html.data/chr18_Coverage_cumulativeHistogram.png (deflated 24%)\\n  adding: bamstats_report.html.data/chr18_Coverage_boxAndWhisker.png (deflated 17%)\\n  adding: bamstats_report.html.data/chr5_Coverage_boxAndWhisker.png (deflated 17%)\\n  adding: bamstats_report.html.data/chr8_Coverage_boxAndWhisker.png (deflated 18%)\\n  adding: bamstats_report.html.data/chr10_Coverage_histogram.png (deflated 21%)\\n  adding: bamstats_report.html.data/chrY_Coverage.html (deflated 60%)\\n  adding: bamstats_report.html.data/chr14_Coverage.html (deflated 61%)\\n  adding: bamstats_report.html.data/chr14_Coverage_histogram.png (deflated 22%)\\n  adding: bamstats_report.html.data/chr8_Coverage_cumulativeHistogram.png (deflated 24%)\\n  adding: bamstats_report.html.data/chr19_Coverage_cumulativeHistogram.png (deflated 25%)\\n  adding: bamstats_report.html.data/chr17_Coverage_cumulativeHistogram.png (deflated 23%)\\n  adding: bamstats_report.html.data/chr17_Coverage_boxAndWhisker.png (deflated 17%)\\n  adding: bamstats_report.html.data/chr9_Coverage_cumulativeHistogram.png (deflated 23%)\\n  adding: bamstats_report.html.data/chr10_Coverage_boxAndWhisker.png (deflated 17%)\\n  adding: bamstats_report.html.data/chr17_Coverage_histogram.png (deflated 20%)\\n  adding: bamstats_report.html.data/chr19_Coverage_boxAndWhisker.png (deflated 18%)\\n  adding: bamstats_report.html.data/chr4_Coverage.html (deflated 61%)\\n  adding: bamstats_report.html.data/chr16_Coverage_histogram.png (deflated 22%)\\n  adding: bamstats_report.html.data/chr6_Coverage_boxAndWhisker.png (deflated 18%)\\n  adding: bamstats_report.html.data/chr15_Coverage_cumulativeHistogram.png (deflated 24%)\\n  adding: bamstats_report.html.data/chr8_Coverage_histogram.png (deflated 22%)\\n  adding: bamstats_report.html.data/chr9_Coverage.html (deflated 61%)\\n  adding: bamstats_report.html.data/chr15_Coverage.html (deflated 61%)\\n  adding: bamstats_report.html.data/chr14_Coverage_boxAndWhisker.png (deflated 18%)\\n  adding: bamstats_report.html.data/chr6_Coverage_cumulativeHistogram.png (deflated 24%)\\n  adding: bamstats_report.html.data/chr19_Coverage.html (deflated 61%)\\n  adding: bamstats_report.html.data/chr12_Coverage.html (deflated 61%)\\n  adding: bamstats_report.html.data/chr10_Coverage_cumulativeHistogram.png (deflated 24%)\\n  adding: bamstats_report.html.data/chr2_Coverage_cumulativeHistogram.png (deflated 24%)\\n  adding: bamstats_report.html.data/chrM_Coverage.html (deflated 59%)\\n  adding: bamstats_report.html.data/chr7_Coverage.html (deflated 61%)\\n  adding: bamstats_report.html.data/chr15_Coverage_histogram.png (deflated 22%)\\n  adding: bamstats_report.html.data/chr4_Coverage_cumulativeHistogram.png (deflated 24%)\\n  adding: bamstats_report.html.data/chr6_Coverage.html (deflated 61%)\\n  adding: bamstats_report.html.data/chr5_Coverage.html (deflated 61%)\\n  adding: bamstats_report.html.data/chr18_Coverage_histogram.png (deflated 22%)\\nFinal process status is success\",\n",
       "   u'stdout': None}],\n",
       " u'workflow_id': u'48',\n",
       " u'workflow_log': None}"
      ]
     },
     "execution_count": 42,
     "metadata": {},
     "output_type": "execute_result"
    }
   ],
   "source": [
    "get_workflow_run(wes, test1_2_id)"
   ]
  },
  {
   "cell_type": "markdown",
   "metadata": {},
   "source": [
    "#### Test 1.2 Results\n",
    "\n",
    "> `workflow_descriptor` appears to be unset (failed to parse?); however, there's no other indication that the job failed. I assume that the `stderr` is held over from a previous job? Or maybe not. Hard to tell what's happening..."
   ]
  },
  {
   "cell_type": "markdown",
   "metadata": {},
   "source": [
    "#### 1.3 Using descriptor URL"
   ]
  },
  {
   "cell_type": "markdown",
   "metadata": {},
   "source": [
    "Now I'll provide the descriptor URL in the `workflow_url` field — which, based on my understanding of the WES spec, is a valid option."
   ]
  },
  {
   "cell_type": "code",
   "execution_count": 43,
   "metadata": {},
   "outputs": [
    {
     "name": "stdout",
     "output_type": "stream",
     "text": [
      "{'key_values': {'flavour': 'c4.xlarge', 'tracker_id': 'test1'}, 'workflow_url': 'https://dockstore.org:8443/api/ga4gh/v2/tools/quay.io%2Fcollaboratory%2Fdockstore-tool-bamstats/versions/1.25-6_1.0/plain-CWL/descriptor/%2FDockstore.cwl', 'workflow_type_version': '1.0', 'workflow_params': '{\"bam_input\": {\"path\": \"https://s3-us-west-2.amazonaws.com/achave11-redwood-storage/consonance-outputs/rna.SRR948778.bam\", \"class\": \"File\", \"format\": \"http://edamontology.org/format_2572\"}, \"bamstats_report\": {\"path\": \"/tmp/bamstats_report.zip\", \"class\": \"File\"}, \"track_id\": \"test1_3\"}', 'workflow_type': 'cwl'}\n"
     ]
    },
    {
     "data": {
      "text/plain": [
       "{u'code': 400, u'message': u'Unable to process JSON'}"
      ]
     },
     "execution_count": 43,
     "metadata": {},
     "output_type": "execute_result"
    }
   ],
   "source": [
    "test1_3 = submit_workflow_run(\n",
    "    wes, \n",
    "    build_workflow_run_packet(\n",
    "        workflow_url=descriptor_url,\n",
    "        workflow_params=params,\n",
    "        workflow_type=workflow_type,\n",
    "        workflow_type_version=workflow_type_version,\n",
    "        key_values=key_values\n",
    "    ),\n",
    "    tags={'track_id': 'test1_3'}\n",
    ")\n",
    "test1_3"
   ]
  },
  {
   "cell_type": "markdown",
   "metadata": {},
   "source": [
    "#### Test1.3 Results\n",
    "\n",
    "> Fail. :("
   ]
  },
  {
   "cell_type": "markdown",
   "metadata": {},
   "source": [
    "#### 1.4 Using descriptor URL, part 2"
   ]
  },
  {
   "cell_type": "markdown",
   "metadata": {},
   "source": [
    "Maybe if I provide the descriptor URL as the `workflow_descriptor`..."
   ]
  },
  {
   "cell_type": "code",
   "execution_count": 44,
   "metadata": {},
   "outputs": [
    {
     "name": "stdout",
     "output_type": "stream",
     "text": [
      "{'key_values': {'flavour': 'c4.xlarge', 'tracker_id': 'test1'}, 'workflow_type_version': '1.0', 'workflow_params': '{\"bam_input\": {\"path\": \"https://s3-us-west-2.amazonaws.com/achave11-redwood-storage/consonance-outputs/rna.SRR948778.bam\", \"class\": \"File\", \"format\": \"http://edamontology.org/format_2572\"}, \"bamstats_report\": {\"path\": \"/tmp/bamstats_report.zip\", \"class\": \"File\"}, \"track_id\": \"test1_4\"}', 'workflow_descriptor': 'https://dockstore.org:8443/api/ga4gh/v2/tools/quay.io%2Fcollaboratory%2Fdockstore-tool-bamstats/versions/1.25-6_1.0/plain-CWL/descriptor/%2FDockstore.cwl', 'workflow_type': 'cwl'}\n"
     ]
    },
    {
     "data": {
      "text/plain": [
       "{u'workflow_id': u'33'}"
      ]
     },
     "execution_count": 44,
     "metadata": {},
     "output_type": "execute_result"
    }
   ],
   "source": [
    "test1_4 = submit_workflow_run(\n",
    "    wes, \n",
    "    build_workflow_run_packet(\n",
    "        workflow_descriptor=descriptor_url,\n",
    "        workflow_params=params,\n",
    "        workflow_type=workflow_type,\n",
    "        workflow_type_version=workflow_type_version,\n",
    "        key_values=key_values\n",
    "    ),\n",
    "    tags={'track_id': 'test1_4'}\n",
    ")\n",
    "test1_4"
   ]
  },
  {
   "cell_type": "code",
   "execution_count": 45,
   "metadata": {},
   "outputs": [
    {
     "data": {
      "text/plain": [
       "u'49'"
      ]
     },
     "execution_count": 45,
     "metadata": {},
     "output_type": "execute_result"
    }
   ],
   "source": [
    "test1_4_id = find_workflow_run(wes, 'track_id', 'test1_4')\n",
    "test1_4_id"
   ]
  },
  {
   "cell_type": "code",
   "execution_count": 47,
   "metadata": {},
   "outputs": [
    {
     "data": {
      "text/plain": [
       "{u'state': u'Complete', u'workflow_id': u'49'}"
      ]
     },
     "execution_count": 47,
     "metadata": {},
     "output_type": "execute_result"
    }
   ],
   "source": [
    "get_workflow_run_status(wes, test1_4_id)"
   ]
  },
  {
   "cell_type": "code",
   "execution_count": 48,
   "metadata": {},
   "outputs": [
    {
     "data": {
      "text/plain": [
       "{u'outputs': [{u'location': None,\n",
       "   u'name': None,\n",
       "   u'type': None,\n",
       "   u'value': None}],\n",
       " u'request': {u'key_values': None,\n",
       "  u'workflow_descriptor': u'#!/usr/bin/env cwl-runner\\n\\nclass: CommandLineTool\\nid: \"BAMStats\"\\nlabel: \"BAMStats tool\"\\ncwlVersion: v1.0 \\ndescription: |\\n    ![build_status](https://quay.io/repository/collaboratory/dockstore-tool-bamstats/status)\\n    A Docker container for the BAMStats command. See the [BAMStats](http://bamstats.sourceforge.net/) website for more information.\\n\\ndct:creator:\\n  \"@id\": \"http://orcid.org/0000-0002-7681-6415\"\\n  foaf:name: Brian O\\'Connor\\n  foaf:mbox: \"mailto:briandoconnor@gmail.com\"\\n\\nrequirements:\\n  - class: DockerRequirement\\n    dockerPull: \"quay.io/collaboratory/dockstore-tool-bamstats:1.25-6_1.0\"\\n\\nhints:\\n  - class: ResourceRequirement\\n    coresMin: 1\\n    ramMin: 4092\\n    outdirMin: 512000\\n    doc: \"the process requires at least 4G of RAM\"\\n\\ninputs:\\n  mem_gb:\\n    type: int\\n    default: 4\\n    doc: \"The memory, in GB, for the reporting tool\"\\n    inputBinding:\\n      position: 1\\n\\n  bam_input:\\n    type: File\\n    doc: \"The BAM file used as input, it must be sorted.\"\\n    format: \"http://edamontology.org/format_2572\" \\n    inputBinding:\\n      position: 2\\n\\noutputs:\\n  bamstats_report:\\n    type: File\\n    format: \"http://edamontology.org/format_3615\"\\n    outputBinding:\\n      glob: bamstats_report.zip\\n    doc: \"A zip file that contains the HTML report and various graphics.\"\\n\\nbaseCommand: [\"bash\", \"/usr/local/bin/bamstats\"]\\n',\n",
       "  u'workflow_params': u'{\"bam_input\": {\"path\": \"https://s3-us-west-2.amazonaws.com/achave11-redwood-storage/consonance-outputs/rna.SRR948778.bam\", \"class\": \"File\", \"format\": \"http://edamontology.org/format_2572\"}, \"bamstats_report\": {\"path\": \"/tmp/bamstats_report.zip\", \"class\": \"File\"}, \"track_id\": \"test1_4\"}',\n",
       "  u'workflow_type': u'cwl',\n",
       "  u'workflow_type_version': u'1.0'},\n",
       " u'state': u'Complete',\n",
       " u'task_logs': [{u'cmd': None,\n",
       "   u'endTime': u'2018-05-03 04:25:01.224414',\n",
       "   u'exitCode': None,\n",
       "   u'name': u'cwl',\n",
       "   u'startTime': u'2018-05-03 04:23:45.858',\n",
       "   u'stderr': u\"/usr/local/bin/cwltool 1.0.20160712154127\\n['docker', 'pull', 'quay.io/collaboratory/dockstore-tool-bamstats:1.25-6_1.0']\\n1.25-6_1.0: Pulling from collaboratory/dockstore-tool-bamstats\\n3f992ab3df53: Pulling fs layer\\n0aa0bd28396f: Pulling fs layer\\ndb7bb15088de: Pulling fs layer\\n1b6d2bb5ddaa: Pulling fs layer\\na2bc8c956e6b: Pulling fs layer\\na3ed95caeb02: Pulling fs layer\\n8490c37475e2: Pulling fs layer\\n1cb104d5dc15: Pulling fs layer\\n145feb45c0fa: Pulling fs layer\\n0b48f67a56f8: Pulling fs layer\\n0afaeb20bbb7: Pulling fs layer\\n7da63344ae10: Pulling fs layer\\na2bc8c956e6b: Waiting\\na3ed95caeb02: Waiting\\n8490c37475e2: Waiting\\n1cb104d5dc15: Waiting\\n145feb45c0fa: Waiting\\n0b48f67a56f8: Waiting\\n0afaeb20bbb7: Waiting\\n7da63344ae10: Waiting\\n1b6d2bb5ddaa: Waiting\\n0aa0bd28396f: Verifying Checksum\\n0aa0bd28396f: Download complete\\ndb7bb15088de: Verifying Checksum\\ndb7bb15088de: Download complete\\n1b6d2bb5ddaa: Verifying Checksum\\n1b6d2bb5ddaa: Download complete\\na2bc8c956e6b: Download complete\\na3ed95caeb02: Verifying Checksum\\na3ed95caeb02: Download complete\\n1cb104d5dc15: Download complete\\n145feb45c0fa: Verifying Checksum\\n145feb45c0fa: Download complete\\n0b48f67a56f8: Verifying Checksum\\n0b48f67a56f8: Download complete\\n0afaeb20bbb7: Verifying Checksum\\n0afaeb20bbb7: Download complete\\n7da63344ae10: Verifying Checksum\\n7da63344ae10: Download complete\\n3f992ab3df53: Verifying Checksum\\n3f992ab3df53: Download complete\\n3f992ab3df53: Pull complete\\n0aa0bd28396f: Pull complete\\ndb7bb15088de: Pull complete\\n1b6d2bb5ddaa: Pull complete\\na2bc8c956e6b: Pull complete\\na3ed95caeb02: Pull complete\\n8490c37475e2: Verifying Checksum\\n8490c37475e2: Download complete\\n8490c37475e2: Pull complete\\n1cb104d5dc15: Pull complete\\n145feb45c0fa: Pull complete\\n0b48f67a56f8: Pull complete\\n0afaeb20bbb7: Pull complete\\n7da63344ae10: Pull complete\\nDigest: sha256:8472101666cda2a29be9abe8184ec2c7cae4360b75e712706921476b6b537679\\nStatus: Downloaded newer image for quay.io/collaboratory/dockstore-tool-bamstats:1.25-6_1.0\\n[job image-descriptor.cwl] /datastore$ docker \\\\\\n    run \\\\\\n    -i \\\\\\n    --volume=/var/run/docker.sock:/var/run/docker.sock:rw \\\\\\n    --volume=/datastore:/datastore:rw \\\\\\n    --volume=/datastore/./datastore/launcher-70566a2b-53a5-4536-9c73-51bb145abf34/inputs/633bd5c0-e5ad-443c-8654-0842c6895fef/rna.SRR948778.bam:/var/lib/cwl/stga690dbb7-b70d-4cc2-9612-10151b3206e7/rna.SRR948778.bam:ro \\\\\\n    --volume=/datastore/datastore/launcher-70566a2b-53a5-4536-9c73-51bb145abf34:/tmp:rw \\\\\\n    --workdir=/datastore \\\\\\n    --read-only=true \\\\\\n    --user=0 \\\\\\n    --rm \\\\\\n    --env=TMPDIR=/datastore/datastore/launcher-70566a2b-53a5-4536-9c73-51bb145abf34 \\\\\\n    --env=HOME=/datastore \\\\\\n    quay.io/collaboratory/dockstore-tool-bamstats:1.25-6_1.0 \\\\\\n    bash \\\\\\n    /usr/local/bin/bamstats \\\\\\n    4 \\\\\\n    /var/lib/cwl/stga690dbb7-b70d-4cc2-9612-10151b3206e7/rna.SRR948778.bam\\nTotal time: 1 minute 20 seconds\\n  adding: bamstats_report.html (deflated 83%)\\n  adding: bamstats_report.html.data/ (stored 0%)\\n  adding: bamstats_report.html.data/chr9_Coverage_histogram.png (deflated 22%)\\n  adding: bamstats_report.html.data/chr5_Coverage_histogram.png (deflated 22%)\\n  adding: bamstats_report.html.data/chr16_Coverage_boxAndWhisker.png (deflated 18%)\\n  adding: bamstats_report.html.data/chr2_Coverage.html (deflated 61%)\\n  adding: bamstats_report.html.data/chr17_Coverage.html (deflated 61%)\\n  adding: bamstats_report.html.data/chr10_Coverage.html (deflated 61%)\\n  adding: bamstats_report.html.data/chr2_Coverage_histogram.png (deflated 21%)\\n  adding: bamstats_report.html.data/chr2_Coverage_boxAndWhisker.png (deflated 18%)\\n  adding: bamstats_report.html.data/chr12_Coverage_histogram.png (deflated 21%)\\n  adding: bamstats_report.html.data/chr1_Coverage_boxAndWhisker.png (deflated 18%)\\n  adding: bamstats_report.html.data/chr14_Coverage_cumulativeHistogram.png (deflated 24%)\\n  adding: bamstats_report.html.data/chr18_Coverage.html (deflated 61%)\\n  adding: bamstats_report.html.data/chr13_Coverage.html (deflated 61%)\\n  adding: bamstats_report.html.data/chr6_Coverage_histogram.png (deflated 22%)\\n  adding: bamstats_report.html.data/chr16_Coverage.html (deflated 61%)\\n  adding: bamstats_report.html.data/chr5_Coverage_cumulativeHistogram.png (deflated 24%)\\n  adding: bamstats_report.html.data/chr4_Coverage_boxAndWhisker.png (deflated 18%)\\n  adding: bamstats_report.html.data/chr15_Coverage_boxAndWhisker.png (deflated 18%)\\n  adding: bamstats_report.html.data/chr1_Coverage_histogram.png (deflated 20%)\\n  adding: bamstats_report.html.data/chrM_Coverage_boxAndWhisker.png (deflated 14%)\\n  adding: bamstats_report.html.data/chrX_Coverage.html (deflated 59%)\\n  adding: bamstats_report.html.data/chr4_Coverage_histogram.png (deflated 21%)\\n  adding: bamstats_report.html.data/chr11_Coverage_boxAndWhisker.png (deflated 17%)\\n  adding: bamstats_report.html.data/chr13_Coverage_histogram.png (deflated 22%)\\n  adding: bamstats_report.html.data/chr7_Coverage_histogram.png (deflated 21%)\\n  adding: bamstats_report.html.data/chr3_Coverage.html (deflated 59%)\\n  adding: bamstats_report.html.data/chr13_Coverage_cumulativeHistogram.png (deflated 25%)\\n  adding: bamstats_report.html.data/chr7_Coverage_cumulativeHistogram.png (deflated 23%)\\n  adding: bamstats_report.html.data/chr11_Coverage.html (deflated 61%)\\n  adding: bamstats_report.html.data/chr1_Coverage_cumulativeHistogram.png (deflated 24%)\\n  adding: bamstats_report.html.data/chr11_Coverage_histogram.png (deflated 21%)\\n  adding: bamstats_report.html.data/chr11_Coverage_cumulativeHistogram.png (deflated 24%)\\n  adding: bamstats_report.html.data/chr13_Coverage_boxAndWhisker.png (deflated 19%)\\n  adding: bamstats_report.html.data/chr1_Coverage.html (deflated 61%)\\n  adding: bamstats_report.html.data/chr7_Coverage_boxAndWhisker.png (deflated 18%)\\n  adding: bamstats_report.html.data/chrM_Coverage_cumulativeHistogram.png (deflated 15%)\\n  adding: bamstats_report.html.data/Coverage_boxAndWhisker.png (deflated 39%)\\n  adding: bamstats_report.html.data/chr19_Coverage_histogram.png (deflated 21%)\\n  adding: bamstats_report.html.data/chrM_Coverage_histogram.png (deflated 16%)\\n  adding: bamstats_report.html.data/chr12_Coverage_boxAndWhisker.png (deflated 18%)\\n  adding: bamstats_report.html.data/chr9_Coverage_boxAndWhisker.png (deflated 17%)\\n  adding: bamstats_report.html.data/chr8_Coverage.html (deflated 61%)\\n  adding: bamstats_report.html.data/chr12_Coverage_cumulativeHistogram.png (deflated 24%)\\n  adding: bamstats_report.html.data/chr16_Coverage_cumulativeHistogram.png (deflated 24%)\\n  adding: bamstats_report.html.data/chr18_Coverage_cumulativeHistogram.png (deflated 24%)\\n  adding: bamstats_report.html.data/chr18_Coverage_boxAndWhisker.png (deflated 17%)\\n  adding: bamstats_report.html.data/chr5_Coverage_boxAndWhisker.png (deflated 17%)\\n  adding: bamstats_report.html.data/chr8_Coverage_boxAndWhisker.png (deflated 18%)\\n  adding: bamstats_report.html.data/chr10_Coverage_histogram.png (deflated 21%)\\n  adding: bamstats_report.html.data/chrY_Coverage.html (deflated 60%)\\n  adding: bamstats_report.html.data/chr14_Coverage.html (deflated 61%)\\n  adding: bamstats_report.html.data/chr14_Coverage_histogram.png (deflated 22%)\\n  adding: bamstats_report.html.data/chr8_Coverage_cumulativeHistogram.png (deflated 24%)\\n  adding: bamstats_report.html.data/chr19_Coverage_cumulativeHistogram.png (deflated 25%)\\n  adding: bamstats_report.html.data/chr17_Coverage_cumulativeHistogram.png (deflated 23%)\\n  adding: bamstats_report.html.data/chr17_Coverage_boxAndWhisker.png (deflated 17%)\\n  adding: bamstats_report.html.data/chr9_Coverage_cumulativeHistogram.png (deflated 23%)\\n  adding: bamstats_report.html.data/chr10_Coverage_boxAndWhisker.png (deflated 17%)\\n  adding: bamstats_report.html.data/chr17_Coverage_histogram.png (deflated 20%)\\n  adding: bamstats_report.html.data/chr19_Coverage_boxAndWhisker.png (deflated 18%)\\n  adding: bamstats_report.html.data/chr4_Coverage.html (deflated 61%)\\n  adding: bamstats_report.html.data/chr16_Coverage_histogram.png (deflated 22%)\\n  adding: bamstats_report.html.data/chr6_Coverage_boxAndWhisker.png (deflated 18%)\\n  adding: bamstats_report.html.data/chr15_Coverage_cumulativeHistogram.png (deflated 24%)\\n  adding: bamstats_report.html.data/chr8_Coverage_histogram.png (deflated 22%)\\n  adding: bamstats_report.html.data/chr9_Coverage.html (deflated 61%)\\n  adding: bamstats_report.html.data/chr15_Coverage.html (deflated 61%)\\n  adding: bamstats_report.html.data/chr14_Coverage_boxAndWhisker.png (deflated 18%)\\n  adding: bamstats_report.html.data/chr6_Coverage_cumulativeHistogram.png (deflated 24%)\\n  adding: bamstats_report.html.data/chr19_Coverage.html (deflated 61%)\\n  adding: bamstats_report.html.data/chr12_Coverage.html (deflated 61%)\\n  adding: bamstats_report.html.data/chr10_Coverage_cumulativeHistogram.png (deflated 24%)\\n  adding: bamstats_report.html.data/chr2_Coverage_cumulativeHistogram.png (deflated 24%)\\n  adding: bamstats_report.html.data/chrM_Coverage.html (deflated 59%)\\n  adding: bamstats_report.html.data/chr7_Coverage.html (deflated 61%)\\n  adding: bamstats_report.html.data/chr15_Coverage_histogram.png (deflated 22%)\\n  adding: bamstats_report.html.data/chr4_Coverage_cumulativeHistogram.png (deflated 24%)\\n  adding: bamstats_report.html.data/chr6_Coverage.html (deflated 61%)\\n  adding: bamstats_report.html.data/chr5_Coverage.html (deflated 61%)\\n  adding: bamstats_report.html.data/chr18_Coverage_histogram.png (deflated 22%)\\nFinal process status is success\",\n",
       "   u'stdout': None}],\n",
       " u'workflow_id': u'49',\n",
       " u'workflow_log': None}"
      ]
     },
     "execution_count": 48,
     "metadata": {},
     "output_type": "execute_result"
    }
   ],
   "source": [
    "get_workflow_run(wes, test1_4_id)"
   ]
  },
  {
   "cell_type": "markdown",
   "metadata": {},
   "source": [
    "#### Test 1.4 Results\n",
    "\n",
    "> Inconclusive. The descriptor document seems to have been correctly retrieved and set, but I'm still unsure if I can trust the `stderr`. I probably need to test sequentially with different workflows."
   ]
  },
  {
   "cell_type": "code",
   "execution_count": null,
   "metadata": {},
   "outputs": [],
   "source": []
  }
 ],
 "metadata": {
  "kernelspec": {
   "display_name": "Python 2",
   "language": "python",
   "name": "python2"
  },
  "language_info": {
   "codemirror_mode": {
    "name": "ipython",
    "version": 2
   },
   "file_extension": ".py",
   "mimetype": "text/x-python",
   "name": "python",
   "nbconvert_exporter": "python",
   "pygments_lexer": "ipython2",
   "version": "2.7.14"
  }
 },
 "nbformat": 4,
 "nbformat_minor": 2
}
