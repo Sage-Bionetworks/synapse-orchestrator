{
 "cells": [
  {
   "cell_type": "code",
   "execution_count": 1,
   "metadata": {},
   "outputs": [],
   "source": [
    "%load_ext autoreload\n",
    "%autoreload 2"
   ]
  },
  {
   "cell_type": "code",
   "execution_count": 2,
   "metadata": {},
   "outputs": [
    {
     "name": "stderr",
     "output_type": "stream",
     "text": [
      "DEBUG:rdflib:RDFLib Version: 4.2.2\n"
     ]
    }
   ],
   "source": [
    "import yaml\n",
    "import os\n",
    "import urlparse\n",
    "import requests\n",
    "import json\n",
    "import time\n",
    "\n",
    "from synorchestrator.trs_client.client import TRSClient\n",
    "from synorchestrator.wes_client.client import WESClient\n",
    "from synorchestrator.util import build_wes_request\n",
    "from synorchestrator.util import params_url2object"
   ]
  },
  {
   "cell_type": "code",
   "execution_count": 23,
   "metadata": {},
   "outputs": [
    {
     "name": "stdout",
     "output_type": "stream",
     "text": [
      "\n",
      "Orchestrator options:\n",
      "\n",
      "Evaluation Queues\n",
      "---------------------------------------------------------------------------\n",
      "0: github.com/dockstore-testing/md5sum-checker [CWL]\n",
      "1: github.com/dockstore-testing/md5sum-checker/wdl [WDL]\n",
      "2: github.com/DataBiosphere/topmed-workflows/TopMed_Variant_Caller [WDL]\n",
      "\n",
      "Tool Registries\n",
      "---------------------------------------------------------------------------\n",
      "dockstore: dockstore.org:8443\n",
      "\n",
      "Workflow Services\n",
      "---------------------------------------------------------------------------\n",
      "hca-cromwell: g0n2qjnu94.execute-api.us-east-1.amazonaws.com/test\n",
      "arvados-wes: wes.qr1hi.arvadosapi.com\n",
      "local: 0.0.0.0:8080\n"
     ]
    }
   ],
   "source": [
    "config.show()"
   ]
  },
  {
   "cell_type": "markdown",
   "metadata": {},
   "source": [
    "## Set up TRS and WES clients"
   ]
  },
  {
   "cell_type": "markdown",
   "metadata": {},
   "source": [
    "Load options and paramters for TRS and WES servers from local configs."
   ]
  },
  {
   "cell_type": "code",
   "execution_count": 24,
   "metadata": {},
   "outputs": [],
   "source": [
    "tclient = TRSClient(**config.trs_config['dockstore'])\n",
    "arvclient = WESClient(**config.wes_config['arvados-wes'])\n",
    "cromclient = WESClient(**config.wes_config['hca-cromwell'])"
   ]
  },
  {
   "cell_type": "markdown",
   "metadata": {},
   "source": [
    "### Verify WES connections are working"
   ]
  },
  {
   "cell_type": "code",
   "execution_count": 5,
   "metadata": {
    "scrolled": false
   },
   "outputs": [
    {
     "name": "stderr",
     "output_type": "stream",
     "text": [
      "DEBUG:urllib3.connectionpool:Starting new HTTPS connection (1): wes.qr1hi.arvadosapi.com\n",
      "DEBUG:urllib3.connectionpool:https://wes.qr1hi.arvadosapi.com:443 \"GET /ga4gh/wes/v1/service-info HTTP/1.1\" 200 325\n"
     ]
    },
    {
     "data": {
      "text/plain": [
       "{u'engine_versions': u'cwl-runner',\n",
       " u'key_values': {},\n",
       " u'supported_filesystem_protocols': [u'file', u'http', u'https', u'keep'],\n",
       " u'supported_wes_versions': u'0.2.1',\n",
       " u'system_state_counts': {},\n",
       " u'workflow_type_versions': {u'CWL': {u'workflow_type_version': [u'v1.0']}}}"
      ]
     },
     "execution_count": 5,
     "metadata": {},
     "output_type": "execute_result"
    }
   ],
   "source": [
    "arvclient.get_service_info()"
   ]
  },
  {
   "cell_type": "code",
   "execution_count": 6,
   "metadata": {
    "scrolled": true
   },
   "outputs": [
    {
     "name": "stderr",
     "output_type": "stream",
     "text": [
      "DEBUG:urllib3.connectionpool:Starting new HTTPS connection (1): g0n2qjnu94.execute-api.us-east-1.amazonaws.com\n",
      "DEBUG:urllib3.connectionpool:https://g0n2qjnu94.execute-api.us-east-1.amazonaws.com:443 \"GET /test//service-info HTTP/1.1\" 200 337\n"
     ]
    },
    {
     "data": {
      "text/plain": [
       "{u'auth_instructions_url': u'',\n",
       " u'default_workflow_engine_parameters': [],\n",
       " u'supported_filesystem_protocols': [u'gs'],\n",
       " u'supported_wes_versions': [u'0.2.1'],\n",
       " u'system_state_counts': {u'zero': 0},\n",
       " u'tags': {},\n",
       " u'workflow_engine_versions': {u'cromwell': u'31'},\n",
       " u'workflow_type_versions': {u'huh': {u'worfklow_type_version': [u'wdl',\n",
       "    u'gzip',\n",
       "    u'main.wdl']}}}"
      ]
     },
     "execution_count": 6,
     "metadata": {},
     "output_type": "execute_result"
    }
   ],
   "source": [
    "cromclient.get_service_info()"
   ]
  },
  {
   "cell_type": "markdown",
   "metadata": {},
   "source": [
    "## Tool test\n",
    "\n",
    "Using this section to do some lightweight testing with standalone WDL/CWL *tools* (before getting into workflows)."
   ]
  },
  {
   "cell_type": "markdown",
   "metadata": {},
   "source": [
    "### WDL\n",
    "\n",
    "Testing with the WDL version of `quay.io/briandoconnor/dockstore-tool-md5sum`; fetch the descriptor file content from Dockstore."
   ]
  },
  {
   "cell_type": "code",
   "execution_count": 7,
   "metadata": {},
   "outputs": [
    {
     "name": "stderr",
     "output_type": "stream",
     "text": [
      "DEBUG:urllib3.connectionpool:Starting new HTTPS connection (1): dockstore.org\n",
      "DEBUG:urllib3.connectionpool:https://dockstore.org:8443 \"GET /api/ga4gh/v2/tools/quay.io%2Fbriandoconnor%2Fdockstore-tool-md5sum/versions/master/plain-WDL/descriptor/%2FDockstore.wdl HTTP/1.1\" 200 211\n"
     ]
    },
    {
     "data": {
      "text/plain": [
       "'task md5 {\\n  File inputFile\\n\\n  command {\\n    /bin/my_md5sum ${inputFile}\\n  }\\n\\n output {\\n    File value = \"md5sum.txt\"\\n }\\n\\n runtime {\\n   docker: \"quay.io/briandoconnor/dockstore-tool-md5sum:1.0.4\"\\n   cpu: 1\\n   memory: \"512 MB\"\\n }\\n}\\n\\nworkflow ga4ghMd5 {\\n File inputFile\\n call md5 { input: inputFile=inputFile }\\n}\\n'"
      ]
     },
     "execution_count": 7,
     "metadata": {},
     "output_type": "execute_result"
    }
   ],
   "source": [
    "wdl_tool_url = 'https://dockstore.org:8443/api/ga4gh/v2/tools/quay.io%2Fbriandoconnor%2Fdockstore-tool-md5sum/versions/master/plain-WDL/descriptor/%2FDockstore.wdl'\n",
    "wdl_tool_descriptor = requests.get(wdl_tool_url)\n",
    "wdl_tool_descriptor.content"
   ]
  },
  {
   "cell_type": "markdown",
   "metadata": {},
   "source": [
    "#### Submitting with `workflow_descriptor`\n",
    "\n",
    "Retrieve the test parameters content from the JSON file in GitHub and format as an object for the WES request. Provide the contents of WDL descriptor file as string/blob in request."
   ]
  },
  {
   "cell_type": "code",
   "execution_count": 8,
   "metadata": {},
   "outputs": [
    {
     "name": "stderr",
     "output_type": "stream",
     "text": [
      "DEBUG:cachecontrol.controller:Looking up \"https://raw.githubusercontent.com/briandoconnor/dockstore-tool-md5sum/master/test.wdl.json\" in the cache\n",
      "DEBUG:cachecontrol.controller:Current age based on date: 16397\n",
      "DEBUG:cachecontrol.controller:Freshness lifetime from max-age: 300\n",
      "DEBUG:urllib3.connectionpool:Starting new HTTPS connection (1): raw.githubusercontent.com\n",
      "DEBUG:urllib3.connectionpool:https://raw.githubusercontent.com:443 \"GET /briandoconnor/dockstore-tool-md5sum/master/test.wdl.json HTTP/1.1\" 304 0\n",
      "DEBUG:urllib3.connectionpool:https://raw.githubusercontent.com:443 \"HEAD /briandoconnor/dockstore-tool-md5sum/master/md5sum.input HTTP/1.1\" 200 0\n"
     ]
    },
    {
     "data": {
      "text/plain": [
       "{'workflow_descriptor': 'task md5 {\\n  File inputFile\\n\\n  command {\\n    /bin/my_md5sum ${inputFile}\\n  }\\n\\n output {\\n    File value = \"md5sum.txt\"\\n }\\n\\n runtime {\\n   docker: \"quay.io/briandoconnor/dockstore-tool-md5sum:1.0.4\"\\n   cpu: 1\\n   memory: \"512 MB\"\\n }\\n}\\n\\nworkflow ga4ghMd5 {\\n File inputFile\\n call md5 { input: inputFile=inputFile }\\n}\\n',\n",
       " 'workflow_params': ordereddict([('ga4ghMd5.inputFile', 'https://raw.githubusercontent.com/briandoconnor/dockstore-tool-md5sum/master/md5sum.input')]),\n",
       " 'workflow_type': 'WDL',\n",
       " 'workflow_type_version': 'v1.0'}"
      ]
     },
     "execution_count": 8,
     "metadata": {},
     "output_type": "execute_result"
    }
   ],
   "source": [
    "wdl_tool_test_url = 'https://raw.githubusercontent.com/briandoconnor/dockstore-tool-md5sum/master/test.wdl.json'\n",
    "tool_request = build_wes_request(\n",
    "    workflow_descriptor=wdl_tool_descriptor.content, \n",
    "    workflow_params=wdl_tool_test_url,\n",
    "    workflow_type='WDL'\n",
    "    \n",
    ")\n",
    "tool_request"
   ]
  },
  {
   "cell_type": "markdown",
   "metadata": {},
   "source": [
    "Update the file input path in `workflow_params` to use GS URL."
   ]
  },
  {
   "cell_type": "code",
   "execution_count": 9,
   "metadata": {},
   "outputs": [
    {
     "data": {
      "text/plain": [
       "{'workflow_descriptor': 'task md5 {\\n  File inputFile\\n\\n  command {\\n    /bin/my_md5sum ${inputFile}\\n  }\\n\\n output {\\n    File value = \"md5sum.txt\"\\n }\\n\\n runtime {\\n   docker: \"quay.io/briandoconnor/dockstore-tool-md5sum:1.0.4\"\\n   cpu: 1\\n   memory: \"512 MB\"\\n }\\n}\\n\\nworkflow ga4ghMd5 {\\n File inputFile\\n call md5 { input: inputFile=inputFile }\\n}\\n',\n",
       " 'workflow_params': ordereddict([('ga4ghMd5.inputFile', 'gs://dockstore-tool-md5sum-data/md5sum.input.txt')]),\n",
       " 'workflow_type': 'WDL',\n",
       " 'workflow_type_version': 'v1.0'}"
      ]
     },
     "execution_count": 9,
     "metadata": {},
     "output_type": "execute_result"
    }
   ],
   "source": [
    "tool_request['workflow_params']['ga4ghMd5.inputFile'] = 'gs://dockstore-tool-md5sum-data/md5sum.input.txt'\n",
    "tool_request"
   ]
  },
  {
   "cell_type": "markdown",
   "metadata": {},
   "source": [
    "Submit the tool run."
   ]
  },
  {
   "cell_type": "code",
   "execution_count": 10,
   "metadata": {},
   "outputs": [
    {
     "name": "stderr",
     "output_type": "stream",
     "text": [
      "DEBUG:urllib3.connectionpool:Starting new HTTPS connection (1): g0n2qjnu94.execute-api.us-east-1.amazonaws.com\n",
      "DEBUG:urllib3.connectionpool:https://g0n2qjnu94.execute-api.us-east-1.amazonaws.com:443 \"POST /test//workflows HTTP/1.1\" 200 55\n"
     ]
    },
    {
     "data": {
      "text/plain": [
       "{u'workflow_id': u'c02f0049-c7b5-48fa-ac0f-150aacdf1a0d'}"
      ]
     },
     "execution_count": 10,
     "metadata": {},
     "output_type": "execute_result"
    }
   ],
   "source": [
    "cromclient.run_workflow(tool_request)"
   ]
  },
  {
   "cell_type": "code",
   "execution_count": 15,
   "metadata": {},
   "outputs": [
    {
     "name": "stderr",
     "output_type": "stream",
     "text": [
      "DEBUG:urllib3.connectionpool:Starting new HTTPS connection (1): g0n2qjnu94.execute-api.us-east-1.amazonaws.com\n",
      "DEBUG:urllib3.connectionpool:https://g0n2qjnu94.execute-api.us-east-1.amazonaws.com:443 \"GET /test//workflows/c02f0049-c7b5-48fa-ac0f-150aacdf1a0d HTTP/1.1\" 200 962\n"
     ]
    },
    {
     "data": {
      "text/plain": [
       "{u'end_time': u'2018-05-24T21:16:31.309Z',\n",
       " u'outputs': {u'ga4ghMd5.md5.value': u'gs://broad-dsde-mint-dev-cromwell-execution/cromwell-executions/ga4ghMd5/c02f0049-c7b5-48fa-ac0f-150aacdf1a0d/call-md5/md5sum.txt'},\n",
       " u'request': {u'workflow_descriptor': u'task md5 {\\n  File inputFile\\n\\n  command {\\n    /bin/my_md5sum ${inputFile}\\n  }\\n\\n output {\\n    File value = \"md5sum.txt\"\\n }\\n\\n runtime {\\n   docker: \"quay.io/briandoconnor/dockstore-tool-md5sum:1.0.4\"\\n   cpu: 1\\n   memory: \"512 MB\"\\n }\\n}\\n\\nworkflow ga4ghMd5 {\\n File inputFile\\n call md5 { input: inputFile=inputFile }\\n}\\n',\n",
       "  u'workflow_params': {u'ga4ghMd5.inputFile': u'gs://dockstore-tool-md5sum-data/md5sum.input.txt'},\n",
       "  u'workflow_type': u'WDL'},\n",
       " u'start_time': u'2018-05-24T21:16:10.439Z',\n",
       " u'state': u'COMPLETE',\n",
       " u'task_logs': [],\n",
       " u'workflow_id': u'c02f0049-c7b5-48fa-ac0f-150aacdf1a0d',\n",
       " u'workflow_log': {u'cmd': [u''],\n",
       "  u'end_time': u'',\n",
       "  u'exit_code': 0,\n",
       "  u'name': u'',\n",
       "  u'start_time': u'',\n",
       "  u'stderr': u'',\n",
       "  u'stdout': u''}}"
      ]
     },
     "execution_count": 15,
     "metadata": {},
     "output_type": "execute_result"
    }
   ],
   "source": [
    "cromclient.get_workflow_run('c02f0049-c7b5-48fa-ac0f-150aacdf1a0d')"
   ]
  },
  {
   "cell_type": "markdown",
   "metadata": {},
   "source": [
    "#### Submitting with `workflow_url`\n",
    "\n",
    "Attempt to run the tool by providing URL path for the WDL descriptor file in WES request."
   ]
  },
  {
   "cell_type": "code",
   "execution_count": 13,
   "metadata": {},
   "outputs": [
    {
     "name": "stderr",
     "output_type": "stream",
     "text": [
      "DEBUG:cachecontrol.controller:Looking up \"https://raw.githubusercontent.com/briandoconnor/dockstore-tool-md5sum/master/test.wdl.json\" in the cache\n",
      "DEBUG:cachecontrol.controller:Current age based on date: 48\n",
      "DEBUG:cachecontrol.controller:Freshness lifetime from max-age: 300\n",
      "DEBUG:cachecontrol.controller:The response is \"fresh\", returning cached response\n",
      "DEBUG:cachecontrol.controller:300 > 48\n",
      "DEBUG:urllib3.connectionpool:Starting new HTTPS connection (1): raw.githubusercontent.com\n",
      "DEBUG:urllib3.connectionpool:https://raw.githubusercontent.com:443 \"HEAD /briandoconnor/dockstore-tool-md5sum/master/md5sum.input HTTP/1.1\" 200 0\n"
     ]
    },
    {
     "data": {
      "text/plain": [
       "{'workflow_params': ordereddict([('ga4ghMd5.inputFile', 'gs://dockstore-tool-md5sum-data/md5sum.input.txt')]),\n",
       " 'workflow_type': 'WDL',\n",
       " 'workflow_type_version': 'v1.0',\n",
       " 'workflow_url': 'https://dockstore.org:8443/api/ga4gh/v2/tools/quay.io%2Fbriandoconnor%2Fdockstore-tool-md5sum/versions/master/plain-WDL/descriptor/%2FDockstore.wdl'}"
      ]
     },
     "execution_count": 13,
     "metadata": {},
     "output_type": "execute_result"
    }
   ],
   "source": [
    "tool_request = build_wes_request(\n",
    "    workflow_url='https://dockstore.org:8443/api/ga4gh/v2/tools/quay.io%2Fbriandoconnor%2Fdockstore-tool-md5sum/versions/master/plain-WDL/descriptor/%2FDockstore.wdl', \n",
    "    workflow_params='https://raw.githubusercontent.com/briandoconnor/dockstore-tool-md5sum/master/test.wdl.json',\n",
    "    workflow_type='WDL'\n",
    "    \n",
    ")\n",
    "tool_request['workflow_params']['ga4ghMd5.inputFile'] = 'gs://dockstore-tool-md5sum-data/md5sum.input.txt'\n",
    "tool_request"
   ]
  },
  {
   "cell_type": "code",
   "execution_count": 14,
   "metadata": {},
   "outputs": [
    {
     "name": "stderr",
     "output_type": "stream",
     "text": [
      "DEBUG:urllib3.connectionpool:Starting new HTTPS connection (1): g0n2qjnu94.execute-api.us-east-1.amazonaws.com\n",
      "DEBUG:urllib3.connectionpool:https://g0n2qjnu94.execute-api.us-east-1.amazonaws.com:443 \"POST /test//workflows HTTP/1.1\" 200 232\n"
     ]
    },
    {
     "data": {
      "text/plain": [
       "{u'errorMessage': u\"'workflow_descriptor'\",\n",
       " u'errorType': u'KeyError',\n",
       " u'stackTrace': [[u'/var/task/wes_to_cromwell.py',\n",
       "   93,\n",
       "   u'wes_workflows_post',\n",
       "   u'z = zipfile.ZipFile(io.BytesIO(base64.b64decode(event[\"workflow_descriptor\"])), \\'r\\')']]}"
      ]
     },
     "execution_count": 14,
     "metadata": {},
     "output_type": "execute_result"
    }
   ],
   "source": [
    "cromclient.run_workflow(tool_request)"
   ]
  },
  {
   "cell_type": "markdown",
   "metadata": {},
   "source": [
    "### CWL\n",
    "\n",
    "Testing with the CWL version of `quay.io/briandoconnor/dockstore-tool-md5sum`; fetch the descriptor content from Dockstore."
   ]
  },
  {
   "cell_type": "code",
   "execution_count": 16,
   "metadata": {},
   "outputs": [
    {
     "name": "stderr",
     "output_type": "stream",
     "text": [
      "DEBUG:urllib3.connectionpool:Starting new HTTPS connection (1): dockstore.org\n",
      "DEBUG:urllib3.connectionpool:https://dockstore.org:8443 \"GET /api/ga4gh/v2/tools/quay.io%2Fbriandoconnor%2Fdockstore-tool-md5sum/versions/master/CWL/descriptor HTTP/1.1\" 200 775\n"
     ]
    },
    {
     "data": {
      "text/plain": [
       "{u'descriptor': u'#!/usr/bin/env cwl-runner\\n\\nclass: CommandLineTool\\nid: Md5sum\\nlabel: Simple md5sum tool\\ncwlVersion: v1.0\\n\\n$namespaces:\\n  dct: http://purl.org/dc/terms/\\n  foaf: http://xmlns.com/foaf/0.1/\\n\\ndoc: |\\n  [![Docker Repository on Quay.io](https://quay.io/repository/briandoconnor/dockstore-tool-md5sum/status \"Docker Repository on Quay.io\")](https://quay.io/repository/briandoconnor/dockstore-tool-md5sum)\\n  [![Build Status](https://travis-ci.org/briandoconnor/dockstore-tool-md5sum.svg)](https://travis-ci.org/briandoconnor/dockstore-tool-md5sum)\\n  A very, very simple Docker container for the md5sum command. See the [README](https://github.com/briandoconnor/dockstore-tool-md5sum/blob/master/README.md) for more information.\\n\\n\\n#dct:creator:\\n#  \\'@id\\': http://orcid.org/0000-0002-7681-6415\\n#  foaf:name: Brian O\\'Connor\\n#  foaf:mbox: briandoconnor@gmail.com\\n\\nrequirements:\\n- class: DockerRequirement\\n  dockerPull: quay.io/briandoconnor/dockstore-tool-md5sum:1.0.4\\n- class: InlineJavascriptRequirement\\n\\nhints:\\n- class: ResourceRequirement\\n  # The command really requires very little resources.\\n  coresMin: 1\\n  ramMin: 1024\\n  outdirMin: 1024\\n\\ninputs:\\n  input_file:\\n    type: File\\n    inputBinding:\\n      position: 1\\n    doc: The file that will have its md5sum calculated.\\n\\noutputs:\\n  output_file:\\n    type: File\\n    format: http://edamontology.org/data_3671\\n    outputBinding:\\n      glob: md5sum.txt\\n    doc: A text file that contains a single line that is the md5sum of the input file.\\n\\nbaseCommand: [/bin/my_md5sum]\\n',\n",
       " u'type': u'CWL',\n",
       " u'url': u'https://raw.githubusercontent.com/briandoconnor/dockstore-tool-md5sum/master/Dockstore.cwl'}"
      ]
     },
     "execution_count": 16,
     "metadata": {},
     "output_type": "execute_result"
    }
   ],
   "source": [
    "cwl_tool_url = 'https://dockstore.org:8443/api/ga4gh/v2/tools/quay.io%2Fbriandoconnor%2Fdockstore-tool-md5sum/versions/master/CWL/descriptor'\n",
    "cwl_tool_descriptor = requests.get(cwl_tool_url).json()\n",
    "cwl_tool_descriptor"
   ]
  },
  {
   "cell_type": "markdown",
   "metadata": {},
   "source": [
    "#### Submitting with `workflow_url`\n",
    "\n",
    "Attempt to run the tool by providing URL path for the CWL descriptor file in WES request."
   ]
  },
  {
   "cell_type": "code",
   "execution_count": 52,
   "metadata": {},
   "outputs": [
    {
     "name": "stderr",
     "output_type": "stream",
     "text": [
      "DEBUG:cachecontrol.controller:Looking up \"https://raw.githubusercontent.com/briandoconnor/dockstore-tool-md5sum/master/test.json\" in the cache\n",
      "DEBUG:cachecontrol.controller:Current age based on date: 1828\n",
      "DEBUG:cachecontrol.controller:Freshness lifetime from max-age: 300\n",
      "DEBUG:urllib3.connectionpool:Starting new HTTPS connection (1): raw.githubusercontent.com\n",
      "DEBUG:urllib3.connectionpool:https://raw.githubusercontent.com:443 \"GET /briandoconnor/dockstore-tool-md5sum/master/test.json HTTP/1.1\" 304 0\n",
      "DEBUG:urllib3.connectionpool:https://raw.githubusercontent.com:443 \"HEAD /briandoconnor/dockstore-tool-md5sum/master/md5sum.input HTTP/1.1\" 200 0\n"
     ]
    },
    {
     "data": {
      "text/plain": [
       "{'workflow_params': ordereddict([('input_file', ordereddict([('class', 'File'), ('location', 'https://raw.githubusercontent.com/briandoconnor/dockstore-tool-md5sum/master/md5sum.input')]))]),\n",
       " 'workflow_type': 'CWL',\n",
       " 'workflow_type_version': 'v1.0',\n",
       " 'workflow_url': u'https://raw.githubusercontent.com/briandoconnor/dockstore-tool-md5sum/master/Dockstore.cwl'}"
      ]
     },
     "execution_count": 52,
     "metadata": {},
     "output_type": "execute_result"
    }
   ],
   "source": [
    "cwl_tool_request = build_wes_request(\n",
    "    workflow_url=cwl_tool_descriptor['url'],\n",
    "    workflow_params='https://raw.githubusercontent.com/briandoconnor/dockstore-tool-md5sum/master/test.json',\n",
    "    workflow_type='CWL'\n",
    ")\n",
    "cwl_tool_request"
   ]
  },
  {
   "cell_type": "code",
   "execution_count": 53,
   "metadata": {},
   "outputs": [
    {
     "name": "stderr",
     "output_type": "stream",
     "text": [
      "DEBUG:urllib3.connectionpool:Starting new HTTPS connection (1): wes.qr1hi.arvadosapi.com\n",
      "DEBUG:urllib3.connectionpool:https://wes.qr1hi.arvadosapi.com:443 \"POST /ga4gh/wes/v1/workflows HTTP/1.1\" 200 51\n"
     ]
    },
    {
     "data": {
      "text/plain": [
       "{u'workflow_id': u'qr1hi-xvhdp-engk7b81v9j7gwa'}"
      ]
     },
     "execution_count": 53,
     "metadata": {},
     "output_type": "execute_result"
    }
   ],
   "source": [
    "arvclient.run_workflow(cwl_tool_request)"
   ]
  },
  {
   "cell_type": "code",
   "execution_count": 54,
   "metadata": {},
   "outputs": [
    {
     "name": "stderr",
     "output_type": "stream",
     "text": [
      "DEBUG:urllib3.connectionpool:Starting new HTTPS connection (1): wes.qr1hi.arvadosapi.com\n",
      "DEBUG:urllib3.connectionpool:https://wes.qr1hi.arvadosapi.com:443 \"GET /ga4gh/wes/v1/workflows/qr1hi-xvhdp-engk7b81v9j7gwa HTTP/1.1\" 200 1469\n"
     ]
    },
    {
     "data": {
      "text/plain": [
       "{u'outputs': {u'output_file': {u'basename': u'md5sum.txt',\n",
       "   u'class': u'File',\n",
       "   u'format': u'http://edamontology.org/data_3671',\n",
       "   u'location': u'https://download.qr1hi.arvadosapi.com/c=2fd83f7df048ffe49ced1c05a05c6460+115/_/md5sum.txt',\n",
       "   u'size': 33}},\n",
       " u'request': {},\n",
       " u'state': u'COMPLETE',\n",
       " u'task_logs': [],\n",
       " u'workflow_id': u'qr1hi-xvhdp-engk7b81v9j7gwa',\n",
       " u'workflow_log': {u'cmd': [u''],\n",
       "  u'endTime': u'',\n",
       "  u'exit_code': 0,\n",
       "  u'startTime': u'',\n",
       "  u'stderr': u'2018-05-24T18:27:35.973069854Z cwltool INFO: /usr/local/bin/arvados-cwl-runner 1.1.4.20180523205640, arvados-python-client 1.1.4.20180510153813, cwltool 1.0.20180523203033\\n2018-05-24T18:27:35.974959654Z cwltool INFO: Resolved \\'/var/lib/cwl/workflow.json#main\\' to \\'file:///var/lib/cwl/workflow.json#main\\'\\n2018-05-24T18:27:37.692391955Z arvados.cwl-runner INFO: [container Simple md5sum tool] reused container qr1hi-dz642-yf4bwvrr8336gu8\\n2018-05-24T18:27:49.258490162Z arvados.cwl-runner INFO: [container Simple md5sum tool] qr1hi-xvhdp-9iz3rqxz64vphdv is Final\\n2018-05-24T18:27:49.376697262Z arvados.cwl-runner INFO: Overall process status is success\\n2018-05-24T18:27:50.613417963Z arvados.cwl-runner INFO: Final output collection 2fd83f7df048ffe49ced1c05a05c6460+115 \"Output of main (2018-05-24T18:27:50.516Z)\" (qr1hi-4zz18-gxv5r2nc6nvapl4)\\n2018-05-24T18:27:51.049534863Z cwltool INFO: Final process status is success\\n',\n",
       "  u'stdout': u''}}"
      ]
     },
     "execution_count": 54,
     "metadata": {},
     "output_type": "execute_result"
    }
   ],
   "source": [
    "arvclient.get_workflow_run('qr1hi-xvhdp-engk7b81v9j7gwa')"
   ]
  },
  {
   "cell_type": "markdown",
   "metadata": {},
   "source": [
    "#### Submitting with `workflow_descriptor`\n",
    "\n",
    "Retrieve the test parameters content from the JSON file in GitHub and format as an object for the WES request. Provide the contents of CWL descriptor file as string/blob in request."
   ]
  },
  {
   "cell_type": "code",
   "execution_count": 55,
   "metadata": {},
   "outputs": [
    {
     "name": "stderr",
     "output_type": "stream",
     "text": [
      "DEBUG:cachecontrol.controller:Looking up \"https://raw.githubusercontent.com/briandoconnor/dockstore-tool-md5sum/master/test.json\" in the cache\n",
      "DEBUG:cachecontrol.controller:Current age based on date: 24\n",
      "DEBUG:cachecontrol.controller:Freshness lifetime from max-age: 300\n",
      "DEBUG:cachecontrol.controller:The response is \"fresh\", returning cached response\n",
      "DEBUG:cachecontrol.controller:300 > 24\n",
      "DEBUG:urllib3.connectionpool:Starting new HTTPS connection (1): raw.githubusercontent.com\n",
      "DEBUG:urllib3.connectionpool:https://raw.githubusercontent.com:443 \"HEAD /briandoconnor/dockstore-tool-md5sum/master/md5sum.input HTTP/1.1\" 200 0\n"
     ]
    },
    {
     "data": {
      "text/plain": [
       "{'workflow_descriptor': u'#!/usr/bin/env cwl-runner\\n\\nclass: CommandLineTool\\nid: Md5sum\\nlabel: Simple md5sum tool\\ncwlVersion: v1.0\\n\\n$namespaces:\\n  dct: http://purl.org/dc/terms/\\n  foaf: http://xmlns.com/foaf/0.1/\\n\\ndoc: |\\n  [![Docker Repository on Quay.io](https://quay.io/repository/briandoconnor/dockstore-tool-md5sum/status \"Docker Repository on Quay.io\")](https://quay.io/repository/briandoconnor/dockstore-tool-md5sum)\\n  [![Build Status](https://travis-ci.org/briandoconnor/dockstore-tool-md5sum.svg)](https://travis-ci.org/briandoconnor/dockstore-tool-md5sum)\\n  A very, very simple Docker container for the md5sum command. See the [README](https://github.com/briandoconnor/dockstore-tool-md5sum/blob/master/README.md) for more information.\\n\\n\\n#dct:creator:\\n#  \\'@id\\': http://orcid.org/0000-0002-7681-6415\\n#  foaf:name: Brian O\\'Connor\\n#  foaf:mbox: briandoconnor@gmail.com\\n\\nrequirements:\\n- class: DockerRequirement\\n  dockerPull: quay.io/briandoconnor/dockstore-tool-md5sum:1.0.4\\n- class: InlineJavascriptRequirement\\n\\nhints:\\n- class: ResourceRequirement\\n  # The command really requires very little resources.\\n  coresMin: 1\\n  ramMin: 1024\\n  outdirMin: 1024\\n\\ninputs:\\n  input_file:\\n    type: File\\n    inputBinding:\\n      position: 1\\n    doc: The file that will have its md5sum calculated.\\n\\noutputs:\\n  output_file:\\n    type: File\\n    format: http://edamontology.org/data_3671\\n    outputBinding:\\n      glob: md5sum.txt\\n    doc: A text file that contains a single line that is the md5sum of the input file.\\n\\nbaseCommand: [/bin/my_md5sum]\\n',\n",
       " 'workflow_params': ordereddict([('input_file', ordereddict([('class', 'File'), ('location', 'https://raw.githubusercontent.com/briandoconnor/dockstore-tool-md5sum/master/md5sum.input')]))]),\n",
       " 'workflow_type': 'CWL',\n",
       " 'workflow_type_version': 'v1.0'}"
      ]
     },
     "execution_count": 55,
     "metadata": {},
     "output_type": "execute_result"
    }
   ],
   "source": [
    "cwl_tool_request = build_wes_request(\n",
    "    workflow_descriptor=cwl_tool_descriptor['descriptor'], \n",
    "    workflow_params='https://raw.githubusercontent.com/briandoconnor/dockstore-tool-md5sum/master/test.json',\n",
    "    workflow_type='CWL'\n",
    ")\n",
    "cwl_tool_request"
   ]
  },
  {
   "cell_type": "code",
   "execution_count": 56,
   "metadata": {},
   "outputs": [
    {
     "name": "stderr",
     "output_type": "stream",
     "text": [
      "DEBUG:urllib3.connectionpool:Starting new HTTPS connection (1): wes.qr1hi.arvadosapi.com\n",
      "DEBUG:urllib3.connectionpool:https://wes.qr1hi.arvadosapi.com:443 \"POST /ga4gh/wes/v1/workflows HTTP/1.1\" 200 51\n"
     ]
    },
    {
     "data": {
      "text/plain": [
       "{u'workflow_id': u'qr1hi-xvhdp-l1sa1g35hh6j6wj'}"
      ]
     },
     "execution_count": 56,
     "metadata": {},
     "output_type": "execute_result"
    }
   ],
   "source": [
    "arvclient.run_workflow(cwl_tool_request)"
   ]
  },
  {
   "cell_type": "code",
   "execution_count": 57,
   "metadata": {},
   "outputs": [
    {
     "name": "stderr",
     "output_type": "stream",
     "text": [
      "DEBUG:urllib3.connectionpool:Starting new HTTPS connection (1): wes.qr1hi.arvadosapi.com\n",
      "DEBUG:urllib3.connectionpool:https://wes.qr1hi.arvadosapi.com:443 \"GET /ga4gh/wes/v1/workflows/qr1hi-xvhdp-l1sa1g35hh6j6wj HTTP/1.1\" 200 1469\n"
     ]
    },
    {
     "data": {
      "text/plain": [
       "{u'outputs': {u'output_file': {u'basename': u'md5sum.txt',\n",
       "   u'class': u'File',\n",
       "   u'format': u'http://edamontology.org/data_3671',\n",
       "   u'location': u'https://download.qr1hi.arvadosapi.com/c=2fd83f7df048ffe49ced1c05a05c6460+115/_/md5sum.txt',\n",
       "   u'size': 33}},\n",
       " u'request': {},\n",
       " u'state': u'COMPLETE',\n",
       " u'task_logs': [],\n",
       " u'workflow_id': u'qr1hi-xvhdp-l1sa1g35hh6j6wj',\n",
       " u'workflow_log': {u'cmd': [u''],\n",
       "  u'endTime': u'',\n",
       "  u'exit_code': 0,\n",
       "  u'startTime': u'',\n",
       "  u'stderr': u'2018-05-24T18:27:35.973069854Z cwltool INFO: /usr/local/bin/arvados-cwl-runner 1.1.4.20180523205640, arvados-python-client 1.1.4.20180510153813, cwltool 1.0.20180523203033\\n2018-05-24T18:27:35.974959654Z cwltool INFO: Resolved \\'/var/lib/cwl/workflow.json#main\\' to \\'file:///var/lib/cwl/workflow.json#main\\'\\n2018-05-24T18:27:37.692391955Z arvados.cwl-runner INFO: [container Simple md5sum tool] reused container qr1hi-dz642-yf4bwvrr8336gu8\\n2018-05-24T18:27:49.258490162Z arvados.cwl-runner INFO: [container Simple md5sum tool] qr1hi-xvhdp-9iz3rqxz64vphdv is Final\\n2018-05-24T18:27:49.376697262Z arvados.cwl-runner INFO: Overall process status is success\\n2018-05-24T18:27:50.613417963Z arvados.cwl-runner INFO: Final output collection 2fd83f7df048ffe49ced1c05a05c6460+115 \"Output of main (2018-05-24T18:27:50.516Z)\" (qr1hi-4zz18-gxv5r2nc6nvapl4)\\n2018-05-24T18:27:51.049534863Z cwltool INFO: Final process status is success\\n',\n",
       "  u'stdout': u''}}"
      ]
     },
     "execution_count": 57,
     "metadata": {},
     "output_type": "execute_result"
    }
   ],
   "source": [
    "arvclient.get_workflow_run('qr1hi-xvhdp-l1sa1g35hh6j6wj')"
   ]
  },
  {
   "cell_type": "markdown",
   "metadata": {},
   "source": [
    "## Workflows with TRS & WES"
   ]
  },
  {
   "cell_type": "markdown",
   "metadata": {},
   "source": [
    "### CWL checker workflow for `md5sum-checker`"
   ]
  },
  {
   "cell_type": "code",
   "execution_count": 58,
   "metadata": {
    "scrolled": true
   },
   "outputs": [
    {
     "name": "stdout",
     "output_type": "stream",
     "text": [
      "{'workflow_id': 'github.com/dockstore-testing/md5sum-checker', 'submission_type': 'params', 'trs_id': 'dockstore', 'version_id': 'develop', 'workflow_type': 'CWL'}\n"
     ]
    },
    {
     "data": {
      "text/plain": [
       "'github.com/dockstore-testing/md5sum-checker'"
      ]
     },
     "execution_count": 58,
     "metadata": {},
     "output_type": "execute_result"
    }
   ],
   "source": [
    "workflow_config = eval_config[0]\n",
    "print(workflow_config)\n",
    "workflow_id = workflow_config['workflow_id']\n",
    "workflow_id"
   ]
  },
  {
   "cell_type": "markdown",
   "metadata": {},
   "source": [
    "### Retrieve workflow info from Dockstore"
   ]
  },
  {
   "cell_type": "markdown",
   "metadata": {},
   "source": [
    "#### Get checker for specified workflow"
   ]
  },
  {
   "cell_type": "code",
   "execution_count": 59,
   "metadata": {
    "scrolled": false
   },
   "outputs": [
    {
     "name": "stderr",
     "output_type": "stream",
     "text": [
      "DEBUG:root:retrieving workflow entry from tools/%23workflow%2Fgithub.com%2Fdockstore-testing%2Fmd5sum-checker\n",
      "DEBUG:urllib3.connectionpool:Starting new HTTPS connection (1): dockstore.org\n",
      "DEBUG:urllib3.connectionpool:https://dockstore.org:8443 \"GET /api/ga4gh/v2/tools/%23workflow%2Fgithub.com%2Fdockstore-testing%2Fmd5sum-checker HTTP/1.1\" 200 418\n",
      "DEBUG:synorchestrator.trs_client.client:found checker workflow: github.com/dockstore-testing/md5sum-checker/_cwl_checker\n",
      "DEBUG:root:retrieving workflow entry from tools/%23workflow%2Fgithub.com%2Fdockstore-testing%2Fmd5sum-checker%2F_cwl_checker\n",
      "DEBUG:urllib3.connectionpool:Starting new HTTPS connection (1): dockstore.org\n",
      "DEBUG:urllib3.connectionpool:https://dockstore.org:8443 \"GET /api/ga4gh/v2/tools/%23workflow%2Fgithub.com%2Fdockstore-testing%2Fmd5sum-checker%2F_cwl_checker HTTP/1.1\" 200 496\n"
     ]
    },
    {
     "data": {
      "text/plain": [
       "u'#workflow/github.com/dockstore-testing/md5sum-checker/_cwl_checker'"
      ]
     },
     "execution_count": 59,
     "metadata": {},
     "output_type": "execute_result"
    }
   ],
   "source": [
    "checker_workflow = tclient.get_workflow_checker(workflow_id)\n",
    "checker_workflow['id']"
   ]
  },
  {
   "cell_type": "markdown",
   "metadata": {},
   "source": [
    "#### Get checker descriptor for specified version and workflow type"
   ]
  },
  {
   "cell_type": "code",
   "execution_count": 60,
   "metadata": {
    "scrolled": true
   },
   "outputs": [
    {
     "name": "stderr",
     "output_type": "stream",
     "text": [
      "DEBUG:synorchestrator.trs_client.client:getting descriptor from tools/%23workflow%2Fgithub.com%2Fdockstore-testing%2Fmd5sum-checker%2F_cwl_checker/versions/develop/CWL/descriptor\n",
      "DEBUG:urllib3.connectionpool:Starting new HTTPS connection (1): dockstore.org\n",
      "DEBUG:urllib3.connectionpool:https://dockstore.org:8443 \"GET /api/ga4gh/v2/tools/%23workflow%2Fgithub.com%2Fdockstore-testing%2Fmd5sum-checker%2F_cwl_checker/versions/develop/CWL/descriptor HTTP/1.1\" 200 541\n"
     ]
    },
    {
     "data": {
      "text/plain": [
       "{u'descriptor': u'cwlVersion: v1.0\\nclass: Workflow\\n\\nrequirements:\\n  - class: SubworkflowFeatureRequirement\\n\\n#dct:creator:\\n#  \\'@id\\': http://orcid.org/0000-0002-7681-6415\\n#  foaf:name: Brian O\\'Connor\\n#  foaf:mbox: mailto:briandoconnor@gmail.com\\n\\n#dct:contributor:\\n#  foaf:name: Denis Yuen\\n#  foaf:mbox: mailto:denis.yuen@oicr.on.ca\\n\\ninputs:\\n  input_file: File\\n  expected_md5: string\\n\\noutputs:\\n  workflow_output_file:\\n    type: File\\n    outputSource: checker/results_file\\n\\nsteps:\\n  md5sum:\\n    run: md5sum/md5sum-workflow.cwl\\n    in:\\n      input_file: input_file\\n    out: [output_file]\\n  checker:\\n    run: checker/md5sum-checker.cwl\\n    in:\\n      input_file: md5sum/output_file\\n      expected_md5: expected_md5\\n    out: [results_file]\\n\\ndoc: |\\n  This demonstrates how to wrap a \"real\" tool with a checker workflow that runs both the tool and a tool that performs verification of results\\n',\n",
       " u'type': u'CWL',\n",
       " u'url': u'https://raw.githubusercontent.com/dockstore-testing/md5sum-checker/develop/checker-workflow-wrapping-workflow.cwl'}"
      ]
     },
     "execution_count": 60,
     "metadata": {},
     "output_type": "execute_result"
    }
   ],
   "source": [
    "checker_descriptor = tclient.get_workflow_descriptor(\n",
    "    id=checker_workflow['id'], \n",
    "    version_id=workflow_config['version_id'], \n",
    "    type=workflow_config['workflow_type']\n",
    ")\n",
    "checker_descriptor"
   ]
  },
  {
   "cell_type": "markdown",
   "metadata": {},
   "source": [
    "#### Get checker test params for specified version and workflow type"
   ]
  },
  {
   "cell_type": "code",
   "execution_count": 61,
   "metadata": {
    "scrolled": true
   },
   "outputs": [
    {
     "name": "stderr",
     "output_type": "stream",
     "text": [
      "DEBUG:urllib3.connectionpool:Starting new HTTPS connection (1): dockstore.org\n",
      "DEBUG:urllib3.connectionpool:https://dockstore.org:8443 \"GET /api/ga4gh/v2/tools/%23workflow%2Fgithub.com%2Fdockstore-testing%2Fmd5sum-checker%2F_cwl_checker/versions/develop/CWL/tests HTTP/1.1\" 200 206\n",
      "DEBUG:synorchestrator.trs_client.client:getting descriptor from tools/%23workflow%2Fgithub.com%2Fdockstore-testing%2Fmd5sum-checker%2F_cwl_checker/versions/develop/CWL/descriptor\n",
      "DEBUG:urllib3.connectionpool:Starting new HTTPS connection (1): dockstore.org\n",
      "DEBUG:urllib3.connectionpool:https://dockstore.org:8443 \"GET /api/ga4gh/v2/tools/%23workflow%2Fgithub.com%2Fdockstore-testing%2Fmd5sum-checker%2F_cwl_checker/versions/develop/CWL/descriptor HTTP/1.1\" 200 541\n"
     ]
    },
    {
     "data": {
      "text/plain": [
       "[{u'test': u'{\\n  \"input_file\": {\\n        \"class\": \"File\",\\n        \"path\": \"md5sum.input\"\\n    },\\n    \"expected_md5\": \"00579a00e3e7fa0674428ac7049423e2\"\\n}\\n',\n",
       "  u'url': u'https://raw.githubusercontent.com/dockstore-testing/md5sum-checker/develop/checker-input-cwl.json'}]"
      ]
     },
     "execution_count": 61,
     "metadata": {},
     "output_type": "execute_result"
    }
   ],
   "source": [
    "checker_tests = tclient.get_workflow_tests(\n",
    "    id=checker_workflow['id'], \n",
    "    version_id=workflow_config['version_id'], \n",
    "    type=workflow_config['workflow_type']\n",
    ")\n",
    "checker_tests"
   ]
  },
  {
   "cell_type": "markdown",
   "metadata": {},
   "source": [
    "### Build workflow run request"
   ]
  },
  {
   "cell_type": "code",
   "execution_count": 62,
   "metadata": {},
   "outputs": [
    {
     "name": "stderr",
     "output_type": "stream",
     "text": [
      "DEBUG:cachecontrol.controller:Looking up \"https://raw.githubusercontent.com/dockstore-testing/md5sum-checker/develop/checker-input-cwl.json\" in the cache\n",
      "DEBUG:cachecontrol.controller:Current age based on date: 1366\n",
      "DEBUG:cachecontrol.controller:Freshness lifetime from max-age: 300\n",
      "DEBUG:urllib3.connectionpool:Starting new HTTPS connection (1): raw.githubusercontent.com\n",
      "DEBUG:urllib3.connectionpool:https://raw.githubusercontent.com:443 \"GET /dockstore-testing/md5sum-checker/develop/checker-input-cwl.json HTTP/1.1\" 304 0\n",
      "DEBUG:urllib3.connectionpool:https://raw.githubusercontent.com:443 \"HEAD /dockstore-testing/md5sum-checker/develop/md5sum.input HTTP/1.1\" 200 0\n"
     ]
    },
    {
     "data": {
      "text/plain": [
       "{'workflow_params': ordereddict([('input_file', ordereddict([('class', 'File'), ('location', u'https://raw.githubusercontent.com/dockstore-testing/md5sum-checker/develop/md5sum.input')])), ('expected_md5', '00579a00e3e7fa0674428ac7049423e2')]),\n",
       " 'workflow_type': u'CWL',\n",
       " 'workflow_type_version': 'v1.0',\n",
       " 'workflow_url': u'https://raw.githubusercontent.com/dockstore-testing/md5sum-checker/develop/checker-workflow-wrapping-workflow.cwl'}"
      ]
     },
     "execution_count": 62,
     "metadata": {},
     "output_type": "execute_result"
    }
   ],
   "source": [
    "workflow_request = build_wes_request(\n",
    "    workflow_url=checker_descriptor['url'], \n",
    "    workflow_params=checker_tests[0]['url'],\n",
    "    workflow_type=checker_descriptor['type']\n",
    ")\n",
    "workflow_request"
   ]
  },
  {
   "cell_type": "markdown",
   "metadata": {},
   "source": [
    "### Run checker workflow"
   ]
  },
  {
   "cell_type": "markdown",
   "metadata": {},
   "source": [
    "#### Submit new workflow run"
   ]
  },
  {
   "cell_type": "code",
   "execution_count": 63,
   "metadata": {
    "scrolled": false
   },
   "outputs": [
    {
     "name": "stderr",
     "output_type": "stream",
     "text": [
      "DEBUG:urllib3.connectionpool:Starting new HTTPS connection (1): wes.qr1hi.arvadosapi.com\n",
      "DEBUG:urllib3.connectionpool:https://wes.qr1hi.arvadosapi.com:443 \"POST /ga4gh/wes/v1/workflows HTTP/1.1\" 200 51\n"
     ]
    },
    {
     "data": {
      "text/plain": [
       "{u'workflow_id': u'qr1hi-xvhdp-19pbqx445m9db9t'}"
      ]
     },
     "execution_count": 63,
     "metadata": {},
     "output_type": "execute_result"
    }
   ],
   "source": [
    "r = arvclient.run_workflow(workflow_request)\n",
    "r"
   ]
  },
  {
   "cell_type": "markdown",
   "metadata": {},
   "source": [
    "#### Monitor workflow run status"
   ]
  },
  {
   "cell_type": "code",
   "execution_count": 66,
   "metadata": {},
   "outputs": [
    {
     "name": "stderr",
     "output_type": "stream",
     "text": [
      "DEBUG:urllib3.connectionpool:Starting new HTTPS connection (1): wes.qr1hi.arvadosapi.com\n",
      "DEBUG:urllib3.connectionpool:https://wes.qr1hi.arvadosapi.com:443 \"GET /ga4gh/wes/v1/workflows/qr1hi-xvhdp-19pbqx445m9db9t/status HTTP/1.1\" 200 78\n"
     ]
    },
    {
     "data": {
      "text/plain": [
       "{u'state': u'INITIALIZING', u'workflow_id': u'qr1hi-xvhdp-19pbqx445m9db9t'}"
      ]
     },
     "execution_count": 66,
     "metadata": {},
     "output_type": "execute_result"
    }
   ],
   "source": [
    "r = arvclient.get_workflow_run_status(r['workflow_id'])\n",
    "r\n",
    "# while r['state'] in ('QUEUED', 'INITIALIZING', 'RUNNING'):\n",
    "#     time.sleep(1)\n",
    "#     r = arvclient.get_workflow_run_status(r['workflow_id'])"
   ]
  },
  {
   "cell_type": "markdown",
   "metadata": {},
   "source": [
    "#### Check workflow run details"
   ]
  },
  {
   "cell_type": "code",
   "execution_count": 67,
   "metadata": {
    "scrolled": false
   },
   "outputs": [
    {
     "name": "stderr",
     "output_type": "stream",
     "text": [
      "DEBUG:urllib3.connectionpool:Starting new HTTPS connection (1): wes.qr1hi.arvadosapi.com\n",
      "DEBUG:urllib3.connectionpool:https://wes.qr1hi.arvadosapi.com:443 \"GET /ga4gh/wes/v1/workflows/qr1hi-xvhdp-19pbqx445m9db9t HTTP/1.1\" 200 260\n"
     ]
    },
    {
     "data": {
      "text/plain": [
       "{u'outputs': {},\n",
       " u'request': {},\n",
       " u'state': u'INITIALIZING',\n",
       " u'task_logs': [],\n",
       " u'workflow_id': u'qr1hi-xvhdp-19pbqx445m9db9t',\n",
       " u'workflow_log': {u'cmd': [u''],\n",
       "  u'endTime': u'',\n",
       "  u'startTime': u'',\n",
       "  u'stderr': u'',\n",
       "  u'stdout': u''}}"
      ]
     },
     "execution_count": 67,
     "metadata": {},
     "output_type": "execute_result"
    }
   ],
   "source": [
    "arvclient.get_workflow_run(r['workflow_id'])"
   ]
  },
  {
   "cell_type": "markdown",
   "metadata": {},
   "source": [
    "### WDL checker workflow for `TopMed_Variant_Caller`"
   ]
  },
  {
   "cell_type": "code",
   "execution_count": 68,
   "metadata": {
    "scrolled": true
   },
   "outputs": [
    {
     "name": "stdout",
     "output_type": "stream",
     "text": [
      "{'workflow_id': 'github.com/DataBiosphere/topmed-workflows/TopMed_Variant_Caller', 'submission_type': 'params', 'trs_id': 'dockstore', 'version_id': '1.11.0', 'workflow_type': 'WDL'}\n"
     ]
    },
    {
     "data": {
      "text/plain": [
       "'github.com/DataBiosphere/topmed-workflows/TopMed_Variant_Caller'"
      ]
     },
     "execution_count": 68,
     "metadata": {},
     "output_type": "execute_result"
    }
   ],
   "source": [
    "workflow_config = eval_config[2]\n",
    "print(workflow_config)\n",
    "workflow_id = workflow_config['workflow_id']\n",
    "workflow_id"
   ]
  },
  {
   "cell_type": "markdown",
   "metadata": {},
   "source": [
    "### Retrieve workflow info from Dockstore"
   ]
  },
  {
   "cell_type": "markdown",
   "metadata": {},
   "source": [
    "#### Get checker for specified workflow"
   ]
  },
  {
   "cell_type": "code",
   "execution_count": 69,
   "metadata": {
    "scrolled": false
   },
   "outputs": [
    {
     "name": "stderr",
     "output_type": "stream",
     "text": [
      "DEBUG:root:retrieving workflow entry from tools/%23workflow%2Fgithub.com%2FDataBiosphere%2Ftopmed-workflows%2FTopMed_Variant_Caller\n",
      "DEBUG:urllib3.connectionpool:Starting new HTTPS connection (1): dockstore.org\n",
      "DEBUG:urllib3.connectionpool:https://dockstore.org:8443 \"GET /api/ga4gh/v2/tools/%23workflow%2Fgithub.com%2FDataBiosphere%2Ftopmed-workflows%2FTopMed_Variant_Caller HTTP/1.1\" 200 769\n",
      "DEBUG:synorchestrator.trs_client.client:found checker workflow: github.com/DataBiosphere/topmed-workflows/TopMed_Variant_Caller_wdl_checker\n",
      "DEBUG:root:retrieving workflow entry from tools/%23workflow%2Fgithub.com%2FDataBiosphere%2Ftopmed-workflows%2FTopMed_Variant_Caller_wdl_checker\n",
      "DEBUG:urllib3.connectionpool:Starting new HTTPS connection (1): dockstore.org\n",
      "DEBUG:urllib3.connectionpool:https://dockstore.org:8443 \"GET /api/ga4gh/v2/tools/%23workflow%2Fgithub.com%2FDataBiosphere%2Ftopmed-workflows%2FTopMed_Variant_Caller_wdl_checker HTTP/1.1\" 200 498\n"
     ]
    },
    {
     "data": {
      "text/plain": [
       "u'#workflow/github.com/DataBiosphere/topmed-workflows/TopMed_Variant_Caller_wdl_checker'"
      ]
     },
     "execution_count": 69,
     "metadata": {},
     "output_type": "execute_result"
    }
   ],
   "source": [
    "checker_workflow = tclient.get_workflow_checker(workflow_id)\n",
    "checker_workflow['id']"
   ]
  },
  {
   "cell_type": "markdown",
   "metadata": {},
   "source": [
    "#### Get checker descriptor for specified version and workflow type"
   ]
  },
  {
   "cell_type": "code",
   "execution_count": 70,
   "metadata": {
    "scrolled": true
   },
   "outputs": [
    {
     "name": "stderr",
     "output_type": "stream",
     "text": [
      "DEBUG:synorchestrator.trs_client.client:getting descriptor from tools/%23workflow%2Fgithub.com%2FDataBiosphere%2Ftopmed-workflows%2FTopMed_Variant_Caller_wdl_checker/versions/1.11.0/WDL/descriptor\n",
      "DEBUG:urllib3.connectionpool:Starting new HTTPS connection (1): dockstore.org\n",
      "DEBUG:urllib3.connectionpool:https://dockstore.org:8443 \"GET /api/ga4gh/v2/tools/%23workflow%2Fgithub.com%2FDataBiosphere%2Ftopmed-workflows%2FTopMed_Variant_Caller_wdl_checker/versions/1.11.0/WDL/descriptor HTTP/1.1\" 200 1199\n"
     ]
    },
    {
     "data": {
      "text/plain": [
       "{u'descriptor': u'import \"https://raw.githubusercontent.com/DataBiosphere/topmed-workflows/1.11.0/variant-caller/variant-caller-wdl/topmed_freeze3_calling.wdl\" as TopMed_variantcaller\\nimport \"https://raw.githubusercontent.com/DataBiosphere/topmed-workflows/1.11.0/variant-caller/variant-caller-wdl-checker/topmed-variantcaller-checker.wdl\" as checker\\n\\nworkflow checkerWorkflow {\\n  File inputTruthVCFFile\\n\\n  # Deprecated: No need to input this anymore\\n  # Disk size requirements will be calculated internally\\n  # This will be removed in the next release\\n  Float? reference_files_size\\n\\n  String docker_image\\n\\n  Array[File] input_crai_files\\n  Array[File] input_cram_files\\n\\n  File ref_1000G_omni2_5_b38_sites_PASS_vcf_gz\\n  File ref_1000G_omni2_5_b38_sites_PASS_vcf_gz_tbi\\n  File chr10_vcf\\n  File chr11_KI270927v1_alt_vcf\\n  File chr11_vcf\\n  File chr12_vcf\\n  File chr13_vcf\\n  File chr14_GL000009v2_random_vcf\\n  File chr14_KI270846v1_alt_vcf\\n  File chr14_vcf\\n  File chr15_vcf\\n  File chr16_vcf\\n  File chr17_KI270857v1_alt_vcf\\n  File chr17_KI270862v1_alt_vcf\\n  File chr17_KI270909v1_alt_vcf\\n  File chr17_vcf\\n  File chr18_vcf\\n  File chr19_KI270938v1_alt_vcf\\n  File chr19_vcf\\n  File chr1_KI270706v1_random_vcf\\n  File chr1_KI270766v1_alt_vcf\\n  File chr1_vcf\\n  File chr20_vcf\\n  File chr21_vcf\\n  File chr22_KI270879v1_alt_vcf\\n  File chr22_KI270928v1_alt_vcf\\n  File chr22_vcf\\n  File chr2_KI270773v1_alt_vcf\\n  File chr2_KI270894v1_alt_vcf\\n  File chr2_vcf\\n  File chr3_vcf\\n  File chr4_GL000008v2_random_vcf\\n  File chr4_vcf\\n  File chr5_vcf\\n  File chr6_vcf\\n  File chr7_KI270803v1_alt_vcf\\n  File chr7_vcf\\n  File chr8_KI270821v1_alt_vcf\\n  File chr8_vcf\\n  File chr9_vcf\\n  File chrUn_KI270742v1_vcf\\n  File chrX_vcf\\n  File ref_dbsnp_142_b38_vcf_gz\\n  File ref_dbsnp_142_b38_vcf_gz_tbi\\n  File ref_dbsnp_All_vcf_gz\\n  File ref_dbsnp_All_vcf_gz_tbi\\n  File ref_hapmap_3_3_b38_sites_vcf_gz\\n  File ref_hapmap_3_3_b38_sites_vcf_gz_tbi\\n  File ref_hs38DH_bs_umfa\\n  File ref_hs38DH_dict\\n  File ref_hs38DH_fa\\n  File ref_hs38DH_fa_alt\\n  File ref_hs38DH_fa_amb\\n  File ref_hs38DH_fa_ann\\n  File ref_hs38DH_fa_bwt\\n  File ref_hs38DH_fa_fai\\n  File ref_hs38DH_fa_pac\\n  File ref_hs38DH_fa_sa\\n  File ref_hs38DH_winsize100_gc\\n\\n\\n  call TopMed_variantcaller.TopMedVariantCaller as variantcaller {\\n    input:\\n      input_crai_files = input_crai_files,\\n      input_cram_files = input_cram_files,\\n\\n      docker_image = docker_image,\\n\\n      ref_1000G_omni2_5_b38_sites_PASS_vcf_gz = ref_1000G_omni2_5_b38_sites_PASS_vcf_gz,\\n      ref_1000G_omni2_5_b38_sites_PASS_vcf_gz_tbi = ref_1000G_omni2_5_b38_sites_PASS_vcf_gz_tbi,\\n      chr10_vcf = chr10_vcf,\\n      chr11_KI270927v1_alt_vcf = chr11_KI270927v1_alt_vcf,\\n      chr11_vcf = chr11_vcf,\\n      chr12_vcf = chr12_vcf,\\n      chr13_vcf = chr13_vcf,\\n      chr14_GL000009v2_random_vcf = chr14_GL000009v2_random_vcf,\\n      chr14_KI270846v1_alt_vcf = chr14_KI270846v1_alt_vcf,\\n      chr14_vcf = chr14_vcf,\\n      chr15_vcf = chr15_vcf,\\n      chr16_vcf = chr16_vcf,\\n      chr17_KI270857v1_alt_vcf = chr17_KI270857v1_alt_vcf,\\n      chr17_KI270862v1_alt_vcf = chr17_KI270862v1_alt_vcf,\\n      chr17_KI270909v1_alt_vcf = chr17_KI270909v1_alt_vcf,\\n      chr17_vcf = chr17_vcf,\\n      chr18_vcf = chr18_vcf,\\n      chr19_KI270938v1_alt_vcf = chr19_KI270938v1_alt_vcf,\\n      chr19_vcf = chr19_vcf,\\n      chr1_KI270706v1_random_vcf = chr1_KI270706v1_random_vcf,\\n      chr1_KI270766v1_alt_vcf = chr1_KI270766v1_alt_vcf,\\n      chr1_vcf = chr1_vcf,\\n      chr20_vcf = chr20_vcf,\\n      chr21_vcf = chr21_vcf,\\n      chr22_KI270879v1_alt_vcf = chr22_KI270879v1_alt_vcf,\\n      chr22_KI270928v1_alt_vcf = chr22_KI270928v1_alt_vcf,\\n      chr22_vcf = chr22_vcf,\\n      chr2_KI270773v1_alt_vcf = chr2_KI270773v1_alt_vcf,\\n      chr2_KI270894v1_alt_vcf = chr2_KI270894v1_alt_vcf,\\n      chr2_vcf = chr2_vcf,\\n      chr3_vcf = chr3_vcf,\\n      chr4_GL000008v2_random_vcf = chr4_GL000008v2_random_vcf,\\n      chr4_vcf = chr4_vcf,\\n      chr5_vcf = chr5_vcf,\\n      chr6_vcf = chr6_vcf,\\n      chr7_KI270803v1_alt_vcf = chr7_KI270803v1_alt_vcf,\\n      chr7_vcf = chr7_vcf,\\n      chr8_KI270821v1_alt_vcf = chr8_KI270821v1_alt_vcf,\\n      chr8_vcf = chr8_vcf,\\n      chr9_vcf = chr9_vcf,\\n      chrUn_KI270742v1_vcf = chrUn_KI270742v1_vcf,\\n      chrX_vcf = chrX_vcf,\\n      ref_dbsnp_142_b38_vcf_gz = ref_dbsnp_142_b38_vcf_gz,\\n      ref_dbsnp_142_b38_vcf_gz_tbi = ref_dbsnp_142_b38_vcf_gz_tbi,\\n      ref_dbsnp_All_vcf_gz = ref_dbsnp_All_vcf_gz,\\n      ref_dbsnp_All_vcf_gz_tbi = ref_dbsnp_All_vcf_gz_tbi,\\n      ref_hapmap_3_3_b38_sites_vcf_gz = ref_hapmap_3_3_b38_sites_vcf_gz,\\n      ref_hapmap_3_3_b38_sites_vcf_gz_tbi = ref_hapmap_3_3_b38_sites_vcf_gz_tbi,\\n      ref_hs38DH_bs_umfa = ref_hs38DH_bs_umfa,\\n      ref_hs38DH_dict = ref_hs38DH_dict,\\n      ref_hs38DH_fa = ref_hs38DH_fa,\\n      ref_hs38DH_fa_alt = ref_hs38DH_fa_alt,\\n      ref_hs38DH_fa_amb = ref_hs38DH_fa_amb,\\n      ref_hs38DH_fa_ann = ref_hs38DH_fa_ann,\\n      ref_hs38DH_fa_bwt = ref_hs38DH_fa_bwt,\\n      ref_hs38DH_fa_fai = ref_hs38DH_fa_fai,\\n      ref_hs38DH_fa_pac = ref_hs38DH_fa_pac,\\n      ref_hs38DH_fa_sa = ref_hs38DH_fa_sa,\\n      ref_hs38DH_winsize100_gc = ref_hs38DH_winsize100_gc\\n  }\\n\\n  call checker.checkerTask { \\n      input: \\n          inputTruthVCFFile = inputTruthVCFFile,\\n          inputTestVCFFile = variantcaller.topmed_variant_caller_output, \\n          docker_image = docker_image\\n  }\\n}\\n\\n',\n",
       " u'type': u'WDL',\n",
       " u'url': u'https://raw.githubusercontent.com/DataBiosphere/topmed-workflows/1.11.0/variant-caller/variant-caller-wdl-checker/variant-caller/variant-caller-wdl-checker/topmed_freeze3_calling_checker.wdl'}"
      ]
     },
     "execution_count": 70,
     "metadata": {},
     "output_type": "execute_result"
    }
   ],
   "source": [
    "checker_descriptor = tclient.get_workflow_descriptor(\n",
    "    id=checker_workflow['id'], \n",
    "    version_id=workflow_config['version_id'], \n",
    "    type=workflow_config['workflow_type']\n",
    ")\n",
    "checker_descriptor"
   ]
  },
  {
   "cell_type": "markdown",
   "metadata": {},
   "source": [
    "#### Get checker test params for specified version and workflow type"
   ]
  },
  {
   "cell_type": "code",
   "execution_count": 71,
   "metadata": {
    "scrolled": true
   },
   "outputs": [
    {
     "name": "stderr",
     "output_type": "stream",
     "text": [
      "DEBUG:urllib3.connectionpool:Starting new HTTPS connection (1): dockstore.org\n",
      "DEBUG:urllib3.connectionpool:https://dockstore.org:8443 \"GET /api/ga4gh/v2/tools/%23workflow%2Fgithub.com%2FDataBiosphere%2Ftopmed-workflows%2FTopMed_Variant_Caller_wdl_checker/versions/1.11.0/WDL/tests HTTP/1.1\" 200 None\n",
      "DEBUG:synorchestrator.trs_client.client:getting descriptor from tools/%23workflow%2Fgithub.com%2FDataBiosphere%2Ftopmed-workflows%2FTopMed_Variant_Caller_wdl_checker/versions/1.11.0/WDL/descriptor\n",
      "DEBUG:urllib3.connectionpool:Starting new HTTPS connection (1): dockstore.org\n",
      "DEBUG:urllib3.connectionpool:https://dockstore.org:8443 \"GET /api/ga4gh/v2/tools/%23workflow%2Fgithub.com%2FDataBiosphere%2Ftopmed-workflows%2FTopMed_Variant_Caller_wdl_checker/versions/1.11.0/WDL/descriptor HTTP/1.1\" 200 1199\n"
     ]
    },
    {
     "data": {
      "text/plain": [
       "[{u'test': u'{\\n  \"checkerWorkflow.inputTruthVCFFile\": \"gs://topmed_workflow_testing/topmed_variant_caller_checker/truth_topmed_variant_caller_NWD176325.0005_output.tar.gz\",\\n\\n  \"checkerWorkflow.input_cram_files\": [\"gs://topmed_workflow_testing/topmed_aligner/input_files/NWD176325.0005.recab.cram\"],\\n  \"checkerWorkflow.input_crai_files\": [\"gs://topmed_workflow_testing/topmed_aligner/input_files/NWD176325.0005.recab.cram.crai\"],\\n\\n  \"checkerWorkflow.ref_1000G_omni2_5_b38_sites_PASS_vcf_gz\":  \"gs://topmed_workflow_testing/topmed_variant_caller/reference_files/hg38/1000G_omni2.5.b38.sites.PASS.vcf.gz\",\\n  \"checkerWorkflow.ref_1000G_omni2_5_b38_sites_PASS_vcf_gz_tbi\":  \"gs://topmed_workflow_testing/topmed_variant_caller/reference_files/hg38/1000G_omni2.5.b38.sites.PASS.vcf.gz.tbi\",\\n  \"checkerWorkflow.chr10_vcf\":  \"gs://topmed_workflow_testing/topmed_variant_caller/reference_files/hg38/1kg.pilot_release.merged.indels.sites.hg38.chr10.vcf\",\\n  \"checkerWorkflow.chr11_KI270927v1_alt_vcf\":  \"gs://topmed_workflow_testing/topmed_variant_caller/reference_files/hg38/1kg.pilot_release.merged.indels.sites.hg38.chr11_KI270927v1_alt.vcf\",\\n  \"checkerWorkflow.chr11_vcf\":  \"gs://topmed_workflow_testing/topmed_variant_caller/reference_files/hg38/1kg.pilot_release.merged.indels.sites.hg38.chr11.vcf\",\\n  \"checkerWorkflow.chr12_vcf\":  \"gs://topmed_workflow_testing/topmed_variant_caller/reference_files/hg38/1kg.pilot_release.merged.indels.sites.hg38.chr12.vcf\",\\n  \"checkerWorkflow.chr13_vcf\":  \"gs://topmed_workflow_testing/topmed_variant_caller/reference_files/hg38/1kg.pilot_release.merged.indels.sites.hg38.chr13.vcf\",\\n  \"checkerWorkflow.chr14_GL000009v2_random_vcf\":  \"gs://topmed_workflow_testing/topmed_variant_caller/reference_files/hg38/1kg.pilot_release.merged.indels.sites.hg38.chr14_GL000009v2_random.vcf\",\\n  \"checkerWorkflow.chr14_KI270846v1_alt_vcf\":  \"gs://topmed_workflow_testing/topmed_variant_caller/reference_files/hg38/1kg.pilot_release.merged.indels.sites.hg38.chr14_KI270846v1_alt.vcf\",\\n  \"checkerWorkflow.chr14_vcf\":  \"gs://topmed_workflow_testing/topmed_variant_caller/reference_files/hg38/1kg.pilot_release.merged.indels.sites.hg38.chr14.vcf\",\\n  \"checkerWorkflow.chr15_vcf\":  \"gs://topmed_workflow_testing/topmed_variant_caller/reference_files/hg38/1kg.pilot_release.merged.indels.sites.hg38.chr15.vcf\",\\n  \"checkerWorkflow.chr16_vcf\":  \"gs://topmed_workflow_testing/topmed_variant_caller/reference_files/hg38/1kg.pilot_release.merged.indels.sites.hg38.chr16.vcf\",\\n  \"checkerWorkflow.chr17_KI270857v1_alt_vcf\":  \"gs://topmed_workflow_testing/topmed_variant_caller/reference_files/hg38/1kg.pilot_release.merged.indels.sites.hg38.chr17_KI270857v1_alt.vcf\",\\n  \"checkerWorkflow.chr17_KI270862v1_alt_vcf\":  \"gs://topmed_workflow_testing/topmed_variant_caller/reference_files/hg38/1kg.pilot_release.merged.indels.sites.hg38.chr17_KI270862v1_alt.vcf\",\\n  \"checkerWorkflow.chr17_KI270909v1_alt_vcf\":  \"gs://topmed_workflow_testing/topmed_variant_caller/reference_files/hg38/1kg.pilot_release.merged.indels.sites.hg38.chr17_KI270909v1_alt.vcf\",\\n  \"checkerWorkflow.chr17_vcf\":  \"gs://topmed_workflow_testing/topmed_variant_caller/reference_files/hg38/1kg.pilot_release.merged.indels.sites.hg38.chr17.vcf\",\\n  \"checkerWorkflow.chr18_vcf\":  \"gs://topmed_workflow_testing/topmed_variant_caller/reference_files/hg38/1kg.pilot_release.merged.indels.sites.hg38.chr18.vcf\",\\n  \"checkerWorkflow.chr19_KI270938v1_alt_vcf\":  \"gs://topmed_workflow_testing/topmed_variant_caller/reference_files/hg38/1kg.pilot_release.merged.indels.sites.hg38.chr19_KI270938v1_alt.vcf\",\\n  \"checkerWorkflow.chr19_vcf\":  \"gs://topmed_workflow_testing/topmed_variant_caller/reference_files/hg38/1kg.pilot_release.merged.indels.sites.hg38.chr19.vcf\",\\n  \"checkerWorkflow.chr1_KI270706v1_random_vcf\":  \"gs://topmed_workflow_testing/topmed_variant_caller/reference_files/hg38/1kg.pilot_release.merged.indels.sites.hg38.chr1_KI270706v1_random.vcf\",\\n  \"checkerWorkflow.chr1_KI270766v1_alt_vcf\":  \"gs://topmed_workflow_testing/topmed_variant_caller/reference_files/hg38/1kg.pilot_release.merged.indels.sites.hg38.chr1_KI270766v1_alt.vcf\",\\n  \"checkerWorkflow.chr1_vcf\":  \"gs://topmed_workflow_testing/topmed_variant_caller/reference_files/hg38/1kg.pilot_release.merged.indels.sites.hg38.chr1.vcf\",\\n  \"checkerWorkflow.chr20_vcf\":  \"gs://topmed_workflow_testing/topmed_variant_caller/reference_files/hg38/1kg.pilot_release.merged.indels.sites.hg38.chr20.vcf\",\\n  \"checkerWorkflow.chr21_vcf\":  \"gs://topmed_workflow_testing/topmed_variant_caller/reference_files/hg38/1kg.pilot_release.merged.indels.sites.hg38.chr21.vcf\",\\n  \"checkerWorkflow.chr22_KI270879v1_alt_vcf\":  \"gs://topmed_workflow_testing/topmed_variant_caller/reference_files/hg38/1kg.pilot_release.merged.indels.sites.hg38.chr22_KI270879v1_alt.vcf\",\\n  \"checkerWorkflow.chr22_KI270928v1_alt_vcf\":  \"gs://topmed_workflow_testing/topmed_variant_caller/reference_files/hg38/1kg.pilot_release.merged.indels.sites.hg38.chr22_KI270928v1_alt.vcf\",\\n  \"checkerWorkflow.chr22_vcf\":  \"gs://topmed_workflow_testing/topmed_variant_caller/reference_files/hg38/1kg.pilot_release.merged.indels.sites.hg38.chr22.vcf\",\\n  \"checkerWorkflow.chr2_KI270773v1_alt_vcf\":  \"gs://topmed_workflow_testing/topmed_variant_caller/reference_files/hg38/1kg.pilot_release.merged.indels.sites.hg38.chr2_KI270773v1_alt.vcf\",\\n  \"checkerWorkflow.chr2_KI270894v1_alt_vcf\":  \"gs://topmed_workflow_testing/topmed_variant_caller/reference_files/hg38/1kg.pilot_release.merged.indels.sites.hg38.chr2_KI270894v1_alt.vcf\",\\n  \"checkerWorkflow.chr2_vcf\":  \"gs://topmed_workflow_testing/topmed_variant_caller/reference_files/hg38/1kg.pilot_release.merged.indels.sites.hg38.chr2.vcf\",\\n  \"checkerWorkflow.chr3_vcf\":  \"gs://topmed_workflow_testing/topmed_variant_caller/reference_files/hg38/1kg.pilot_release.merged.indels.sites.hg38.chr3.vcf\",\\n  \"checkerWorkflow.chr4_GL000008v2_random_vcf\":  \"gs://topmed_workflow_testing/topmed_variant_caller/reference_files/hg38/1kg.pilot_release.merged.indels.sites.hg38.chr4_GL000008v2_random.vcf\",\\n  \"checkerWorkflow.chr4_vcf\":  \"gs://topmed_workflow_testing/topmed_variant_caller/reference_files/hg38/1kg.pilot_release.merged.indels.sites.hg38.chr4.vcf\",\\n  \"checkerWorkflow.chr5_vcf\":  \"gs://topmed_workflow_testing/topmed_variant_caller/reference_files/hg38/1kg.pilot_release.merged.indels.sites.hg38.chr5.vcf\",\\n  \"checkerWorkflow.chr6_vcf\":  \"gs://topmed_workflow_testing/topmed_variant_caller/reference_files/hg38/1kg.pilot_release.merged.indels.sites.hg38.chr6.vcf\",\\n  \"checkerWorkflow.chr7_KI270803v1_alt_vcf\":  \"gs://topmed_workflow_testing/topmed_variant_caller/reference_files/hg38/1kg.pilot_release.merged.indels.sites.hg38.chr7_KI270803v1_alt.vcf\",\\n  \"checkerWorkflow.chr7_vcf\":  \"gs://topmed_workflow_testing/topmed_variant_caller/reference_files/hg38/1kg.pilot_release.merged.indels.sites.hg38.chr7.vcf\",\\n  \"checkerWorkflow.chr8_KI270821v1_alt_vcf\":  \"gs://topmed_workflow_testing/topmed_variant_caller/reference_files/hg38/1kg.pilot_release.merged.indels.sites.hg38.chr8_KI270821v1_alt.vcf\",\\n  \"checkerWorkflow.chr8_vcf\":  \"gs://topmed_workflow_testing/topmed_variant_caller/reference_files/hg38/1kg.pilot_release.merged.indels.sites.hg38.chr8.vcf\",\\n  \"checkerWorkflow.chr9_vcf\":  \"gs://topmed_workflow_testing/topmed_variant_caller/reference_files/hg38/1kg.pilot_release.merged.indels.sites.hg38.chr9.vcf\",\\n  \"checkerWorkflow.chrUn_KI270742v1_vcf\":  \"gs://topmed_workflow_testing/topmed_variant_caller/reference_files/hg38/1kg.pilot_release.merged.indels.sites.hg38.chrUn_KI270742v1.vcf\",\\n  \"checkerWorkflow.chrX_vcf\":  \"gs://topmed_workflow_testing/topmed_variant_caller/reference_files/hg38/1kg.pilot_release.merged.indels.sites.hg38.chrX.vcf\",\\n  \"checkerWorkflow.ref_dbsnp_142_b38_vcf_gz\":  \"gs://topmed_workflow_testing/topmed_variant_caller/reference_files/hg38/dbsnp_142.b38.vcf.gz\",\\n  \"checkerWorkflow.ref_dbsnp_142_b38_vcf_gz_tbi\":  \"gs://topmed_workflow_testing/topmed_variant_caller/reference_files/hg38/dbsnp_142.b38.vcf.gz.tbi\",\\n  \"checkerWorkflow.ref_dbsnp_All_vcf_gz\":  \"gs://topmed_workflow_testing/topmed_variant_caller/reference_files/hg38/dbsnp.All.vcf.gz\",\\n  \"checkerWorkflow.ref_dbsnp_All_vcf_gz_tbi\":  \"gs://topmed_workflow_testing/topmed_variant_caller/reference_files/hg38/dbsnp.All.vcf.gz.tbi\",\\n  \"checkerWorkflow.ref_hapmap_3_3_b38_sites_vcf_gz\":  \"gs://topmed_workflow_testing/topmed_variant_caller/reference_files/hg38/hapmap_3.3.b38.sites.vcf.gz\",\\n  \"checkerWorkflow.ref_hapmap_3_3_b38_sites_vcf_gz_tbi\":  \"gs://topmed_workflow_testing/topmed_variant_caller/reference_files/hg38/hapmap_3.3.b38.sites.vcf.gz.tbi\",\\n  \"checkerWorkflow.ref_hs38DH_bs_umfa\":  \"gs://topmed_workflow_testing/topmed_variant_caller/reference_files/hg38/hs38DH-bs.umfa\",\\n  \"checkerWorkflow.ref_hs38DH_dict\":  \"gs://topmed_workflow_testing/topmed_variant_caller/reference_files/hg38/hs38DH.dict\",\\n  \"checkerWorkflow.ref_hs38DH_fa\":  \"gs://topmed_workflow_testing/topmed_variant_caller/reference_files/hg38/hs38DH.fa\",\\n  \"checkerWorkflow.ref_hs38DH_fa_alt\":  \"gs://topmed_workflow_testing/topmed_variant_caller/reference_files/hg38/hs38DH.fa.alt\",\\n  \"checkerWorkflow.ref_hs38DH_fa_amb\":  \"gs://topmed_workflow_testing/topmed_variant_caller/reference_files/hg38/hs38DH.fa.amb\",\\n  \"checkerWorkflow.ref_hs38DH_fa_ann\":  \"gs://topmed_workflow_testing/topmed_variant_caller/reference_files/hg38/hs38DH.fa.ann\",\\n  \"checkerWorkflow.ref_hs38DH_fa_bwt\":  \"gs://topmed_workflow_testing/topmed_variant_caller/reference_files/hg38/hs38DH.fa.bwt\",\\n  \"checkerWorkflow.ref_hs38DH_fa_fai\":  \"gs://topmed_workflow_testing/topmed_variant_caller/reference_files/hg38/hs38DH.fa.fai\",\\n  \"checkerWorkflow.ref_hs38DH_fa_pac\":  \"gs://topmed_workflow_testing/topmed_variant_caller/reference_files/hg38/hs38DH.fa.pac\",\\n  \"checkerWorkflow.ref_hs38DH_fa_sa\":  \"gs://topmed_workflow_testing/topmed_variant_caller/reference_files/hg38/hs38DH.fa.sa\",\\n  \"checkerWorkflow.ref_hs38DH_winsize100_gc\":  \"gs://topmed_workflow_testing/topmed_variant_caller/reference_files/hg38/hs38DH.winsize100.gc\",\\n\\n  \"checkerWorkflow.docker_image\": \"quay.io/ucsc_cgl/topmed_freeze3_calling:1.9.0\"\\n}\\n\\n',\n",
       "  u'url': u'https://raw.githubusercontent.com/DataBiosphere/topmed-workflows/1.11.0/variant-caller/variant-caller-wdl-checker/variant-caller/variant-caller-wdl-checker/topmed_freeze3_calling_checker.json'}]"
      ]
     },
     "execution_count": 71,
     "metadata": {},
     "output_type": "execute_result"
    }
   ],
   "source": [
    "checker_tests = tclient.get_workflow_tests(\n",
    "    id=checker_workflow['id'], \n",
    "    version_id=workflow_config['version_id'], \n",
    "    type=workflow_config['workflow_type']\n",
    ")\n",
    "checker_tests"
   ]
  },
  {
   "cell_type": "markdown",
   "metadata": {},
   "source": [
    "### Build workflow run request"
   ]
  },
  {
   "cell_type": "code",
   "execution_count": 142,
   "metadata": {},
   "outputs": [
    {
     "name": "stderr",
     "output_type": "stream",
     "text": [
      "DEBUG:cachecontrol.controller:Looking up \"https://raw.githubusercontent.com/DataBiosphere/topmed-workflows/1.11.0/variant-caller/variant-caller-wdl-checker/topmed_freeze3_calling_checker.json\" in the cache\n",
      "DEBUG:cachecontrol.controller:Current age based on date: 38\n",
      "DEBUG:cachecontrol.controller:Freshness lifetime from max-age: 300\n",
      "DEBUG:cachecontrol.controller:The response is \"fresh\", returning cached response\n",
      "DEBUG:cachecontrol.controller:300 > 38\n"
     ]
    },
    {
     "data": {
      "text/plain": [
       "{'workflow_descriptor': u'import \"https://raw.githubusercontent.com/DataBiosphere/topmed-workflows/1.11.0/variant-caller/variant-caller-wdl/topmed_freeze3_calling.wdl\" as TopMed_variantcaller\\nimport \"https://raw.githubusercontent.com/DataBiosphere/topmed-workflows/1.11.0/variant-caller/variant-caller-wdl-checker/topmed-variantcaller-checker.wdl\" as checker\\n\\nworkflow checkerWorkflow {\\n  File inputTruthVCFFile\\n\\n  # Deprecated: No need to input this anymore\\n  # Disk size requirements will be calculated internally\\n  # This will be removed in the next release\\n  Float? reference_files_size\\n\\n  String docker_image\\n\\n  Array[File] input_crai_files\\n  Array[File] input_cram_files\\n\\n  File ref_1000G_omni2_5_b38_sites_PASS_vcf_gz\\n  File ref_1000G_omni2_5_b38_sites_PASS_vcf_gz_tbi\\n  File chr10_vcf\\n  File chr11_KI270927v1_alt_vcf\\n  File chr11_vcf\\n  File chr12_vcf\\n  File chr13_vcf\\n  File chr14_GL000009v2_random_vcf\\n  File chr14_KI270846v1_alt_vcf\\n  File chr14_vcf\\n  File chr15_vcf\\n  File chr16_vcf\\n  File chr17_KI270857v1_alt_vcf\\n  File chr17_KI270862v1_alt_vcf\\n  File chr17_KI270909v1_alt_vcf\\n  File chr17_vcf\\n  File chr18_vcf\\n  File chr19_KI270938v1_alt_vcf\\n  File chr19_vcf\\n  File chr1_KI270706v1_random_vcf\\n  File chr1_KI270766v1_alt_vcf\\n  File chr1_vcf\\n  File chr20_vcf\\n  File chr21_vcf\\n  File chr22_KI270879v1_alt_vcf\\n  File chr22_KI270928v1_alt_vcf\\n  File chr22_vcf\\n  File chr2_KI270773v1_alt_vcf\\n  File chr2_KI270894v1_alt_vcf\\n  File chr2_vcf\\n  File chr3_vcf\\n  File chr4_GL000008v2_random_vcf\\n  File chr4_vcf\\n  File chr5_vcf\\n  File chr6_vcf\\n  File chr7_KI270803v1_alt_vcf\\n  File chr7_vcf\\n  File chr8_KI270821v1_alt_vcf\\n  File chr8_vcf\\n  File chr9_vcf\\n  File chrUn_KI270742v1_vcf\\n  File chrX_vcf\\n  File ref_dbsnp_142_b38_vcf_gz\\n  File ref_dbsnp_142_b38_vcf_gz_tbi\\n  File ref_dbsnp_All_vcf_gz\\n  File ref_dbsnp_All_vcf_gz_tbi\\n  File ref_hapmap_3_3_b38_sites_vcf_gz\\n  File ref_hapmap_3_3_b38_sites_vcf_gz_tbi\\n  File ref_hs38DH_bs_umfa\\n  File ref_hs38DH_dict\\n  File ref_hs38DH_fa\\n  File ref_hs38DH_fa_alt\\n  File ref_hs38DH_fa_amb\\n  File ref_hs38DH_fa_ann\\n  File ref_hs38DH_fa_bwt\\n  File ref_hs38DH_fa_fai\\n  File ref_hs38DH_fa_pac\\n  File ref_hs38DH_fa_sa\\n  File ref_hs38DH_winsize100_gc\\n\\n\\n  call TopMed_variantcaller.TopMedVariantCaller as variantcaller {\\n    input:\\n      input_crai_files = input_crai_files,\\n      input_cram_files = input_cram_files,\\n\\n      docker_image = docker_image,\\n\\n      ref_1000G_omni2_5_b38_sites_PASS_vcf_gz = ref_1000G_omni2_5_b38_sites_PASS_vcf_gz,\\n      ref_1000G_omni2_5_b38_sites_PASS_vcf_gz_tbi = ref_1000G_omni2_5_b38_sites_PASS_vcf_gz_tbi,\\n      chr10_vcf = chr10_vcf,\\n      chr11_KI270927v1_alt_vcf = chr11_KI270927v1_alt_vcf,\\n      chr11_vcf = chr11_vcf,\\n      chr12_vcf = chr12_vcf,\\n      chr13_vcf = chr13_vcf,\\n      chr14_GL000009v2_random_vcf = chr14_GL000009v2_random_vcf,\\n      chr14_KI270846v1_alt_vcf = chr14_KI270846v1_alt_vcf,\\n      chr14_vcf = chr14_vcf,\\n      chr15_vcf = chr15_vcf,\\n      chr16_vcf = chr16_vcf,\\n      chr17_KI270857v1_alt_vcf = chr17_KI270857v1_alt_vcf,\\n      chr17_KI270862v1_alt_vcf = chr17_KI270862v1_alt_vcf,\\n      chr17_KI270909v1_alt_vcf = chr17_KI270909v1_alt_vcf,\\n      chr17_vcf = chr17_vcf,\\n      chr18_vcf = chr18_vcf,\\n      chr19_KI270938v1_alt_vcf = chr19_KI270938v1_alt_vcf,\\n      chr19_vcf = chr19_vcf,\\n      chr1_KI270706v1_random_vcf = chr1_KI270706v1_random_vcf,\\n      chr1_KI270766v1_alt_vcf = chr1_KI270766v1_alt_vcf,\\n      chr1_vcf = chr1_vcf,\\n      chr20_vcf = chr20_vcf,\\n      chr21_vcf = chr21_vcf,\\n      chr22_KI270879v1_alt_vcf = chr22_KI270879v1_alt_vcf,\\n      chr22_KI270928v1_alt_vcf = chr22_KI270928v1_alt_vcf,\\n      chr22_vcf = chr22_vcf,\\n      chr2_KI270773v1_alt_vcf = chr2_KI270773v1_alt_vcf,\\n      chr2_KI270894v1_alt_vcf = chr2_KI270894v1_alt_vcf,\\n      chr2_vcf = chr2_vcf,\\n      chr3_vcf = chr3_vcf,\\n      chr4_GL000008v2_random_vcf = chr4_GL000008v2_random_vcf,\\n      chr4_vcf = chr4_vcf,\\n      chr5_vcf = chr5_vcf,\\n      chr6_vcf = chr6_vcf,\\n      chr7_KI270803v1_alt_vcf = chr7_KI270803v1_alt_vcf,\\n      chr7_vcf = chr7_vcf,\\n      chr8_KI270821v1_alt_vcf = chr8_KI270821v1_alt_vcf,\\n      chr8_vcf = chr8_vcf,\\n      chr9_vcf = chr9_vcf,\\n      chrUn_KI270742v1_vcf = chrUn_KI270742v1_vcf,\\n      chrX_vcf = chrX_vcf,\\n      ref_dbsnp_142_b38_vcf_gz = ref_dbsnp_142_b38_vcf_gz,\\n      ref_dbsnp_142_b38_vcf_gz_tbi = ref_dbsnp_142_b38_vcf_gz_tbi,\\n      ref_dbsnp_All_vcf_gz = ref_dbsnp_All_vcf_gz,\\n      ref_dbsnp_All_vcf_gz_tbi = ref_dbsnp_All_vcf_gz_tbi,\\n      ref_hapmap_3_3_b38_sites_vcf_gz = ref_hapmap_3_3_b38_sites_vcf_gz,\\n      ref_hapmap_3_3_b38_sites_vcf_gz_tbi = ref_hapmap_3_3_b38_sites_vcf_gz_tbi,\\n      ref_hs38DH_bs_umfa = ref_hs38DH_bs_umfa,\\n      ref_hs38DH_dict = ref_hs38DH_dict,\\n      ref_hs38DH_fa = ref_hs38DH_fa,\\n      ref_hs38DH_fa_alt = ref_hs38DH_fa_alt,\\n      ref_hs38DH_fa_amb = ref_hs38DH_fa_amb,\\n      ref_hs38DH_fa_ann = ref_hs38DH_fa_ann,\\n      ref_hs38DH_fa_bwt = ref_hs38DH_fa_bwt,\\n      ref_hs38DH_fa_fai = ref_hs38DH_fa_fai,\\n      ref_hs38DH_fa_pac = ref_hs38DH_fa_pac,\\n      ref_hs38DH_fa_sa = ref_hs38DH_fa_sa,\\n      ref_hs38DH_winsize100_gc = ref_hs38DH_winsize100_gc\\n  }\\n\\n  call checker.checkerTask { \\n      input: \\n          inputTruthVCFFile = inputTruthVCFFile,\\n          inputTestVCFFile = variantcaller.topmed_variant_caller_output, \\n          docker_image = docker_image\\n  }\\n}\\n\\n',\n",
       " 'workflow_params': ordereddict([('checkerWorkflow.inputTruthVCFFile', 'gs://topmed_workflow_testing/topmed_variant_caller_checker/truth_topmed_variant_caller_NWD176325.0005_output.tar.gz'), ('checkerWorkflow.input_cram_files', ['gs://topmed_workflow_testing/topmed_aligner/input_files/NWD176325.0005.recab.cram']), ('checkerWorkflow.input_crai_files', ['gs://topmed_workflow_testing/topmed_aligner/input_files/NWD176325.0005.recab.cram.crai']), ('checkerWorkflow.ref_1000G_omni2_5_b38_sites_PASS_vcf_gz', 'gs://topmed_workflow_testing/topmed_variant_caller/reference_files/hg38/1000G_omni2.5.b38.sites.PASS.vcf.gz'), ('checkerWorkflow.ref_1000G_omni2_5_b38_sites_PASS_vcf_gz_tbi', 'gs://topmed_workflow_testing/topmed_variant_caller/reference_files/hg38/1000G_omni2.5.b38.sites.PASS.vcf.gz.tbi'), ('checkerWorkflow.chr10_vcf', 'gs://topmed_workflow_testing/topmed_variant_caller/reference_files/hg38/1kg.pilot_release.merged.indels.sites.hg38.chr10.vcf'), ('checkerWorkflow.chr11_KI270927v1_alt_vcf', 'gs://topmed_workflow_testing/topmed_variant_caller/reference_files/hg38/1kg.pilot_release.merged.indels.sites.hg38.chr11_KI270927v1_alt.vcf'), ('checkerWorkflow.chr11_vcf', 'gs://topmed_workflow_testing/topmed_variant_caller/reference_files/hg38/1kg.pilot_release.merged.indels.sites.hg38.chr11.vcf'), ('checkerWorkflow.chr12_vcf', 'gs://topmed_workflow_testing/topmed_variant_caller/reference_files/hg38/1kg.pilot_release.merged.indels.sites.hg38.chr12.vcf'), ('checkerWorkflow.chr13_vcf', 'gs://topmed_workflow_testing/topmed_variant_caller/reference_files/hg38/1kg.pilot_release.merged.indels.sites.hg38.chr13.vcf'), ('checkerWorkflow.chr14_GL000009v2_random_vcf', 'gs://topmed_workflow_testing/topmed_variant_caller/reference_files/hg38/1kg.pilot_release.merged.indels.sites.hg38.chr14_GL000009v2_random.vcf'), ('checkerWorkflow.chr14_KI270846v1_alt_vcf', 'gs://topmed_workflow_testing/topmed_variant_caller/reference_files/hg38/1kg.pilot_release.merged.indels.sites.hg38.chr14_KI270846v1_alt.vcf'), ('checkerWorkflow.chr14_vcf', 'gs://topmed_workflow_testing/topmed_variant_caller/reference_files/hg38/1kg.pilot_release.merged.indels.sites.hg38.chr14.vcf'), ('checkerWorkflow.chr15_vcf', 'gs://topmed_workflow_testing/topmed_variant_caller/reference_files/hg38/1kg.pilot_release.merged.indels.sites.hg38.chr15.vcf'), ('checkerWorkflow.chr16_vcf', 'gs://topmed_workflow_testing/topmed_variant_caller/reference_files/hg38/1kg.pilot_release.merged.indels.sites.hg38.chr16.vcf'), ('checkerWorkflow.chr17_KI270857v1_alt_vcf', 'gs://topmed_workflow_testing/topmed_variant_caller/reference_files/hg38/1kg.pilot_release.merged.indels.sites.hg38.chr17_KI270857v1_alt.vcf'), ('checkerWorkflow.chr17_KI270862v1_alt_vcf', 'gs://topmed_workflow_testing/topmed_variant_caller/reference_files/hg38/1kg.pilot_release.merged.indels.sites.hg38.chr17_KI270862v1_alt.vcf'), ('checkerWorkflow.chr17_KI270909v1_alt_vcf', 'gs://topmed_workflow_testing/topmed_variant_caller/reference_files/hg38/1kg.pilot_release.merged.indels.sites.hg38.chr17_KI270909v1_alt.vcf'), ('checkerWorkflow.chr17_vcf', 'gs://topmed_workflow_testing/topmed_variant_caller/reference_files/hg38/1kg.pilot_release.merged.indels.sites.hg38.chr17.vcf'), ('checkerWorkflow.chr18_vcf', 'gs://topmed_workflow_testing/topmed_variant_caller/reference_files/hg38/1kg.pilot_release.merged.indels.sites.hg38.chr18.vcf'), ('checkerWorkflow.chr19_KI270938v1_alt_vcf', 'gs://topmed_workflow_testing/topmed_variant_caller/reference_files/hg38/1kg.pilot_release.merged.indels.sites.hg38.chr19_KI270938v1_alt.vcf'), ('checkerWorkflow.chr19_vcf', 'gs://topmed_workflow_testing/topmed_variant_caller/reference_files/hg38/1kg.pilot_release.merged.indels.sites.hg38.chr19.vcf'), ('checkerWorkflow.chr1_KI270706v1_random_vcf', 'gs://topmed_workflow_testing/topmed_variant_caller/reference_files/hg38/1kg.pilot_release.merged.indels.sites.hg38.chr1_KI270706v1_random.vcf'), ('checkerWorkflow.chr1_KI270766v1_alt_vcf', 'gs://topmed_workflow_testing/topmed_variant_caller/reference_files/hg38/1kg.pilot_release.merged.indels.sites.hg38.chr1_KI270766v1_alt.vcf'), ('checkerWorkflow.chr1_vcf', 'gs://topmed_workflow_testing/topmed_variant_caller/reference_files/hg38/1kg.pilot_release.merged.indels.sites.hg38.chr1.vcf'), ('checkerWorkflow.chr20_vcf', 'gs://topmed_workflow_testing/topmed_variant_caller/reference_files/hg38/1kg.pilot_release.merged.indels.sites.hg38.chr20.vcf'), ('checkerWorkflow.chr21_vcf', 'gs://topmed_workflow_testing/topmed_variant_caller/reference_files/hg38/1kg.pilot_release.merged.indels.sites.hg38.chr21.vcf'), ('checkerWorkflow.chr22_KI270879v1_alt_vcf', 'gs://topmed_workflow_testing/topmed_variant_caller/reference_files/hg38/1kg.pilot_release.merged.indels.sites.hg38.chr22_KI270879v1_alt.vcf'), ('checkerWorkflow.chr22_KI270928v1_alt_vcf', 'gs://topmed_workflow_testing/topmed_variant_caller/reference_files/hg38/1kg.pilot_release.merged.indels.sites.hg38.chr22_KI270928v1_alt.vcf'), ('checkerWorkflow.chr22_vcf', 'gs://topmed_workflow_testing/topmed_variant_caller/reference_files/hg38/1kg.pilot_release.merged.indels.sites.hg38.chr22.vcf'), ('checkerWorkflow.chr2_KI270773v1_alt_vcf', 'gs://topmed_workflow_testing/topmed_variant_caller/reference_files/hg38/1kg.pilot_release.merged.indels.sites.hg38.chr2_KI270773v1_alt.vcf'), ('checkerWorkflow.chr2_KI270894v1_alt_vcf', 'gs://topmed_workflow_testing/topmed_variant_caller/reference_files/hg38/1kg.pilot_release.merged.indels.sites.hg38.chr2_KI270894v1_alt.vcf'), ('checkerWorkflow.chr2_vcf', 'gs://topmed_workflow_testing/topmed_variant_caller/reference_files/hg38/1kg.pilot_release.merged.indels.sites.hg38.chr2.vcf'), ('checkerWorkflow.chr3_vcf', 'gs://topmed_workflow_testing/topmed_variant_caller/reference_files/hg38/1kg.pilot_release.merged.indels.sites.hg38.chr3.vcf'), ('checkerWorkflow.chr4_GL000008v2_random_vcf', 'gs://topmed_workflow_testing/topmed_variant_caller/reference_files/hg38/1kg.pilot_release.merged.indels.sites.hg38.chr4_GL000008v2_random.vcf'), ('checkerWorkflow.chr4_vcf', 'gs://topmed_workflow_testing/topmed_variant_caller/reference_files/hg38/1kg.pilot_release.merged.indels.sites.hg38.chr4.vcf'), ('checkerWorkflow.chr5_vcf', 'gs://topmed_workflow_testing/topmed_variant_caller/reference_files/hg38/1kg.pilot_release.merged.indels.sites.hg38.chr5.vcf'), ('checkerWorkflow.chr6_vcf', 'gs://topmed_workflow_testing/topmed_variant_caller/reference_files/hg38/1kg.pilot_release.merged.indels.sites.hg38.chr6.vcf'), ('checkerWorkflow.chr7_KI270803v1_alt_vcf', 'gs://topmed_workflow_testing/topmed_variant_caller/reference_files/hg38/1kg.pilot_release.merged.indels.sites.hg38.chr7_KI270803v1_alt.vcf'), ('checkerWorkflow.chr7_vcf', 'gs://topmed_workflow_testing/topmed_variant_caller/reference_files/hg38/1kg.pilot_release.merged.indels.sites.hg38.chr7.vcf'), ('checkerWorkflow.chr8_KI270821v1_alt_vcf', 'gs://topmed_workflow_testing/topmed_variant_caller/reference_files/hg38/1kg.pilot_release.merged.indels.sites.hg38.chr8_KI270821v1_alt.vcf'), ('checkerWorkflow.chr8_vcf', 'gs://topmed_workflow_testing/topmed_variant_caller/reference_files/hg38/1kg.pilot_release.merged.indels.sites.hg38.chr8.vcf'), ('checkerWorkflow.chr9_vcf', 'gs://topmed_workflow_testing/topmed_variant_caller/reference_files/hg38/1kg.pilot_release.merged.indels.sites.hg38.chr9.vcf'), ('checkerWorkflow.chrUn_KI270742v1_vcf', 'gs://topmed_workflow_testing/topmed_variant_caller/reference_files/hg38/1kg.pilot_release.merged.indels.sites.hg38.chrUn_KI270742v1.vcf'), ('checkerWorkflow.chrX_vcf', 'gs://topmed_workflow_testing/topmed_variant_caller/reference_files/hg38/1kg.pilot_release.merged.indels.sites.hg38.chrX.vcf'), ('checkerWorkflow.ref_dbsnp_142_b38_vcf_gz', 'gs://topmed_workflow_testing/topmed_variant_caller/reference_files/hg38/dbsnp_142.b38.vcf.gz'), ('checkerWorkflow.ref_dbsnp_142_b38_vcf_gz_tbi', 'gs://topmed_workflow_testing/topmed_variant_caller/reference_files/hg38/dbsnp_142.b38.vcf.gz.tbi'), ('checkerWorkflow.ref_dbsnp_All_vcf_gz', 'gs://topmed_workflow_testing/topmed_variant_caller/reference_files/hg38/dbsnp.All.vcf.gz'), ('checkerWorkflow.ref_dbsnp_All_vcf_gz_tbi', 'gs://topmed_workflow_testing/topmed_variant_caller/reference_files/hg38/dbsnp.All.vcf.gz.tbi'), ('checkerWorkflow.ref_hapmap_3_3_b38_sites_vcf_gz', 'gs://topmed_workflow_testing/topmed_variant_caller/reference_files/hg38/hapmap_3.3.b38.sites.vcf.gz'), ('checkerWorkflow.ref_hapmap_3_3_b38_sites_vcf_gz_tbi', 'gs://topmed_workflow_testing/topmed_variant_caller/reference_files/hg38/hapmap_3.3.b38.sites.vcf.gz.tbi'), ('checkerWorkflow.ref_hs38DH_bs_umfa', 'gs://topmed_workflow_testing/topmed_variant_caller/reference_files/hg38/hs38DH-bs.umfa'), ('checkerWorkflow.ref_hs38DH_dict', 'gs://topmed_workflow_testing/topmed_variant_caller/reference_files/hg38/hs38DH.dict'), ('checkerWorkflow.ref_hs38DH_fa', 'gs://topmed_workflow_testing/topmed_variant_caller/reference_files/hg38/hs38DH.fa'), ('checkerWorkflow.ref_hs38DH_fa_alt', 'gs://topmed_workflow_testing/topmed_variant_caller/reference_files/hg38/hs38DH.fa.alt'), ('checkerWorkflow.ref_hs38DH_fa_amb', 'gs://topmed_workflow_testing/topmed_variant_caller/reference_files/hg38/hs38DH.fa.amb'), ('checkerWorkflow.ref_hs38DH_fa_ann', 'gs://topmed_workflow_testing/topmed_variant_caller/reference_files/hg38/hs38DH.fa.ann'), ('checkerWorkflow.ref_hs38DH_fa_bwt', 'gs://topmed_workflow_testing/topmed_variant_caller/reference_files/hg38/hs38DH.fa.bwt'), ('checkerWorkflow.ref_hs38DH_fa_fai', 'gs://topmed_workflow_testing/topmed_variant_caller/reference_files/hg38/hs38DH.fa.fai'), ('checkerWorkflow.ref_hs38DH_fa_pac', 'gs://topmed_workflow_testing/topmed_variant_caller/reference_files/hg38/hs38DH.fa.pac'), ('checkerWorkflow.ref_hs38DH_fa_sa', 'gs://topmed_workflow_testing/topmed_variant_caller/reference_files/hg38/hs38DH.fa.sa'), ('checkerWorkflow.ref_hs38DH_winsize100_gc', 'gs://topmed_workflow_testing/topmed_variant_caller/reference_files/hg38/hs38DH.winsize100.gc'), ('checkerWorkflow.docker_image', 'quay.io/ucsc_cgl/topmed_freeze3_calling:1.9.0')]),\n",
       " 'workflow_type': u'WDL',\n",
       " 'workflow_type_version': 'v1.0'}"
      ]
     },
     "execution_count": 142,
     "metadata": {},
     "output_type": "execute_result"
    }
   ],
   "source": [
    "workflow_request = build_wes_request(\n",
    "    workflow_descriptor=checker_descriptor['descriptor'], \n",
    "    workflow_params=checker_tests[0]['url'],\n",
    "    workflow_type=checker_descriptor['type']\n",
    ")\n",
    "workflow_request"
   ]
  },
  {
   "cell_type": "markdown",
   "metadata": {},
   "source": [
    "### Run checker workflow"
   ]
  },
  {
   "cell_type": "markdown",
   "metadata": {},
   "source": [
    "#### Submit new workflow run"
   ]
  },
  {
   "cell_type": "code",
   "execution_count": 143,
   "metadata": {
    "scrolled": false
   },
   "outputs": [
    {
     "name": "stderr",
     "output_type": "stream",
     "text": [
      "DEBUG:urllib3.connectionpool:Starting new HTTPS connection (1): g0n2qjnu94.execute-api.us-east-1.amazonaws.com\n",
      "DEBUG:urllib3.connectionpool:https://g0n2qjnu94.execute-api.us-east-1.amazonaws.com:443 \"POST /test//workflows HTTP/1.1\" 200 55\n"
     ]
    },
    {
     "data": {
      "text/plain": [
       "{u'workflow_id': u'cebafa4f-53d8-41a3-9925-700cb2c407c5'}"
      ]
     },
     "execution_count": 143,
     "metadata": {},
     "output_type": "execute_result"
    }
   ],
   "source": [
    "r = cromclient.run_workflow(workflow_request)\n",
    "r"
   ]
  },
  {
   "cell_type": "markdown",
   "metadata": {},
   "source": [
    "#### Monitor workflow run status"
   ]
  },
  {
   "cell_type": "code",
   "execution_count": 155,
   "metadata": {},
   "outputs": [
    {
     "name": "stderr",
     "output_type": "stream",
     "text": [
      "DEBUG:urllib3.connectionpool:Starting new HTTPS connection (1): g0n2qjnu94.execute-api.us-east-1.amazonaws.com\n",
      "DEBUG:urllib3.connectionpool:https://g0n2qjnu94.execute-api.us-east-1.amazonaws.com:443 \"GET /test//workflows/cebafa4f-53d8-41a3-9925-700cb2c407c5/status HTTP/1.1\" 200 75\n",
      "DEBUG:urllib3.connectionpool:Starting new HTTPS connection (1): g0n2qjnu94.execute-api.us-east-1.amazonaws.com\n",
      "DEBUG:urllib3.connectionpool:https://g0n2qjnu94.execute-api.us-east-1.amazonaws.com:443 \"GET /test//workflows/cebafa4f-53d8-41a3-9925-700cb2c407c5/status HTTP/1.1\" 200 75\n",
      "DEBUG:urllib3.connectionpool:Starting new HTTPS connection (1): g0n2qjnu94.execute-api.us-east-1.amazonaws.com\n",
      "DEBUG:urllib3.connectionpool:https://g0n2qjnu94.execute-api.us-east-1.amazonaws.com:443 \"GET /test//workflows/cebafa4f-53d8-41a3-9925-700cb2c407c5/status HTTP/1.1\" 200 75\n",
      "DEBUG:urllib3.connectionpool:Starting new HTTPS connection (1): g0n2qjnu94.execute-api.us-east-1.amazonaws.com\n",
      "DEBUG:urllib3.connectionpool:https://g0n2qjnu94.execute-api.us-east-1.amazonaws.com:443 \"GET /test//workflows/cebafa4f-53d8-41a3-9925-700cb2c407c5/status HTTP/1.1\" 200 75\n",
      "DEBUG:urllib3.connectionpool:Starting new HTTPS connection (1): g0n2qjnu94.execute-api.us-east-1.amazonaws.com\n",
      "DEBUG:urllib3.connectionpool:https://g0n2qjnu94.execute-api.us-east-1.amazonaws.com:443 \"GET /test//workflows/cebafa4f-53d8-41a3-9925-700cb2c407c5/status HTTP/1.1\" 200 75\n",
      "DEBUG:urllib3.connectionpool:Starting new HTTPS connection (1): g0n2qjnu94.execute-api.us-east-1.amazonaws.com\n",
      "DEBUG:urllib3.connectionpool:https://g0n2qjnu94.execute-api.us-east-1.amazonaws.com:443 \"GET /test//workflows/cebafa4f-53d8-41a3-9925-700cb2c407c5/status HTTP/1.1\" 200 75\n",
      "DEBUG:urllib3.connectionpool:Starting new HTTPS connection (1): g0n2qjnu94.execute-api.us-east-1.amazonaws.com\n",
      "DEBUG:urllib3.connectionpool:https://g0n2qjnu94.execute-api.us-east-1.amazonaws.com:443 \"GET /test//workflows/cebafa4f-53d8-41a3-9925-700cb2c407c5/status HTTP/1.1\" 200 75\n",
      "DEBUG:urllib3.connectionpool:Starting new HTTPS connection (1): g0n2qjnu94.execute-api.us-east-1.amazonaws.com\n",
      "DEBUG:urllib3.connectionpool:https://g0n2qjnu94.execute-api.us-east-1.amazonaws.com:443 \"GET /test//workflows/cebafa4f-53d8-41a3-9925-700cb2c407c5/status HTTP/1.1\" 200 75\n",
      "DEBUG:urllib3.connectionpool:Starting new HTTPS connection (1): g0n2qjnu94.execute-api.us-east-1.amazonaws.com\n",
      "DEBUG:urllib3.connectionpool:https://g0n2qjnu94.execute-api.us-east-1.amazonaws.com:443 \"GET /test//workflows/cebafa4f-53d8-41a3-9925-700cb2c407c5/status HTTP/1.1\" 200 75\n",
      "DEBUG:urllib3.connectionpool:Starting new HTTPS connection (1): g0n2qjnu94.execute-api.us-east-1.amazonaws.com\n",
      "DEBUG:urllib3.connectionpool:https://g0n2qjnu94.execute-api.us-east-1.amazonaws.com:443 \"GET /test//workflows/cebafa4f-53d8-41a3-9925-700cb2c407c5/status HTTP/1.1\" 200 75\n",
      "DEBUG:urllib3.connectionpool:Starting new HTTPS connection (1): g0n2qjnu94.execute-api.us-east-1.amazonaws.com\n",
      "DEBUG:urllib3.connectionpool:https://g0n2qjnu94.execute-api.us-east-1.amazonaws.com:443 \"GET /test//workflows/cebafa4f-53d8-41a3-9925-700cb2c407c5/status HTTP/1.1\" 200 75\n",
      "DEBUG:urllib3.connectionpool:Starting new HTTPS connection (1): g0n2qjnu94.execute-api.us-east-1.amazonaws.com\n",
      "DEBUG:urllib3.connectionpool:https://g0n2qjnu94.execute-api.us-east-1.amazonaws.com:443 \"GET /test//workflows/cebafa4f-53d8-41a3-9925-700cb2c407c5/status HTTP/1.1\" 200 75\n",
      "DEBUG:urllib3.connectionpool:Starting new HTTPS connection (1): g0n2qjnu94.execute-api.us-east-1.amazonaws.com\n",
      "DEBUG:urllib3.connectionpool:https://g0n2qjnu94.execute-api.us-east-1.amazonaws.com:443 \"GET /test//workflows/cebafa4f-53d8-41a3-9925-700cb2c407c5/status HTTP/1.1\" 200 75\n",
      "DEBUG:urllib3.connectionpool:Starting new HTTPS connection (1): g0n2qjnu94.execute-api.us-east-1.amazonaws.com\n",
      "DEBUG:urllib3.connectionpool:https://g0n2qjnu94.execute-api.us-east-1.amazonaws.com:443 \"GET /test//workflows/cebafa4f-53d8-41a3-9925-700cb2c407c5/status HTTP/1.1\" 200 75\n",
      "DEBUG:urllib3.connectionpool:Starting new HTTPS connection (1): g0n2qjnu94.execute-api.us-east-1.amazonaws.com\n",
      "DEBUG:urllib3.connectionpool:https://g0n2qjnu94.execute-api.us-east-1.amazonaws.com:443 \"GET /test//workflows/cebafa4f-53d8-41a3-9925-700cb2c407c5/status HTTP/1.1\" 200 75\n",
      "DEBUG:urllib3.connectionpool:Starting new HTTPS connection (1): g0n2qjnu94.execute-api.us-east-1.amazonaws.com\n",
      "DEBUG:urllib3.connectionpool:https://g0n2qjnu94.execute-api.us-east-1.amazonaws.com:443 \"GET /test//workflows/cebafa4f-53d8-41a3-9925-700cb2c407c5/status HTTP/1.1\" 200 75\n",
      "DEBUG:urllib3.connectionpool:Starting new HTTPS connection (1): g0n2qjnu94.execute-api.us-east-1.amazonaws.com\n",
      "DEBUG:urllib3.connectionpool:https://g0n2qjnu94.execute-api.us-east-1.amazonaws.com:443 \"GET /test//workflows/cebafa4f-53d8-41a3-9925-700cb2c407c5/status HTTP/1.1\" 200 75\n",
      "DEBUG:urllib3.connectionpool:Starting new HTTPS connection (1): g0n2qjnu94.execute-api.us-east-1.amazonaws.com\n",
      "DEBUG:urllib3.connectionpool:https://g0n2qjnu94.execute-api.us-east-1.amazonaws.com:443 \"GET /test//workflows/cebafa4f-53d8-41a3-9925-700cb2c407c5/status HTTP/1.1\" 200 75\n",
      "DEBUG:urllib3.connectionpool:Starting new HTTPS connection (1): g0n2qjnu94.execute-api.us-east-1.amazonaws.com\n",
      "DEBUG:urllib3.connectionpool:https://g0n2qjnu94.execute-api.us-east-1.amazonaws.com:443 \"GET /test//workflows/cebafa4f-53d8-41a3-9925-700cb2c407c5/status HTTP/1.1\" 200 75\n",
      "DEBUG:urllib3.connectionpool:Starting new HTTPS connection (1): g0n2qjnu94.execute-api.us-east-1.amazonaws.com\n",
      "DEBUG:urllib3.connectionpool:https://g0n2qjnu94.execute-api.us-east-1.amazonaws.com:443 \"GET /test//workflows/cebafa4f-53d8-41a3-9925-700cb2c407c5/status HTTP/1.1\" 200 75\n",
      "DEBUG:urllib3.connectionpool:Starting new HTTPS connection (1): g0n2qjnu94.execute-api.us-east-1.amazonaws.com\n",
      "DEBUG:urllib3.connectionpool:https://g0n2qjnu94.execute-api.us-east-1.amazonaws.com:443 \"GET /test//workflows/cebafa4f-53d8-41a3-9925-700cb2c407c5/status HTTP/1.1\" 200 75\n",
      "DEBUG:urllib3.connectionpool:Starting new HTTPS connection (1): g0n2qjnu94.execute-api.us-east-1.amazonaws.com\n",
      "DEBUG:urllib3.connectionpool:https://g0n2qjnu94.execute-api.us-east-1.amazonaws.com:443 \"GET /test//workflows/cebafa4f-53d8-41a3-9925-700cb2c407c5/status HTTP/1.1\" 200 75\n",
      "DEBUG:urllib3.connectionpool:Starting new HTTPS connection (1): g0n2qjnu94.execute-api.us-east-1.amazonaws.com\n",
      "DEBUG:urllib3.connectionpool:https://g0n2qjnu94.execute-api.us-east-1.amazonaws.com:443 \"GET /test//workflows/cebafa4f-53d8-41a3-9925-700cb2c407c5/status HTTP/1.1\" 200 75\n",
      "DEBUG:urllib3.connectionpool:Starting new HTTPS connection (1): g0n2qjnu94.execute-api.us-east-1.amazonaws.com\n",
      "DEBUG:urllib3.connectionpool:https://g0n2qjnu94.execute-api.us-east-1.amazonaws.com:443 \"GET /test//workflows/cebafa4f-53d8-41a3-9925-700cb2c407c5/status HTTP/1.1\" 200 75\n",
      "DEBUG:urllib3.connectionpool:Starting new HTTPS connection (1): g0n2qjnu94.execute-api.us-east-1.amazonaws.com\n",
      "DEBUG:urllib3.connectionpool:https://g0n2qjnu94.execute-api.us-east-1.amazonaws.com:443 \"GET /test//workflows/cebafa4f-53d8-41a3-9925-700cb2c407c5/status HTTP/1.1\" 200 75\n",
      "DEBUG:urllib3.connectionpool:Starting new HTTPS connection (1): g0n2qjnu94.execute-api.us-east-1.amazonaws.com\n",
      "DEBUG:urllib3.connectionpool:https://g0n2qjnu94.execute-api.us-east-1.amazonaws.com:443 \"GET /test//workflows/cebafa4f-53d8-41a3-9925-700cb2c407c5/status HTTP/1.1\" 200 75\n",
      "DEBUG:urllib3.connectionpool:Starting new HTTPS connection (1): g0n2qjnu94.execute-api.us-east-1.amazonaws.com\n",
      "DEBUG:urllib3.connectionpool:https://g0n2qjnu94.execute-api.us-east-1.amazonaws.com:443 \"GET /test//workflows/cebafa4f-53d8-41a3-9925-700cb2c407c5/status HTTP/1.1\" 200 75\n",
      "DEBUG:urllib3.connectionpool:Starting new HTTPS connection (1): g0n2qjnu94.execute-api.us-east-1.amazonaws.com\n",
      "DEBUG:urllib3.connectionpool:https://g0n2qjnu94.execute-api.us-east-1.amazonaws.com:443 \"GET /test//workflows/cebafa4f-53d8-41a3-9925-700cb2c407c5/status HTTP/1.1\" 200 75\n",
      "DEBUG:urllib3.connectionpool:Starting new HTTPS connection (1): g0n2qjnu94.execute-api.us-east-1.amazonaws.com\n",
      "DEBUG:urllib3.connectionpool:https://g0n2qjnu94.execute-api.us-east-1.amazonaws.com:443 \"GET /test//workflows/cebafa4f-53d8-41a3-9925-700cb2c407c5/status HTTP/1.1\" 200 75\n",
      "DEBUG:urllib3.connectionpool:Starting new HTTPS connection (1): g0n2qjnu94.execute-api.us-east-1.amazonaws.com\n"
     ]
    },
    {
     "name": "stderr",
     "output_type": "stream",
     "text": [
      "DEBUG:urllib3.connectionpool:https://g0n2qjnu94.execute-api.us-east-1.amazonaws.com:443 \"GET /test//workflows/cebafa4f-53d8-41a3-9925-700cb2c407c5/status HTTP/1.1\" 200 75\n",
      "DEBUG:urllib3.connectionpool:Starting new HTTPS connection (1): g0n2qjnu94.execute-api.us-east-1.amazonaws.com\n",
      "DEBUG:urllib3.connectionpool:https://g0n2qjnu94.execute-api.us-east-1.amazonaws.com:443 \"GET /test//workflows/cebafa4f-53d8-41a3-9925-700cb2c407c5/status HTTP/1.1\" 200 75\n",
      "DEBUG:urllib3.connectionpool:Starting new HTTPS connection (1): g0n2qjnu94.execute-api.us-east-1.amazonaws.com\n",
      "DEBUG:urllib3.connectionpool:https://g0n2qjnu94.execute-api.us-east-1.amazonaws.com:443 \"GET /test//workflows/cebafa4f-53d8-41a3-9925-700cb2c407c5/status HTTP/1.1\" 200 75\n",
      "DEBUG:urllib3.connectionpool:Starting new HTTPS connection (1): g0n2qjnu94.execute-api.us-east-1.amazonaws.com\n",
      "DEBUG:urllib3.connectionpool:https://g0n2qjnu94.execute-api.us-east-1.amazonaws.com:443 \"GET /test//workflows/cebafa4f-53d8-41a3-9925-700cb2c407c5/status HTTP/1.1\" 200 76\n"
     ]
    }
   ],
   "source": [
    "r = cromclient.get_workflow_run_status(r['workflow_id'])\n",
    "while r['state'] in ('QUEUED', 'INITIALIZING', 'RUNNING'):\n",
    "    time.sleep(30)\n",
    "    r = cromclient.get_workflow_run_status(r['workflow_id'])"
   ]
  },
  {
   "cell_type": "markdown",
   "metadata": {},
   "source": [
    "#### Check workflow run details"
   ]
  },
  {
   "cell_type": "code",
   "execution_count": 157,
   "metadata": {
    "scrolled": false
   },
   "outputs": [
    {
     "name": "stderr",
     "output_type": "stream",
     "text": [
      "DEBUG:urllib3.connectionpool:Starting new HTTPS connection (1): g0n2qjnu94.execute-api.us-east-1.amazonaws.com\n",
      "DEBUG:urllib3.connectionpool:https://g0n2qjnu94.execute-api.us-east-1.amazonaws.com:443 \"GET /test//workflows/cebafa4f-53d8-41a3-9925-700cb2c407c5 HTTP/1.1\" 200 16028\n"
     ]
    },
    {
     "data": {
      "text/plain": [
       "{u'end_time': u'2018-05-25T02:52:32.854Z',\n",
       " u'outputs': {u'checkerWorkflow.variantcaller.topmed_variant_caller_output': u'gs://broad-dsde-mint-dev-cromwell-execution/cromwell-executions/checkerWorkflow/cebafa4f-53d8-41a3-9925-700cb2c407c5/call-variantcaller/TopMedVariantCaller/a2428177-6416-4e2b-a0e0-23060f435495/call-variantCalling/topmed_variant_caller_output.tar.gz'},\n",
       " u'request': {u'workflow_descriptor': u'import \"https://raw.githubusercontent.com/DataBiosphere/topmed-workflows/1.11.0/variant-caller/variant-caller-wdl/topmed_freeze3_calling.wdl\" as TopMed_variantcaller\\nimport \"https://raw.githubusercontent.com/DataBiosphere/topmed-workflows/1.11.0/variant-caller/variant-caller-wdl-checker/topmed-variantcaller-checker.wdl\" as checker\\n\\nworkflow checkerWorkflow {\\n  File inputTruthVCFFile\\n\\n  # Deprecated: No need to input this anymore\\n  # Disk size requirements will be calculated internally\\n  # This will be removed in the next release\\n  Float? reference_files_size\\n\\n  String docker_image\\n\\n  Array[File] input_crai_files\\n  Array[File] input_cram_files\\n\\n  File ref_1000G_omni2_5_b38_sites_PASS_vcf_gz\\n  File ref_1000G_omni2_5_b38_sites_PASS_vcf_gz_tbi\\n  File chr10_vcf\\n  File chr11_KI270927v1_alt_vcf\\n  File chr11_vcf\\n  File chr12_vcf\\n  File chr13_vcf\\n  File chr14_GL000009v2_random_vcf\\n  File chr14_KI270846v1_alt_vcf\\n  File chr14_vcf\\n  File chr15_vcf\\n  File chr16_vcf\\n  File chr17_KI270857v1_alt_vcf\\n  File chr17_KI270862v1_alt_vcf\\n  File chr17_KI270909v1_alt_vcf\\n  File chr17_vcf\\n  File chr18_vcf\\n  File chr19_KI270938v1_alt_vcf\\n  File chr19_vcf\\n  File chr1_KI270706v1_random_vcf\\n  File chr1_KI270766v1_alt_vcf\\n  File chr1_vcf\\n  File chr20_vcf\\n  File chr21_vcf\\n  File chr22_KI270879v1_alt_vcf\\n  File chr22_KI270928v1_alt_vcf\\n  File chr22_vcf\\n  File chr2_KI270773v1_alt_vcf\\n  File chr2_KI270894v1_alt_vcf\\n  File chr2_vcf\\n  File chr3_vcf\\n  File chr4_GL000008v2_random_vcf\\n  File chr4_vcf\\n  File chr5_vcf\\n  File chr6_vcf\\n  File chr7_KI270803v1_alt_vcf\\n  File chr7_vcf\\n  File chr8_KI270821v1_alt_vcf\\n  File chr8_vcf\\n  File chr9_vcf\\n  File chrUn_KI270742v1_vcf\\n  File chrX_vcf\\n  File ref_dbsnp_142_b38_vcf_gz\\n  File ref_dbsnp_142_b38_vcf_gz_tbi\\n  File ref_dbsnp_All_vcf_gz\\n  File ref_dbsnp_All_vcf_gz_tbi\\n  File ref_hapmap_3_3_b38_sites_vcf_gz\\n  File ref_hapmap_3_3_b38_sites_vcf_gz_tbi\\n  File ref_hs38DH_bs_umfa\\n  File ref_hs38DH_dict\\n  File ref_hs38DH_fa\\n  File ref_hs38DH_fa_alt\\n  File ref_hs38DH_fa_amb\\n  File ref_hs38DH_fa_ann\\n  File ref_hs38DH_fa_bwt\\n  File ref_hs38DH_fa_fai\\n  File ref_hs38DH_fa_pac\\n  File ref_hs38DH_fa_sa\\n  File ref_hs38DH_winsize100_gc\\n\\n\\n  call TopMed_variantcaller.TopMedVariantCaller as variantcaller {\\n    input:\\n      input_crai_files = input_crai_files,\\n      input_cram_files = input_cram_files,\\n\\n      docker_image = docker_image,\\n\\n      ref_1000G_omni2_5_b38_sites_PASS_vcf_gz = ref_1000G_omni2_5_b38_sites_PASS_vcf_gz,\\n      ref_1000G_omni2_5_b38_sites_PASS_vcf_gz_tbi = ref_1000G_omni2_5_b38_sites_PASS_vcf_gz_tbi,\\n      chr10_vcf = chr10_vcf,\\n      chr11_KI270927v1_alt_vcf = chr11_KI270927v1_alt_vcf,\\n      chr11_vcf = chr11_vcf,\\n      chr12_vcf = chr12_vcf,\\n      chr13_vcf = chr13_vcf,\\n      chr14_GL000009v2_random_vcf = chr14_GL000009v2_random_vcf,\\n      chr14_KI270846v1_alt_vcf = chr14_KI270846v1_alt_vcf,\\n      chr14_vcf = chr14_vcf,\\n      chr15_vcf = chr15_vcf,\\n      chr16_vcf = chr16_vcf,\\n      chr17_KI270857v1_alt_vcf = chr17_KI270857v1_alt_vcf,\\n      chr17_KI270862v1_alt_vcf = chr17_KI270862v1_alt_vcf,\\n      chr17_KI270909v1_alt_vcf = chr17_KI270909v1_alt_vcf,\\n      chr17_vcf = chr17_vcf,\\n      chr18_vcf = chr18_vcf,\\n      chr19_KI270938v1_alt_vcf = chr19_KI270938v1_alt_vcf,\\n      chr19_vcf = chr19_vcf,\\n      chr1_KI270706v1_random_vcf = chr1_KI270706v1_random_vcf,\\n      chr1_KI270766v1_alt_vcf = chr1_KI270766v1_alt_vcf,\\n      chr1_vcf = chr1_vcf,\\n      chr20_vcf = chr20_vcf,\\n      chr21_vcf = chr21_vcf,\\n      chr22_KI270879v1_alt_vcf = chr22_KI270879v1_alt_vcf,\\n      chr22_KI270928v1_alt_vcf = chr22_KI270928v1_alt_vcf,\\n      chr22_vcf = chr22_vcf,\\n      chr2_KI270773v1_alt_vcf = chr2_KI270773v1_alt_vcf,\\n      chr2_KI270894v1_alt_vcf = chr2_KI270894v1_alt_vcf,\\n      chr2_vcf = chr2_vcf,\\n      chr3_vcf = chr3_vcf,\\n      chr4_GL000008v2_random_vcf = chr4_GL000008v2_random_vcf,\\n      chr4_vcf = chr4_vcf,\\n      chr5_vcf = chr5_vcf,\\n      chr6_vcf = chr6_vcf,\\n      chr7_KI270803v1_alt_vcf = chr7_KI270803v1_alt_vcf,\\n      chr7_vcf = chr7_vcf,\\n      chr8_KI270821v1_alt_vcf = chr8_KI270821v1_alt_vcf,\\n      chr8_vcf = chr8_vcf,\\n      chr9_vcf = chr9_vcf,\\n      chrUn_KI270742v1_vcf = chrUn_KI270742v1_vcf,\\n      chrX_vcf = chrX_vcf,\\n      ref_dbsnp_142_b38_vcf_gz = ref_dbsnp_142_b38_vcf_gz,\\n      ref_dbsnp_142_b38_vcf_gz_tbi = ref_dbsnp_142_b38_vcf_gz_tbi,\\n      ref_dbsnp_All_vcf_gz = ref_dbsnp_All_vcf_gz,\\n      ref_dbsnp_All_vcf_gz_tbi = ref_dbsnp_All_vcf_gz_tbi,\\n      ref_hapmap_3_3_b38_sites_vcf_gz = ref_hapmap_3_3_b38_sites_vcf_gz,\\n      ref_hapmap_3_3_b38_sites_vcf_gz_tbi = ref_hapmap_3_3_b38_sites_vcf_gz_tbi,\\n      ref_hs38DH_bs_umfa = ref_hs38DH_bs_umfa,\\n      ref_hs38DH_dict = ref_hs38DH_dict,\\n      ref_hs38DH_fa = ref_hs38DH_fa,\\n      ref_hs38DH_fa_alt = ref_hs38DH_fa_alt,\\n      ref_hs38DH_fa_amb = ref_hs38DH_fa_amb,\\n      ref_hs38DH_fa_ann = ref_hs38DH_fa_ann,\\n      ref_hs38DH_fa_bwt = ref_hs38DH_fa_bwt,\\n      ref_hs38DH_fa_fai = ref_hs38DH_fa_fai,\\n      ref_hs38DH_fa_pac = ref_hs38DH_fa_pac,\\n      ref_hs38DH_fa_sa = ref_hs38DH_fa_sa,\\n      ref_hs38DH_winsize100_gc = ref_hs38DH_winsize100_gc\\n  }\\n\\n  call checker.checkerTask { \\n      input: \\n          inputTruthVCFFile = inputTruthVCFFile,\\n          inputTestVCFFile = variantcaller.topmed_variant_caller_output, \\n          docker_image = docker_image\\n  }\\n}\\n\\n',\n",
       "  u'workflow_params': {u'checkerWorkflow.chr10_vcf': u'gs://topmed_workflow_testing/topmed_variant_caller/reference_files/hg38/1kg.pilot_release.merged.indels.sites.hg38.chr10.vcf',\n",
       "   u'checkerWorkflow.chr11_KI270927v1_alt_vcf': u'gs://topmed_workflow_testing/topmed_variant_caller/reference_files/hg38/1kg.pilot_release.merged.indels.sites.hg38.chr11_KI270927v1_alt.vcf',\n",
       "   u'checkerWorkflow.chr11_vcf': u'gs://topmed_workflow_testing/topmed_variant_caller/reference_files/hg38/1kg.pilot_release.merged.indels.sites.hg38.chr11.vcf',\n",
       "   u'checkerWorkflow.chr12_vcf': u'gs://topmed_workflow_testing/topmed_variant_caller/reference_files/hg38/1kg.pilot_release.merged.indels.sites.hg38.chr12.vcf',\n",
       "   u'checkerWorkflow.chr13_vcf': u'gs://topmed_workflow_testing/topmed_variant_caller/reference_files/hg38/1kg.pilot_release.merged.indels.sites.hg38.chr13.vcf',\n",
       "   u'checkerWorkflow.chr14_GL000009v2_random_vcf': u'gs://topmed_workflow_testing/topmed_variant_caller/reference_files/hg38/1kg.pilot_release.merged.indels.sites.hg38.chr14_GL000009v2_random.vcf',\n",
       "   u'checkerWorkflow.chr14_KI270846v1_alt_vcf': u'gs://topmed_workflow_testing/topmed_variant_caller/reference_files/hg38/1kg.pilot_release.merged.indels.sites.hg38.chr14_KI270846v1_alt.vcf',\n",
       "   u'checkerWorkflow.chr14_vcf': u'gs://topmed_workflow_testing/topmed_variant_caller/reference_files/hg38/1kg.pilot_release.merged.indels.sites.hg38.chr14.vcf',\n",
       "   u'checkerWorkflow.chr15_vcf': u'gs://topmed_workflow_testing/topmed_variant_caller/reference_files/hg38/1kg.pilot_release.merged.indels.sites.hg38.chr15.vcf',\n",
       "   u'checkerWorkflow.chr16_vcf': u'gs://topmed_workflow_testing/topmed_variant_caller/reference_files/hg38/1kg.pilot_release.merged.indels.sites.hg38.chr16.vcf',\n",
       "   u'checkerWorkflow.chr17_KI270857v1_alt_vcf': u'gs://topmed_workflow_testing/topmed_variant_caller/reference_files/hg38/1kg.pilot_release.merged.indels.sites.hg38.chr17_KI270857v1_alt.vcf',\n",
       "   u'checkerWorkflow.chr17_KI270862v1_alt_vcf': u'gs://topmed_workflow_testing/topmed_variant_caller/reference_files/hg38/1kg.pilot_release.merged.indels.sites.hg38.chr17_KI270862v1_alt.vcf',\n",
       "   u'checkerWorkflow.chr17_KI270909v1_alt_vcf': u'gs://topmed_workflow_testing/topmed_variant_caller/reference_files/hg38/1kg.pilot_release.merged.indels.sites.hg38.chr17_KI270909v1_alt.vcf',\n",
       "   u'checkerWorkflow.chr17_vcf': u'gs://topmed_workflow_testing/topmed_variant_caller/reference_files/hg38/1kg.pilot_release.merged.indels.sites.hg38.chr17.vcf',\n",
       "   u'checkerWorkflow.chr18_vcf': u'gs://topmed_workflow_testing/topmed_variant_caller/reference_files/hg38/1kg.pilot_release.merged.indels.sites.hg38.chr18.vcf',\n",
       "   u'checkerWorkflow.chr19_KI270938v1_alt_vcf': u'gs://topmed_workflow_testing/topmed_variant_caller/reference_files/hg38/1kg.pilot_release.merged.indels.sites.hg38.chr19_KI270938v1_alt.vcf',\n",
       "   u'checkerWorkflow.chr19_vcf': u'gs://topmed_workflow_testing/topmed_variant_caller/reference_files/hg38/1kg.pilot_release.merged.indels.sites.hg38.chr19.vcf',\n",
       "   u'checkerWorkflow.chr1_KI270706v1_random_vcf': u'gs://topmed_workflow_testing/topmed_variant_caller/reference_files/hg38/1kg.pilot_release.merged.indels.sites.hg38.chr1_KI270706v1_random.vcf',\n",
       "   u'checkerWorkflow.chr1_KI270766v1_alt_vcf': u'gs://topmed_workflow_testing/topmed_variant_caller/reference_files/hg38/1kg.pilot_release.merged.indels.sites.hg38.chr1_KI270766v1_alt.vcf',\n",
       "   u'checkerWorkflow.chr1_vcf': u'gs://topmed_workflow_testing/topmed_variant_caller/reference_files/hg38/1kg.pilot_release.merged.indels.sites.hg38.chr1.vcf',\n",
       "   u'checkerWorkflow.chr20_vcf': u'gs://topmed_workflow_testing/topmed_variant_caller/reference_files/hg38/1kg.pilot_release.merged.indels.sites.hg38.chr20.vcf',\n",
       "   u'checkerWorkflow.chr21_vcf': u'gs://topmed_workflow_testing/topmed_variant_caller/reference_files/hg38/1kg.pilot_release.merged.indels.sites.hg38.chr21.vcf',\n",
       "   u'checkerWorkflow.chr22_KI270879v1_alt_vcf': u'gs://topmed_workflow_testing/topmed_variant_caller/reference_files/hg38/1kg.pilot_release.merged.indels.sites.hg38.chr22_KI270879v1_alt.vcf',\n",
       "   u'checkerWorkflow.chr22_KI270928v1_alt_vcf': u'gs://topmed_workflow_testing/topmed_variant_caller/reference_files/hg38/1kg.pilot_release.merged.indels.sites.hg38.chr22_KI270928v1_alt.vcf',\n",
       "   u'checkerWorkflow.chr22_vcf': u'gs://topmed_workflow_testing/topmed_variant_caller/reference_files/hg38/1kg.pilot_release.merged.indels.sites.hg38.chr22.vcf',\n",
       "   u'checkerWorkflow.chr2_KI270773v1_alt_vcf': u'gs://topmed_workflow_testing/topmed_variant_caller/reference_files/hg38/1kg.pilot_release.merged.indels.sites.hg38.chr2_KI270773v1_alt.vcf',\n",
       "   u'checkerWorkflow.chr2_KI270894v1_alt_vcf': u'gs://topmed_workflow_testing/topmed_variant_caller/reference_files/hg38/1kg.pilot_release.merged.indels.sites.hg38.chr2_KI270894v1_alt.vcf',\n",
       "   u'checkerWorkflow.chr2_vcf': u'gs://topmed_workflow_testing/topmed_variant_caller/reference_files/hg38/1kg.pilot_release.merged.indels.sites.hg38.chr2.vcf',\n",
       "   u'checkerWorkflow.chr3_vcf': u'gs://topmed_workflow_testing/topmed_variant_caller/reference_files/hg38/1kg.pilot_release.merged.indels.sites.hg38.chr3.vcf',\n",
       "   u'checkerWorkflow.chr4_GL000008v2_random_vcf': u'gs://topmed_workflow_testing/topmed_variant_caller/reference_files/hg38/1kg.pilot_release.merged.indels.sites.hg38.chr4_GL000008v2_random.vcf',\n",
       "   u'checkerWorkflow.chr4_vcf': u'gs://topmed_workflow_testing/topmed_variant_caller/reference_files/hg38/1kg.pilot_release.merged.indels.sites.hg38.chr4.vcf',\n",
       "   u'checkerWorkflow.chr5_vcf': u'gs://topmed_workflow_testing/topmed_variant_caller/reference_files/hg38/1kg.pilot_release.merged.indels.sites.hg38.chr5.vcf',\n",
       "   u'checkerWorkflow.chr6_vcf': u'gs://topmed_workflow_testing/topmed_variant_caller/reference_files/hg38/1kg.pilot_release.merged.indels.sites.hg38.chr6.vcf',\n",
       "   u'checkerWorkflow.chr7_KI270803v1_alt_vcf': u'gs://topmed_workflow_testing/topmed_variant_caller/reference_files/hg38/1kg.pilot_release.merged.indels.sites.hg38.chr7_KI270803v1_alt.vcf',\n",
       "   u'checkerWorkflow.chr7_vcf': u'gs://topmed_workflow_testing/topmed_variant_caller/reference_files/hg38/1kg.pilot_release.merged.indels.sites.hg38.chr7.vcf',\n",
       "   u'checkerWorkflow.chr8_KI270821v1_alt_vcf': u'gs://topmed_workflow_testing/topmed_variant_caller/reference_files/hg38/1kg.pilot_release.merged.indels.sites.hg38.chr8_KI270821v1_alt.vcf',\n",
       "   u'checkerWorkflow.chr8_vcf': u'gs://topmed_workflow_testing/topmed_variant_caller/reference_files/hg38/1kg.pilot_release.merged.indels.sites.hg38.chr8.vcf',\n",
       "   u'checkerWorkflow.chr9_vcf': u'gs://topmed_workflow_testing/topmed_variant_caller/reference_files/hg38/1kg.pilot_release.merged.indels.sites.hg38.chr9.vcf',\n",
       "   u'checkerWorkflow.chrUn_KI270742v1_vcf': u'gs://topmed_workflow_testing/topmed_variant_caller/reference_files/hg38/1kg.pilot_release.merged.indels.sites.hg38.chrUn_KI270742v1.vcf',\n",
       "   u'checkerWorkflow.chrX_vcf': u'gs://topmed_workflow_testing/topmed_variant_caller/reference_files/hg38/1kg.pilot_release.merged.indels.sites.hg38.chrX.vcf',\n",
       "   u'checkerWorkflow.docker_image': u'quay.io/ucsc_cgl/topmed_freeze3_calling:1.9.0',\n",
       "   u'checkerWorkflow.inputTruthVCFFile': u'gs://topmed_workflow_testing/topmed_variant_caller_checker/truth_topmed_variant_caller_NWD176325.0005_output.tar.gz',\n",
       "   u'checkerWorkflow.input_crai_files': [u'gs://topmed_workflow_testing/topmed_aligner/input_files/NWD176325.0005.recab.cram.crai'],\n",
       "   u'checkerWorkflow.input_cram_files': [u'gs://topmed_workflow_testing/topmed_aligner/input_files/NWD176325.0005.recab.cram'],\n",
       "   u'checkerWorkflow.ref_1000G_omni2_5_b38_sites_PASS_vcf_gz': u'gs://topmed_workflow_testing/topmed_variant_caller/reference_files/hg38/1000G_omni2.5.b38.sites.PASS.vcf.gz',\n",
       "   u'checkerWorkflow.ref_1000G_omni2_5_b38_sites_PASS_vcf_gz_tbi': u'gs://topmed_workflow_testing/topmed_variant_caller/reference_files/hg38/1000G_omni2.5.b38.sites.PASS.vcf.gz.tbi',\n",
       "   u'checkerWorkflow.ref_dbsnp_142_b38_vcf_gz': u'gs://topmed_workflow_testing/topmed_variant_caller/reference_files/hg38/dbsnp_142.b38.vcf.gz',\n",
       "   u'checkerWorkflow.ref_dbsnp_142_b38_vcf_gz_tbi': u'gs://topmed_workflow_testing/topmed_variant_caller/reference_files/hg38/dbsnp_142.b38.vcf.gz.tbi',\n",
       "   u'checkerWorkflow.ref_dbsnp_All_vcf_gz': u'gs://topmed_workflow_testing/topmed_variant_caller/reference_files/hg38/dbsnp.All.vcf.gz',\n",
       "   u'checkerWorkflow.ref_dbsnp_All_vcf_gz_tbi': u'gs://topmed_workflow_testing/topmed_variant_caller/reference_files/hg38/dbsnp.All.vcf.gz.tbi',\n",
       "   u'checkerWorkflow.ref_hapmap_3_3_b38_sites_vcf_gz': u'gs://topmed_workflow_testing/topmed_variant_caller/reference_files/hg38/hapmap_3.3.b38.sites.vcf.gz',\n",
       "   u'checkerWorkflow.ref_hapmap_3_3_b38_sites_vcf_gz_tbi': u'gs://topmed_workflow_testing/topmed_variant_caller/reference_files/hg38/hapmap_3.3.b38.sites.vcf.gz.tbi',\n",
       "   u'checkerWorkflow.ref_hs38DH_bs_umfa': u'gs://topmed_workflow_testing/topmed_variant_caller/reference_files/hg38/hs38DH-bs.umfa',\n",
       "   u'checkerWorkflow.ref_hs38DH_dict': u'gs://topmed_workflow_testing/topmed_variant_caller/reference_files/hg38/hs38DH.dict',\n",
       "   u'checkerWorkflow.ref_hs38DH_fa': u'gs://topmed_workflow_testing/topmed_variant_caller/reference_files/hg38/hs38DH.fa',\n",
       "   u'checkerWorkflow.ref_hs38DH_fa_alt': u'gs://topmed_workflow_testing/topmed_variant_caller/reference_files/hg38/hs38DH.fa.alt',\n",
       "   u'checkerWorkflow.ref_hs38DH_fa_amb': u'gs://topmed_workflow_testing/topmed_variant_caller/reference_files/hg38/hs38DH.fa.amb',\n",
       "   u'checkerWorkflow.ref_hs38DH_fa_ann': u'gs://topmed_workflow_testing/topmed_variant_caller/reference_files/hg38/hs38DH.fa.ann',\n",
       "   u'checkerWorkflow.ref_hs38DH_fa_bwt': u'gs://topmed_workflow_testing/topmed_variant_caller/reference_files/hg38/hs38DH.fa.bwt',\n",
       "   u'checkerWorkflow.ref_hs38DH_fa_fai': u'gs://topmed_workflow_testing/topmed_variant_caller/reference_files/hg38/hs38DH.fa.fai',\n",
       "   u'checkerWorkflow.ref_hs38DH_fa_pac': u'gs://topmed_workflow_testing/topmed_variant_caller/reference_files/hg38/hs38DH.fa.pac',\n",
       "   u'checkerWorkflow.ref_hs38DH_fa_sa': u'gs://topmed_workflow_testing/topmed_variant_caller/reference_files/hg38/hs38DH.fa.sa',\n",
       "   u'checkerWorkflow.ref_hs38DH_winsize100_gc': u'gs://topmed_workflow_testing/topmed_variant_caller/reference_files/hg38/hs38DH.winsize100.gc'},\n",
       "  u'workflow_type': u'WDL'},\n",
       " u'start_time': u'2018-05-25T02:33:29.788Z',\n",
       " u'state': u'COMPLETE',\n",
       " u'task_logs': [],\n",
       " u'workflow_id': u'cebafa4f-53d8-41a3-9925-700cb2c407c5',\n",
       " u'workflow_log': {u'cmd': [u''],\n",
       "  u'end_time': u'',\n",
       "  u'exit_code': 0,\n",
       "  u'name': u'',\n",
       "  u'start_time': u'',\n",
       "  u'stderr': u'',\n",
       "  u'stdout': u''}}"
      ]
     },
     "execution_count": 157,
     "metadata": {},
     "output_type": "execute_result"
    }
   ],
   "source": [
    "cromclient.get_workflow_run(r['workflow_id'])"
   ]
  },
  {
   "cell_type": "markdown",
   "metadata": {},
   "source": []
  }
 ],
 "metadata": {
  "kernelspec": {
   "display_name": "Python 2",
   "language": "python",
   "name": "python2"
  },
  "language_info": {
   "codemirror_mode": {
    "name": "ipython",
    "version": 2
   },
   "file_extension": ".py",
   "mimetype": "text/x-python",
   "name": "python",
   "nbconvert_exporter": "python",
   "pygments_lexer": "ipython2",
   "version": "2.7.15"
  }
 },
 "nbformat": 4,
 "nbformat_minor": 2
}
